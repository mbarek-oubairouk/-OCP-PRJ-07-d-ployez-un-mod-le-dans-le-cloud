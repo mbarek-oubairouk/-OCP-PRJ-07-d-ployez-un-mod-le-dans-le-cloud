{
 "cells": [
  {
   "cell_type": "markdown",
   "metadata": {
    "application/vnd.databricks.v1+cell": {
     "inputWidgets": {},
     "nuid": "8037444d-c5c7-4f27-aa13-4223aa56dbee",
     "showTitle": false,
     "title": ""
    }
   },
   "source": [
    "# P8 - Déployer un modèle dans le cloud"
   ]
  },
  {
   "attachments": {
    "image.png": {
     "image/png": "[encoded data removed]"
    }
   },
   "cell_type": "markdown",
   "metadata": {
    "application/vnd.databricks.v1+cell": {
     "inputWidgets": {},
     "nuid": "1b37ccc4-6846-4ac6-9601-d4abe288eeee",
     "showTitle": false,
     "title": ""
    }
   },
   "source": [
    "![image.png](attachment:image.png)"
   ]
  },
  {
   "cell_type": "markdown",
   "metadata": {
    "application/vnd.databricks.v1+cell": {
     "inputWidgets": {},
     "nuid": "0baa5811-143b-4a41-aa52-a6fb84ecce78",
     "showTitle": false,
     "title": ""
    }
   },
   "source": [
    "# P8_01_02 - CLOUD - Utilisation de AWS"
   ]
  },
  {
   "cell_type": "markdown",
   "metadata": {
    "application/vnd.databricks.v1+cell": {
     "inputWidgets": {},
     "nuid": "e47d2092-4169-40c1-b99b-29a7a40bb19d",
     "showTitle": false,
     "title": ""
    }
   },
   "source": [
    "Ce notebook traite de du chargement du jeu de données des images, du pré-processing, de la réduction de dimension et d'une mini classification pour des nouvelles images en utilisant l'outils **AWS** pour la partie \"**compute**\" (calculs distribués) et un **container de stockage S3** \"**EKS**\" pour l'orchestration."
   ]
  },
  {
   "cell_type": "markdown",
   "metadata": {
    "application/vnd.databricks.v1+cell": {
     "inputWidgets": {},
     "nuid": "36c436dc-9ad5-4e00-8486-e3dad5627d0a",
     "showTitle": false,
     "title": ""
    }
   },
   "source": [
    "## 1. Introduction\n",
    "\n",
    "*****\n",
    "**Mission**\n",
    "*****\n",
    "**Développer dans un environnement Big Data une première chaîne de traitement des données qui comprendra le preprocessing et une étape de réduction de dimension** pour une startup Fruits! de l'AgriTech pour mettre à disposition du grand public une application mobile qui permettrait aux utilisateurs de prendre en photo un fruit et d'obtenir des informations sur ce fruit.\n",
    "\n",
    "*****\n",
    "**Contraintes**\n",
    "*****\n",
    "- Le volume de données va augmenter très rapidement après la livraison de ce projet.\n",
    "- Développer des scripts en Pyspark.\n",
    "- Utiliser le cloud AWS ou autre (Microsoft Azure sera utilisé pour ce projet) pour profiter d’une architecture Big Data. \n",
    "\n",
    "*****\n",
    "**Sources**\n",
    "*****\n",
    "- [Jeu de données](https://www.kaggle.com/moltean/fruits) : constitué des images de fruits et des labels associés, qui pourra servir de point de départ pour construire une partie de la chaîne de traitement des données.\n",
    "\n",
    "**Information sur le jeu de données :**\n",
    "***\n",
    "\n",
    "- Nombre **total d'images** : **90483**.\n",
    "- Jeu de données **train set** : **67692** images (1 fruit ou 1 légumes par image).\n",
    "- Jeu de données **test set** : **22688**  images (1 fruit ou 1 légumes par image).\n",
    "- Nombre de **classes** : 131 (fruits ou légumes).\n",
    "- **Taille** des images : 100x100 pixels.\n",
    "- **Format du nom de fichier** : \n",
    "  - **imageindex100.jpg** (par exemple 32100.jpg),\n",
    "  - ou **rimageindex100.jpg** (par exemple r32100.jpg),\n",
    "  - ou **r2imageindex100.jpg**,\n",
    "  - ou **r3imageindex100.jpg**. \n",
    "     - ou \"r\" signifie que le fruit a subi une rotation,\n",
    "     - \"r2\" signifie que le fruit a été tourné autour du 3ème axe,\n",
    "     - \"100\" vient de la taille de l'image (100x100 pixels).\n",
    "- Exemples de classe : Apples (different varieties: Crimson Snow, Golden, Golden-Red, Granny Smith, Pink Lady, Red, Red Delicious), Apricot, Avocado, Avocado ripe, Banana (Yellow, Red, Lady Finger), Beetroot Red, Blueberry, Cactus fruit, Cantaloupe (2 varieties), Carambula, Cauliflower, Cherry (different varieties, Rainier), Cherry Wax (Yellow, Red, Black), Chestnut, Clementine, Cocos, Corn (with husk), Cucumber (ripened), Dates, Eggplant, Fig, Ginger Root, Granadilla, Grape (Blue, Pink, White (different varieties)), Grapefruit (Pink, White), Guava, Hazelnut, Huckleberry, Kiwi, Kaki, Kohlrabi, Kumsquats, Lemon (normal, Meyer), Lime, Lychee, Mandarine, Mango (Green, Red), Mangostan, Maracuja, Melon Piel de Sapo, Mulberry, Nectarine (Regular, Flat), Nut (Forest, Pecan), Onion (Red, White), Orange, Papaya, Passion fruit, Peach (different varieties), Pepino, Pear (different varieties, Abate, Forelle, Kaiser, Monster, Red, Stone, Williams), Pepper (Red, Green, Orange, Yellow), Physalis (normal, with Husk), Pineapple (normal, Mini), Pitahaya Red, Plum (different varieties), Pomegranate, Pomelo Sweetie, Potato (Red, Sweet, White), Quince, Rambutan, Raspberry, Redcurrant, Salak, Strawberry (normal, Wedge), Tamarillo, Tangelo, Tomato (different varieties, Maroon, Cherry Red, Yellow, not ripened, Heart), Walnut, Watermelon."
   ]
  },
  {
   "cell_type": "code",
   "execution_count": null,
   "metadata": {},
   "outputs": [],
   "source": [
    "# import os\n",
    "# import sys\n",
    "# spark_home = os.environ.get('SPARK_HOME', None)\n",
    "\n",
    "# sys.path.insert(0, os.path.join(spark_home, 'python'))\n",
    "# sys.path.insert(0, os.path.join(spark_home, 'python/lib/py4j-0.10.9.5-src.zip'))"
   ]
  },
  {
   "cell_type": "code",
   "execution_count": 1,
   "metadata": {},
   "outputs": [],
   "source": [
    "import findspark\n",
    "findspark.init()"
   ]
  },
  {
   "cell_type": "code",
   "execution_count": 4,
   "metadata": {
    "application/vnd.databricks.v1+cell": {
     "inputWidgets": {},
     "nuid": "bf07d3bf-5f3d-4755-b9f8-a656176f55be",
     "showTitle": false,
     "title": ""
    }
   },
   "outputs": [
    {
     "name": "stdout",
     "output_type": "stream",
     "text": [
      "Version des librairies utilisées :\n",
      "Python        : 3.9.2 (default, Feb 28 2021, 17:03:44) \n",
      "[GCC 10.2.1 20210110]\n",
      "tensorflow    : 2.11.0\n",
      "pyspark       : 3.3.1\n",
      "PIL           : 9.4.0\n",
      "Numpy         : 1.24.2\n",
      "Pandas        : 1.5.3\n",
      "Matplotlib    : 3.7.0\n",
      "Lancé le      : 2023-02-23T11:26:47.899292\n"
     ]
    }
   ],
   "source": [
    "# Chargement des librairies\n",
    "import os\n",
    "import sys\n",
    "import datetime\n",
    "import io\n",
    "os.environ['TF_CPP_MIN_LOG_LEVEL'] = '3'\n",
    "import warnings\n",
    "warnings.filterwarnings('ignore')\n",
    "\n",
    "import time\n",
    "from datetime import datetime\n",
    "import pandas as pd\n",
    "import numpy as np\n",
    "from typing import Iterator\n",
    "# Visualisation\n",
    "import matplotlib\n",
    "import matplotlib.pyplot as plt\n",
    "\n",
    "# Pyspark\n",
    "import pyspark\n",
    "from pyspark.sql.functions import element_at, split, col, pandas_udf, PandasUDFType, udf\n",
    "from pyspark.sql.types import StringType\n",
    "from pyspark.sql import SparkSession\n",
    "\n",
    "# Tensorflow Keras\n",
    "import tensorflow as tf\n",
    "from tensorflow.keras.applications.inception_v3 import InceptionV3, preprocess_input\n",
    "from tensorflow.keras.preprocessing.image import img_to_array, load_img\n",
    "\n",
    "# Gestion des images\n",
    "import PIL\n",
    "from PIL import Image\n",
    "\n",
    "# Taches ML\n",
    "from pyspark.ml.image import ImageSchema\n",
    "\n",
    "# Réduction de dimension - PCA\n",
    "from pyspark.ml.feature import PCA\n",
    "from pyspark.ml.feature import StandardScaler\n",
    "from pyspark.ml.linalg import Vectors, VectorUDT, DenseVector\n",
    "\n",
    "# Modélisation\n",
    "from pyspark.ml.feature import StringIndexer, VectorAssembler\n",
    "from pyspark.ml.classification import DecisionTreeClassifier, LogisticRegression, RandomForestClassifier, NaiveBayes\n",
    "from pyspark.ml.evaluation import MulticlassClassificationEvaluator\n",
    "from pyspark.ml import Pipeline\n",
    "\n",
    "# Matrice de confusion\n",
    "\n",
    "from pyspark.mllib.evaluation import MulticlassMetrics\n",
    "import itertools\n",
    "\n",
    "%matplotlib inline\n",
    "\n",
    "# Versions\n",
    "print('Version des librairies utilisées :')\n",
    "print('Python        : ' + sys.version)\n",
    "print('tensorflow    : ' + tf.__version__)\n",
    "print('pyspark       : ' + pyspark.__version__)\n",
    "print('PIL           : ' + PIL.__version__)\n",
    "print('Numpy         : ' + np.__version__)\n",
    "print('Pandas        : ' + pd.__version__)\n",
    "print('Matplotlib    : ' + matplotlib.__version__)\n",
    "now = datetime.now().isoformat()\n",
    "print('Lancé le      : ' + now)"
   ]
  },
  {
   "cell_type": "markdown",
   "metadata": {
    "application/vnd.databricks.v1+cell": {
     "inputWidgets": {},
     "nuid": "22487c8c-80e7-4b88-9d41-f24d80cbe4b2",
     "showTitle": false,
     "title": ""
    }
   },
   "source": [
    "## 2. Préparation des données du train set"
   ]
  },
  {
   "cell_type": "markdown",
   "metadata": {
    "application/vnd.databricks.v1+cell": {
     "inputWidgets": {},
     "nuid": "31479959-a854-4dce-8795-e6505071495a",
     "showTitle": false,
     "title": ""
    }
   },
   "source": [
    "### 2.1. Jeu de données train set - au format \"binaryFile\""
   ]
  },
  {
   "cell_type": "markdown",
   "metadata": {
    "application/vnd.databricks.v1+cell": {
     "inputWidgets": {},
     "nuid": "4564c3e0-723e-4c89-8c34-8e08c473435e",
     "showTitle": false,
     "title": ""
    }
   },
   "source": [
    "#### 2.2.1. Connection au bucket s3"
   ]
  },
  {
   "cell_type": "code",
   "execution_count": 6,
   "metadata": {
    "application/vnd.databricks.v1+cell": {
     "inputWidgets": {},
     "nuid": "50d96f87-931e-427a-bf40-92956435e818",
     "showTitle": false,
     "title": ""
    }
   },
   "outputs": [],
   "source": [
    "## Define the details of the SparkSession\n",
    "\n",
    "spark = SparkSession.builder.appName('FeatExtraction').getOrCreate()\n",
    "sc = spark.sparkContext.getOrCreate()\n",
    "hadoopConf = sc._jsc.hadoopConfiguration()\n",
    "hadoopConf.set(\"fs.s3a.access.key\", os.getenv('aws_key'))\n",
    "hadoopConf.set(\"fs.s3a.secret.key\", os.getenv('aws_secret'))\n",
    "hadoopConf.set(\"spark.jars.ivy\",\"/tmp/.ivy\") \n",
    "hadoopConf.set(\"spark.sql.execution.arrow.maxRecordsPerBatch\",\"1024\") \n",
    "hadoopConf.set(\"--conf spark.dynamicAllocation.enabled\",\"true \") \n",
    "hadoopConf.set(\"spark.dynamicAllocation.shuffleTracking.enabled\",\"true\")  \n",
    "hadoopConf.set(\"spark.dynamicAllocation.shuffleTracking.timeout\",\"600 \") \n",
    "hadoopConf.set(\"spark.dynamicAllocation.minExecutors\",\"2\") \n",
    "hadoopConf.set(\"spark.dynamicAllocation.maxExecutors\",\"2\") \n",
    "hadoopConf.set(\"spark.kubernetes.allocation.batch.size\",\"10\")  \n",
    "hadoopConf.set(\"spark.dynamicAllocation.executorAllocationRatio\",\"1\")  \n",
    "hadoopConf.set(\"spark.dynamicAllocation.schedulerBacklogTimeout\",\"1\")  \n",
    "hadoopConf.set(\"spark.driver.memory\",\"20G\")\n",
    "hadoopConf.set(\"spark.executor.memory\",\"5G\")  \n",
    "hadoopConf.set(\"spark.executor.cores\",\"2\")  \n",
    "hadoopConf.set(\"spark.sql.shuffle.partitions\",\"16\")  \n",
    "hadoopConf.set(\"spark.hadoop.mapreduce.outputcommitter.factory.scheme.s3a\",\"org.apache.hadoop.fs.s3a.commit.S3ACommitterFactory\") \n",
    "hadoopConf.set(\"spark.sql.sources.commitProtocolClass\",\"org.apache.spark.internal.io.cloud.PathOutputCommitProtocol\") \n"
   ]
  },
  {
   "cell_type": "markdown",
   "metadata": {
    "application/vnd.databricks.v1+cell": {
     "inputWidgets": {},
     "nuid": "d9c79a04-ac65-42d2-a168-2d4122a8d40a",
     "showTitle": false,
     "title": ""
    }
   },
   "source": [
    "#### 2.2.2. Chargement du jeu de données train set - au format \"binaryFile\""
   ]
  },
  {
   "cell_type": "markdown",
   "metadata": {
    "application/vnd.databricks.v1+cell": {
     "inputWidgets": {},
     "nuid": "44007df8-2966-4ba4-a467-05fd42e955f9",
     "showTitle": false,
     "title": ""
    }
   },
   "source": [
    "**Recommandation databricks** : \n",
    "\n",
    "Databricks recommande d’utiliser la source de données de fichier binaire pour charger des données d’image dans le tableau Spark en tant qu’octets bruts.\n",
    "\n",
    "[Source](https://docs.microsoft.com/fr-fr/azure/databricks/data/data-sources/image)\n",
    "\n",
    "***Note***:\n",
    "***\n",
    "Ce format sera ainsi utilisé pour la mise en production via s3."
   ]
  },
  {
   "cell_type": "code",
   "execution_count": 7,
   "metadata": {
    "application/vnd.databricks.v1+cell": {
     "inputWidgets": {},
     "nuid": "68848a44-6ac5-4aee-9239-74adbf534719",
     "showTitle": false,
     "title": ""
    }
   },
   "outputs": [],
   "source": [
    "# Chemin de stockage des images du jeu de données\n",
    "bucket_s3 = \"s3a://oc-mb-fruits\"\n",
    "\n",
    "path_output = f\"{bucket_s3}/output\"\n",
    "path_train_set = f\"{bucket_s3}/Training/[AB]*/*\""
   ]
  },
  {
   "cell_type": "code",
   "execution_count": 8,
   "metadata": {},
   "outputs": [
    {
     "name": "stdout",
     "output_type": "stream",
     "text": [
      "s3a://oc-mb-fruits/Training/[AB]*/*\n"
     ]
    }
   ],
   "source": [
    "print(path_train_set)"
   ]
  },
  {
   "cell_type": "code",
   "execution_count": 9,
   "metadata": {
    "application/vnd.databricks.v1+cell": {
     "inputWidgets": {},
     "nuid": "80438c6d-0926-43a1-abf0-968e1cb010b6",
     "showTitle": false,
     "title": ""
    }
   },
   "outputs": [
    {
     "name": "stdout",
     "output_type": "stream",
     "text": [
      "23/02/23 11:47:12 WARN MetricsConfig: Cannot locate configuration: tried hadoop-metrics2-s3a-file-system.properties,hadoop-metrics2.properties\n"
     ]
    },
    {
     "name": "stderr",
     "output_type": "stream",
     "text": [
      "                                                                                \r"
     ]
    }
   ],
   "source": [
    "# Chargement des images du train set au format \"binaryFile\"\n",
    "df_binary_train = spark.read.format(\"binaryFile\") \\\n",
    "  .option(\"pathGlobFilter\", \"*.jpg\") \\\n",
    "  .option(\"recursiveFileLookup\", \"true\") \\\n",
    "  .load(path_train_set)"
   ]
  },
  {
   "cell_type": "code",
   "execution_count": 10,
   "metadata": {
    "application/vnd.databricks.v1+cell": {
     "inputWidgets": {},
     "nuid": "14896de4-8980-4e2a-89ac-48780d26bb65",
     "showTitle": false,
     "title": ""
    }
   },
   "outputs": [
    {
     "name": "stdout",
     "output_type": "stream",
     "text": [
      "root\n",
      " |-- path: string (nullable = true)\n",
      " |-- modificationTime: timestamp (nullable = true)\n",
      " |-- length: long (nullable = true)\n",
      " |-- content: binary (nullable = true)\n",
      "\n"
     ]
    }
   ],
   "source": [
    "# Schéma ?\n",
    "df_binary_train.printSchema()"
   ]
  },
  {
   "cell_type": "code",
   "execution_count": 11,
   "metadata": {
    "application/vnd.databricks.v1+cell": {
     "inputWidgets": {},
     "nuid": "31808bfd-6bd1-469d-884e-2e968634117f",
     "showTitle": false,
     "title": ""
    }
   },
   "outputs": [
    {
     "name": "stderr",
     "output_type": "stream",
     "text": [
      "                                                                                \r"
     ]
    },
    {
     "data": {
      "text/plain": [
       "10156"
      ]
     },
     "execution_count": 11,
     "metadata": {},
     "output_type": "execute_result"
    }
   ],
   "source": [
    "# Nombre d'images?\n",
    "df_binary_train.count()"
   ]
  },
  {
   "cell_type": "code",
   "execution_count": 12,
   "metadata": {
    "application/vnd.databricks.v1+cell": {
     "inputWidgets": {},
     "nuid": "18929104-80e2-4f8e-ac7d-0ff3fadcb74a",
     "showTitle": false,
     "title": ""
    }
   },
   "outputs": [
    {
     "name": "stderr",
     "output_type": "stream",
     "text": [
      "                                                                                \r"
     ]
    },
    {
     "name": "stdout",
     "output_type": "stream",
     "text": [
      "+--------------------+-------------------+------+--------------------+\n",
      "|                path|   modificationTime|length|             content|\n",
      "+--------------------+-------------------+------+--------------------+\n",
      "|s3a://oc-mb-fruit...|2023-02-20 11:18:36|  5879|[FF D8 FF E0 00 1...|\n",
      "|s3a://oc-mb-fruit...|2023-02-20 11:18:36|  5865|[FF D8 FF E0 00 1...|\n",
      "|s3a://oc-mb-fruit...|2023-02-20 11:18:36|  5861|[FF D8 FF E0 00 1...|\n",
      "|s3a://oc-mb-fruit...|2023-02-20 11:18:36|  5856|[FF D8 FF E0 00 1...|\n",
      "|s3a://oc-mb-fruit...|2023-02-20 11:18:36|  5856|[FF D8 FF E0 00 1...|\n",
      "|s3a://oc-mb-fruit...|2023-02-20 11:21:01|  5856|[FF D8 FF E0 00 1...|\n",
      "|s3a://oc-mb-fruit...|2023-02-20 11:18:36|  5847|[FF D8 FF E0 00 1...|\n",
      "|s3a://oc-mb-fruit...|2023-02-20 11:18:36|  5847|[FF D8 FF E0 00 1...|\n",
      "|s3a://oc-mb-fruit...|2023-02-20 11:18:36|  5846|[FF D8 FF E0 00 1...|\n",
      "|s3a://oc-mb-fruit...|2023-02-20 11:18:36|  5844|[FF D8 FF E0 00 1...|\n",
      "|s3a://oc-mb-fruit...|2023-02-20 11:18:36|  5844|[FF D8 FF E0 00 1...|\n",
      "|s3a://oc-mb-fruit...|2023-02-20 11:18:36|  5843|[FF D8 FF E0 00 1...|\n",
      "|s3a://oc-mb-fruit...|2023-02-20 11:18:36|  5843|[FF D8 FF E0 00 1...|\n",
      "|s3a://oc-mb-fruit...|2023-02-20 11:18:36|  5841|[FF D8 FF E0 00 1...|\n",
      "|s3a://oc-mb-fruit...|2023-02-20 11:18:36|  5841|[FF D8 FF E0 00 1...|\n",
      "|s3a://oc-mb-fruit...|2023-02-20 11:18:32|  5840|[FF D8 FF E0 00 1...|\n",
      "|s3a://oc-mb-fruit...|2023-02-20 11:18:36|  5840|[FF D8 FF E0 00 1...|\n",
      "|s3a://oc-mb-fruit...|2023-02-20 11:18:36|  5839|[FF D8 FF E0 00 1...|\n",
      "|s3a://oc-mb-fruit...|2023-02-20 11:18:36|  5834|[FF D8 FF E0 00 1...|\n",
      "|s3a://oc-mb-fruit...|2023-02-20 11:18:36|  5834|[FF D8 FF E0 00 1...|\n",
      "+--------------------+-------------------+------+--------------------+\n",
      "only showing top 20 rows\n",
      "\n"
     ]
    }
   ],
   "source": [
    "# Visualisation des 20 premières images\n",
    "df_binary_train.show()"
   ]
  },
  {
   "cell_type": "markdown",
   "metadata": {
    "application/vnd.databricks.v1+cell": {
     "inputWidgets": {},
     "nuid": "22801b56-cb44-495e-a5df-217fb38fe99a",
     "showTitle": false,
     "title": ""
    }
   },
   "source": [
    "#### 2.2.2. Labellisation - extraction de la classe de l'image"
   ]
  },
  {
   "cell_type": "markdown",
   "metadata": {
    "application/vnd.databricks.v1+cell": {
     "inputWidgets": {},
     "nuid": "e97ee129-8d89-4972-a4f1-da1d10338bcb",
     "showTitle": false,
     "title": ""
    }
   },
   "source": [
    "- La classe de l'image traitée est définie dans le nom du répertoire de l'image.\n",
    "- Exemple : répertoire : s3:s3://oc-mb-fruits/Training/**Onion-Red**/43_100.jpg ==> **classe='Onion-Red'**."
   ]
  },
  {
   "cell_type": "code",
   "execution_count": 13,
   "metadata": {
    "application/vnd.databricks.v1+cell": {
     "inputWidgets": {},
     "nuid": "27734f8f-acb2-4f75-806f-aeb3c382c1a5",
     "showTitle": false,
     "title": ""
    }
   },
   "outputs": [],
   "source": [
    "# Ajout dans la colonne Classe pour chaque image traitée de l'avant dernier\n",
    "# élément du nom du répertoire de stockage de l'image==>df_binary_train[\"path\"]\n",
    "df_binary_train = df_binary_train.withColumn(\"Classe\", element_at(split(df_binary_train[\"path\"], \"/\"), -2))"
   ]
  },
  {
   "cell_type": "code",
   "execution_count": 14,
   "metadata": {
    "application/vnd.databricks.v1+cell": {
     "inputWidgets": {},
     "nuid": "a43aebe2-bc74-4a9c-8c47-ed58f3c33855",
     "showTitle": false,
     "title": ""
    }
   },
   "outputs": [
    {
     "name": "stdout",
     "output_type": "stream",
     "text": [
      "root\n",
      " |-- path: string (nullable = true)\n",
      " |-- modificationTime: timestamp (nullable = true)\n",
      " |-- length: long (nullable = true)\n",
      " |-- content: binary (nullable = true)\n",
      " |-- Classe: string (nullable = true)\n",
      "\n"
     ]
    }
   ],
   "source": [
    "# Schéma ?\n",
    "df_binary_train.printSchema()"
   ]
  },
  {
   "cell_type": "code",
   "execution_count": 15,
   "metadata": {
    "application/vnd.databricks.v1+cell": {
     "inputWidgets": {},
     "nuid": "b0e3f822-0694-4fe3-8874-250ae6fac7de",
     "showTitle": false,
     "title": ""
    }
   },
   "outputs": [
    {
     "name": "stderr",
     "output_type": "stream",
     "text": [
      "\r\n",
      "[Stage 5:>                                                          (0 + 1) / 1]\r"
     ]
    },
    {
     "name": "stdout",
     "output_type": "stream",
     "text": [
      "+--------------------+-------------------+------+--------------------+------------------+\n",
      "|                path|   modificationTime|length|             content|            Classe|\n",
      "+--------------------+-------------------+------+--------------------+------------------+\n",
      "|s3a://oc-mb-fruit...|2023-02-20 11:18:36|  5879|[FF D8 FF E0 00 1...|    Apple Golden 1|\n",
      "|s3a://oc-mb-fruit...|2023-02-20 11:18:36|  5865|[FF D8 FF E0 00 1...|    Apple Golden 1|\n",
      "|s3a://oc-mb-fruit...|2023-02-20 11:18:36|  5861|[FF D8 FF E0 00 1...|    Apple Golden 1|\n",
      "|s3a://oc-mb-fruit...|2023-02-20 11:18:36|  5856|[FF D8 FF E0 00 1...|    Apple Golden 1|\n",
      "|s3a://oc-mb-fruit...|2023-02-20 11:18:36|  5856|[FF D8 FF E0 00 1...|    Apple Golden 1|\n",
      "|s3a://oc-mb-fruit...|2023-02-20 11:21:01|  5856|[FF D8 FF E0 00 1...|Apple Red Yellow 1|\n",
      "|s3a://oc-mb-fruit...|2023-02-20 11:18:36|  5847|[FF D8 FF E0 00 1...|    Apple Golden 1|\n",
      "|s3a://oc-mb-fruit...|2023-02-20 11:18:36|  5847|[FF D8 FF E0 00 1...|    Apple Golden 1|\n",
      "|s3a://oc-mb-fruit...|2023-02-20 11:18:36|  5846|[FF D8 FF E0 00 1...|    Apple Golden 1|\n",
      "|s3a://oc-mb-fruit...|2023-02-20 11:18:36|  5844|[FF D8 FF E0 00 1...|    Apple Golden 1|\n",
      "|s3a://oc-mb-fruit...|2023-02-20 11:18:36|  5844|[FF D8 FF E0 00 1...|    Apple Golden 1|\n",
      "|s3a://oc-mb-fruit...|2023-02-20 11:18:36|  5843|[FF D8 FF E0 00 1...|    Apple Golden 1|\n",
      "|s3a://oc-mb-fruit...|2023-02-20 11:18:36|  5843|[FF D8 FF E0 00 1...|    Apple Golden 1|\n",
      "|s3a://oc-mb-fruit...|2023-02-20 11:18:36|  5841|[FF D8 FF E0 00 1...|    Apple Golden 1|\n",
      "|s3a://oc-mb-fruit...|2023-02-20 11:18:36|  5841|[FF D8 FF E0 00 1...|    Apple Golden 1|\n",
      "|s3a://oc-mb-fruit...|2023-02-20 11:18:32|  5840|[FF D8 FF E0 00 1...|    Apple Golden 1|\n",
      "|s3a://oc-mb-fruit...|2023-02-20 11:18:36|  5840|[FF D8 FF E0 00 1...|    Apple Golden 1|\n",
      "|s3a://oc-mb-fruit...|2023-02-20 11:18:36|  5839|[FF D8 FF E0 00 1...|    Apple Golden 1|\n",
      "|s3a://oc-mb-fruit...|2023-02-20 11:18:36|  5834|[FF D8 FF E0 00 1...|    Apple Golden 1|\n",
      "|s3a://oc-mb-fruit...|2023-02-20 11:18:36|  5834|[FF D8 FF E0 00 1...|    Apple Golden 1|\n",
      "+--------------------+-------------------+------+--------------------+------------------+\n",
      "only showing top 20 rows\n",
      "\n"
     ]
    },
    {
     "name": "stderr",
     "output_type": "stream",
     "text": [
      "\r\n",
      "                                                                                \r"
     ]
    }
   ],
   "source": [
    "# Visualisation des 20 premières images avec la classe\n",
    "df_binary_train.show()"
   ]
  },
  {
   "cell_type": "markdown",
   "metadata": {
    "application/vnd.databricks.v1+cell": {
     "inputWidgets": {},
     "nuid": "8ddc5de5-ce8c-46aa-ae24-65513a05e287",
     "showTitle": false,
     "title": ""
    }
   },
   "source": [
    "## 3. Extraction des features importantes pour chaque image"
   ]
  },
  {
   "cell_type": "markdown",
   "metadata": {
    "application/vnd.databricks.v1+cell": {
     "inputWidgets": {},
     "nuid": "f5c2a707-6085-4e8d-b0a6-54746460aadd",
     "showTitle": false,
     "title": ""
    }
   },
   "source": [
    "- Comme vu lors du projet 6, l'extraction des features par transfert learning donne des résultats plus performants que les méthodes anciennes (ORB, SIFT). \n",
    "- Nous allons donc extraire les features les plus importantes pour la classification de nos images en utilisant un modèle **[InceptionV3](https://www.researchgate.net/figure/Schematic-diagram-of-the-Inception-v3-model-based-on-convolutional-neural-networks_fig3_337200783)** de deep learning pré-entrainé sur de la classification d'images.\n",
    "- Comme le but de ce projet n'est pas d'effectuer la classification; La dernière couche (softmax), qui effectue la classification, est supprimée à l'aide du paramètre (include_top=False). Cela nous permettra de choisir un modèle de classification adapté à nos classes."
   ]
  },
  {
   "cell_type": "markdown",
   "metadata": {
    "application/vnd.databricks.v1+cell": {
     "inputWidgets": {},
     "nuid": "e0eb3706-8029-4603-9dfb-f15d94211f63",
     "showTitle": false,
     "title": ""
    }
   },
   "source": [
    "### 3.1. Préparation du dataframe de travail"
   ]
  },
  {
   "cell_type": "markdown",
   "metadata": {
    "application/vnd.databricks.v1+cell": {
     "inputWidgets": {},
     "nuid": "16c46c47-356e-4703-a866-09fc03dba5ed",
     "showTitle": false,
     "title": ""
    }
   },
   "source": [
    "Le dataframe de travail sera composé des colonnes utiles à partir du dataframe des images binaires :\n",
    "- le répertoire de stockage de l'image (colonne path),\n",
    "- le label (colonne Classe) de chaque image,\n",
    "- les features les plus importantes ajoutées après exécution du modèle (étape 3.3.)."
   ]
  },
  {
   "cell_type": "code",
   "execution_count": 16,
   "metadata": {
    "application/vnd.databricks.v1+cell": {
     "inputWidgets": {},
     "nuid": "91140e63-8970-4cb4-abb8-a8821dc923d1",
     "showTitle": false,
     "title": ""
    }
   },
   "outputs": [
    {
     "name": "stdout",
     "output_type": "stream",
     "text": [
      "+--------------------+------------------+\n",
      "|                path|            Classe|\n",
      "+--------------------+------------------+\n",
      "|s3a://oc-mb-fruit...|    Apple Golden 1|\n",
      "|s3a://oc-mb-fruit...|    Apple Golden 1|\n",
      "|s3a://oc-mb-fruit...|    Apple Golden 1|\n",
      "|s3a://oc-mb-fruit...|    Apple Golden 1|\n",
      "|s3a://oc-mb-fruit...|    Apple Golden 1|\n",
      "|s3a://oc-mb-fruit...|Apple Red Yellow 1|\n",
      "|s3a://oc-mb-fruit...|    Apple Golden 1|\n",
      "|s3a://oc-mb-fruit...|    Apple Golden 1|\n",
      "|s3a://oc-mb-fruit...|    Apple Golden 1|\n",
      "|s3a://oc-mb-fruit...|    Apple Golden 1|\n",
      "|s3a://oc-mb-fruit...|    Apple Golden 1|\n",
      "|s3a://oc-mb-fruit...|    Apple Golden 1|\n",
      "|s3a://oc-mb-fruit...|    Apple Golden 1|\n",
      "|s3a://oc-mb-fruit...|    Apple Golden 1|\n",
      "|s3a://oc-mb-fruit...|    Apple Golden 1|\n",
      "|s3a://oc-mb-fruit...|    Apple Golden 1|\n",
      "|s3a://oc-mb-fruit...|    Apple Golden 1|\n",
      "|s3a://oc-mb-fruit...|    Apple Golden 1|\n",
      "|s3a://oc-mb-fruit...|    Apple Golden 1|\n",
      "|s3a://oc-mb-fruit...|    Apple Golden 1|\n",
      "+--------------------+------------------+\n",
      "only showing top 20 rows\n",
      "\n"
     ]
    }
   ],
   "source": [
    "df_images = df_binary_train.select(\"path\", \"Classe\")\n",
    "df_images.show()"
   ]
  },
  {
   "cell_type": "markdown",
   "metadata": {
    "application/vnd.databricks.v1+cell": {
     "inputWidgets": {},
     "nuid": "40bf56e0-2bbd-47a2-a63c-b8c71f0c15db",
     "showTitle": false,
     "title": ""
    }
   },
   "source": [
    "### 3.2. Préparation du modèle InceptionV3"
   ]
  },
  {
   "cell_type": "markdown",
   "metadata": {
    "application/vnd.databricks.v1+cell": {
     "inputWidgets": {},
     "nuid": "cca52f0c-3b99-43f2-83f2-d77255125a3b",
     "showTitle": false,
     "title": ""
    }
   },
   "source": [
    "Utilisation de la technique de transfert learning pour extraire les features de chaque image avec le modèle **[InceptionV3](https://keras.io/api/applications/inceptionv3/)** de la librairie Keras de tensorflow avec l'aide des recommandations de databricks sur l'utilisation du transfert learning."
   ]
  },
  {
   "cell_type": "markdown",
   "metadata": {
    "application/vnd.databricks.v1+cell": {
     "inputWidgets": {},
     "nuid": "dbf40e8b-d122-46fe-9151-7b89b03c9224",
     "showTitle": false,
     "title": ""
    }
   },
   "source": [
    "***Note : Recommandation de databricks***\n",
    "***\n",
    "- Pandas UDFs on large records (e.g., very large images) can run into Out Of Memory (OOM) errors.\n",
    "If you hit such errors in the cell below, try reducing the Arrow batch size via `maxRecordsPerBatch`.\n",
    "`spark.conf.set(\"spark.sql.execution.arrow.maxRecordsPerBatch\", \"1024\")`\n",
    "- Pour les modèles de taille modérée (< 1 Go, c'est le cas de notre projet), une bonne pratique consiste à télécharger le modèle vers le pilote Spark, puis à diffuser les poids aux travailleurs. Ce notebook utilise cette approche.\n",
    "`bc_model_weights = sc.broadcast(model.get_weights())`\n",
    "`model.set_weights(bc_model_weights.value)`\n",
    "\n",
    "[Source](https://docs.databricks.com/_static/notebooks/deep-learning/deep-learning-transfer-learning-keras.html)"
   ]
  },
  {
   "cell_type": "code",
   "execution_count": 17,
   "metadata": {
    "application/vnd.databricks.v1+cell": {
     "inputWidgets": {},
     "nuid": "47d14154-ba43-42c0-ad71-8e075f9de436",
     "showTitle": false,
     "title": ""
    }
   },
   "outputs": [],
   "source": [
    "# Instanciation du modèle\n",
    "model = InceptionV3(\n",
    "        include_top=False,  # Couche softmax de classification supprimée\n",
    "        weights=None,  # Poids pré-entraînés sur Imagenet\n",
    "        input_shape=(100,100,3), # Image de taille 100x100 en couleur (channel=3)\n",
    "        pooling='max' # Utilisation du max de pooling\n",
    ")\n",
    "\n",
    "# chargement des poids du modèle inception_v3_weights_tf_dim_ordering_tf_kernels_notop.h5\n",
    "poids_model = \"/opt/spark/work-dir/app/model/inception-v3-weights-tf-dim-ordering-tf-kernels-notop.h5\"\n",
    "model.load_weights(poids_model)"
   ]
  },
  {
   "cell_type": "code",
   "execution_count": 18,
   "metadata": {
    "application/vnd.databricks.v1+cell": {
     "inputWidgets": {},
     "nuid": "0221e447-5292-48b0-82c7-79f31695981f",
     "showTitle": false,
     "title": ""
    }
   },
   "outputs": [
    {
     "name": "stdout",
     "output_type": "stream",
     "text": [
      "Model: \"inception_v3\"\n",
      "__________________________________________________________________________________________________\n",
      " Layer (type)                   Output Shape         Param #     Connected to                     \n",
      "==================================================================================================\n",
      " input_1 (InputLayer)           [(None, 100, 100, 3  0           []                               \n",
      "                                )]                                                                \n",
      "                                                                                                  \n",
      " conv2d (Conv2D)                (None, 49, 49, 32)   864         ['input_1[0][0]']                \n",
      "                                                                                                  \n",
      " batch_normalization (BatchNorm  (None, 49, 49, 32)  96          ['conv2d[0][0]']                 \n",
      " alization)                                                                                       \n",
      "                                                                                                  \n",
      " activation (Activation)        (None, 49, 49, 32)   0           ['batch_normalization[0][0]']    \n",
      "                                                                                                  \n",
      " conv2d_1 (Conv2D)              (None, 47, 47, 32)   9216        ['activation[0][0]']             \n",
      "                                                                                                  \n",
      " batch_normalization_1 (BatchNo  (None, 47, 47, 32)  96          ['conv2d_1[0][0]']               \n",
      " rmalization)                                                                                     \n",
      "                                                                                                  \n",
      " activation_1 (Activation)      (None, 47, 47, 32)   0           ['batch_normalization_1[0][0]']  \n",
      "                                                                                                  \n",
      " conv2d_2 (Conv2D)              (None, 47, 47, 64)   18432       ['activation_1[0][0]']           \n",
      "                                                                                                  \n",
      " batch_normalization_2 (BatchNo  (None, 47, 47, 64)  192         ['conv2d_2[0][0]']               \n",
      " rmalization)                                                                                     \n",
      "                                                                                                  \n",
      " activation_2 (Activation)      (None, 47, 47, 64)   0           ['batch_normalization_2[0][0]']  \n",
      "                                                                                                  \n",
      " max_pooling2d (MaxPooling2D)   (None, 23, 23, 64)   0           ['activation_2[0][0]']           \n",
      "                                                                                                  \n",
      " conv2d_3 (Conv2D)              (None, 23, 23, 80)   5120        ['max_pooling2d[0][0]']          \n",
      "                                                                                                  \n",
      " batch_normalization_3 (BatchNo  (None, 23, 23, 80)  240         ['conv2d_3[0][0]']               \n",
      " rmalization)                                                                                     \n",
      "                                                                                                  \n",
      " activation_3 (Activation)      (None, 23, 23, 80)   0           ['batch_normalization_3[0][0]']  \n",
      "                                                                                                  \n",
      " conv2d_4 (Conv2D)              (None, 21, 21, 192)  138240      ['activation_3[0][0]']           \n",
      "                                                                                                  \n",
      " batch_normalization_4 (BatchNo  (None, 21, 21, 192)  576        ['conv2d_4[0][0]']               \n",
      " rmalization)                                                                                     \n",
      "                                                                                                  \n",
      " activation_4 (Activation)      (None, 21, 21, 192)  0           ['batch_normalization_4[0][0]']  \n",
      "                                                                                                  \n",
      " max_pooling2d_1 (MaxPooling2D)  (None, 10, 10, 192)  0          ['activation_4[0][0]']           \n",
      "                                                                                                  \n",
      " conv2d_8 (Conv2D)              (None, 10, 10, 64)   12288       ['max_pooling2d_1[0][0]']        \n",
      "                                                                                                  \n",
      " batch_normalization_8 (BatchNo  (None, 10, 10, 64)  192         ['conv2d_8[0][0]']               \n",
      " rmalization)                                                                                     \n",
      "                                                                                                  \n",
      " activation_8 (Activation)      (None, 10, 10, 64)   0           ['batch_normalization_8[0][0]']  \n",
      "                                                                                                  \n",
      " conv2d_6 (Conv2D)              (None, 10, 10, 48)   9216        ['max_pooling2d_1[0][0]']        \n",
      "                                                                                                  \n",
      " conv2d_9 (Conv2D)              (None, 10, 10, 96)   55296       ['activation_8[0][0]']           \n",
      "                                                                                                  \n",
      " batch_normalization_6 (BatchNo  (None, 10, 10, 48)  144         ['conv2d_6[0][0]']               \n",
      " rmalization)                                                                                     \n",
      "                                                                                                  \n",
      " batch_normalization_9 (BatchNo  (None, 10, 10, 96)  288         ['conv2d_9[0][0]']               \n",
      " rmalization)                                                                                     \n",
      "                                                                                                  \n",
      " activation_6 (Activation)      (None, 10, 10, 48)   0           ['batch_normalization_6[0][0]']  \n",
      "                                                                                                  \n",
      " activation_9 (Activation)      (None, 10, 10, 96)   0           ['batch_normalization_9[0][0]']  \n",
      "                                                                                                  \n",
      " average_pooling2d (AveragePool  (None, 10, 10, 192)  0          ['max_pooling2d_1[0][0]']        \n",
      " ing2D)                                                                                           \n",
      "                                                                                                  \n",
      " conv2d_5 (Conv2D)              (None, 10, 10, 64)   12288       ['max_pooling2d_1[0][0]']        \n",
      "                                                                                                  \n",
      " conv2d_7 (Conv2D)              (None, 10, 10, 64)   76800       ['activation_6[0][0]']           \n",
      "                                                                                                  \n",
      " conv2d_10 (Conv2D)             (None, 10, 10, 96)   82944       ['activation_9[0][0]']           \n",
      "                                                                                                  \n",
      " conv2d_11 (Conv2D)             (None, 10, 10, 32)   6144        ['average_pooling2d[0][0]']      \n",
      "                                                                                                  \n",
      " batch_normalization_5 (BatchNo  (None, 10, 10, 64)  192         ['conv2d_5[0][0]']               \n",
      " rmalization)                                                                                     \n",
      "                                                                                                  \n",
      " batch_normalization_7 (BatchNo  (None, 10, 10, 64)  192         ['conv2d_7[0][0]']               \n",
      " rmalization)                                                                                     \n",
      "                                                                                                  \n"
     ]
    },
    {
     "name": "stdout",
     "output_type": "stream",
     "text": [
      " batch_normalization_10 (BatchN  (None, 10, 10, 96)  288         ['conv2d_10[0][0]']              \n",
      " ormalization)                                                                                    \n",
      "                                                                                                  \n",
      " batch_normalization_11 (BatchN  (None, 10, 10, 32)  96          ['conv2d_11[0][0]']              \n",
      " ormalization)                                                                                    \n",
      "                                                                                                  \n",
      " activation_5 (Activation)      (None, 10, 10, 64)   0           ['batch_normalization_5[0][0]']  \n",
      "                                                                                                  \n",
      " activation_7 (Activation)      (None, 10, 10, 64)   0           ['batch_normalization_7[0][0]']  \n",
      "                                                                                                  \n",
      " activation_10 (Activation)     (None, 10, 10, 96)   0           ['batch_normalization_10[0][0]'] \n",
      "                                                                                                  \n",
      " activation_11 (Activation)     (None, 10, 10, 32)   0           ['batch_normalization_11[0][0]'] \n",
      "                                                                                                  \n",
      " mixed0 (Concatenate)           (None, 10, 10, 256)  0           ['activation_5[0][0]',           \n",
      "                                                                  'activation_7[0][0]',           \n",
      "                                                                  'activation_10[0][0]',          \n",
      "                                                                  'activation_11[0][0]']          \n",
      "                                                                                                  \n",
      " conv2d_15 (Conv2D)             (None, 10, 10, 64)   16384       ['mixed0[0][0]']                 \n",
      "                                                                                                  \n",
      " batch_normalization_15 (BatchN  (None, 10, 10, 64)  192         ['conv2d_15[0][0]']              \n",
      " ormalization)                                                                                    \n",
      "                                                                                                  \n",
      " activation_15 (Activation)     (None, 10, 10, 64)   0           ['batch_normalization_15[0][0]'] \n",
      "                                                                                                  \n",
      " conv2d_13 (Conv2D)             (None, 10, 10, 48)   12288       ['mixed0[0][0]']                 \n",
      "                                                                                                  \n",
      " conv2d_16 (Conv2D)             (None, 10, 10, 96)   55296       ['activation_15[0][0]']          \n",
      "                                                                                                  \n",
      " batch_normalization_13 (BatchN  (None, 10, 10, 48)  144         ['conv2d_13[0][0]']              \n",
      " ormalization)                                                                                    \n",
      "                                                                                                  \n",
      " batch_normalization_16 (BatchN  (None, 10, 10, 96)  288         ['conv2d_16[0][0]']              \n",
      " ormalization)                                                                                    \n",
      "                                                                                                  \n",
      " activation_13 (Activation)     (None, 10, 10, 48)   0           ['batch_normalization_13[0][0]'] \n",
      "                                                                                                  \n",
      " activation_16 (Activation)     (None, 10, 10, 96)   0           ['batch_normalization_16[0][0]'] \n",
      "                                                                                                  \n",
      " average_pooling2d_1 (AveragePo  (None, 10, 10, 256)  0          ['mixed0[0][0]']                 \n",
      " oling2D)                                                                                         \n",
      "                                                                                                  \n",
      " conv2d_12 (Conv2D)             (None, 10, 10, 64)   16384       ['mixed0[0][0]']                 \n",
      "                                                                                                  \n",
      " conv2d_14 (Conv2D)             (None, 10, 10, 64)   76800       ['activation_13[0][0]']          \n",
      "                                                                                                  \n",
      " conv2d_17 (Conv2D)             (None, 10, 10, 96)   82944       ['activation_16[0][0]']          \n",
      "                                                                                                  \n",
      " conv2d_18 (Conv2D)             (None, 10, 10, 64)   16384       ['average_pooling2d_1[0][0]']    \n",
      "                                                                                                  \n",
      " batch_normalization_12 (BatchN  (None, 10, 10, 64)  192         ['conv2d_12[0][0]']              \n",
      " ormalization)                                                                                    \n",
      "                                                                                                  \n",
      " batch_normalization_14 (BatchN  (None, 10, 10, 64)  192         ['conv2d_14[0][0]']              \n",
      " ormalization)                                                                                    \n",
      "                                                                                                  \n",
      " batch_normalization_17 (BatchN  (None, 10, 10, 96)  288         ['conv2d_17[0][0]']              \n",
      " ormalization)                                                                                    \n",
      "                                                                                                  \n",
      " batch_normalization_18 (BatchN  (None, 10, 10, 64)  192         ['conv2d_18[0][0]']              \n",
      " ormalization)                                                                                    \n",
      "                                                                                                  \n",
      " activation_12 (Activation)     (None, 10, 10, 64)   0           ['batch_normalization_12[0][0]'] \n",
      "                                                                                                  \n",
      " activation_14 (Activation)     (None, 10, 10, 64)   0           ['batch_normalization_14[0][0]'] \n",
      "                                                                                                  \n",
      " activation_17 (Activation)     (None, 10, 10, 96)   0           ['batch_normalization_17[0][0]'] \n",
      "                                                                                                  \n",
      " activation_18 (Activation)     (None, 10, 10, 64)   0           ['batch_normalization_18[0][0]'] \n",
      "                                                                                                  \n",
      " mixed1 (Concatenate)           (None, 10, 10, 288)  0           ['activation_12[0][0]',          \n",
      "                                                                  'activation_14[0][0]',          \n",
      "                                                                  'activation_17[0][0]',          \n",
      "                                                                  'activation_18[0][0]']          \n",
      "                                                                                                  \n",
      " conv2d_22 (Conv2D)             (None, 10, 10, 64)   18432       ['mixed1[0][0]']                 \n",
      "                                                                                                  \n",
      " batch_normalization_22 (BatchN  (None, 10, 10, 64)  192         ['conv2d_22[0][0]']              \n",
      " ormalization)                                                                                    \n",
      "                                                                                                  \n",
      " activation_22 (Activation)     (None, 10, 10, 64)   0           ['batch_normalization_22[0][0]'] \n",
      "                                                                                                  \n"
     ]
    },
    {
     "name": "stdout",
     "output_type": "stream",
     "text": [
      " conv2d_20 (Conv2D)             (None, 10, 10, 48)   13824       ['mixed1[0][0]']                 \n",
      "                                                                                                  \n",
      " conv2d_23 (Conv2D)             (None, 10, 10, 96)   55296       ['activation_22[0][0]']          \n",
      "                                                                                                  \n",
      " batch_normalization_20 (BatchN  (None, 10, 10, 48)  144         ['conv2d_20[0][0]']              \n",
      " ormalization)                                                                                    \n",
      "                                                                                                  \n",
      " batch_normalization_23 (BatchN  (None, 10, 10, 96)  288         ['conv2d_23[0][0]']              \n",
      " ormalization)                                                                                    \n",
      "                                                                                                  \n",
      " activation_20 (Activation)     (None, 10, 10, 48)   0           ['batch_normalization_20[0][0]'] \n",
      "                                                                                                  \n",
      " activation_23 (Activation)     (None, 10, 10, 96)   0           ['batch_normalization_23[0][0]'] \n",
      "                                                                                                  \n",
      " average_pooling2d_2 (AveragePo  (None, 10, 10, 288)  0          ['mixed1[0][0]']                 \n",
      " oling2D)                                                                                         \n",
      "                                                                                                  \n",
      " conv2d_19 (Conv2D)             (None, 10, 10, 64)   18432       ['mixed1[0][0]']                 \n",
      "                                                                                                  \n",
      " conv2d_21 (Conv2D)             (None, 10, 10, 64)   76800       ['activation_20[0][0]']          \n",
      "                                                                                                  \n",
      " conv2d_24 (Conv2D)             (None, 10, 10, 96)   82944       ['activation_23[0][0]']          \n",
      "                                                                                                  \n",
      " conv2d_25 (Conv2D)             (None, 10, 10, 64)   18432       ['average_pooling2d_2[0][0]']    \n",
      "                                                                                                  \n",
      " batch_normalization_19 (BatchN  (None, 10, 10, 64)  192         ['conv2d_19[0][0]']              \n",
      " ormalization)                                                                                    \n",
      "                                                                                                  \n",
      " batch_normalization_21 (BatchN  (None, 10, 10, 64)  192         ['conv2d_21[0][0]']              \n",
      " ormalization)                                                                                    \n",
      "                                                                                                  \n",
      " batch_normalization_24 (BatchN  (None, 10, 10, 96)  288         ['conv2d_24[0][0]']              \n",
      " ormalization)                                                                                    \n",
      "                                                                                                  \n",
      " batch_normalization_25 (BatchN  (None, 10, 10, 64)  192         ['conv2d_25[0][0]']              \n",
      " ormalization)                                                                                    \n",
      "                                                                                                  \n",
      " activation_19 (Activation)     (None, 10, 10, 64)   0           ['batch_normalization_19[0][0]'] \n",
      "                                                                                                  \n",
      " activation_21 (Activation)     (None, 10, 10, 64)   0           ['batch_normalization_21[0][0]'] \n",
      "                                                                                                  \n",
      " activation_24 (Activation)     (None, 10, 10, 96)   0           ['batch_normalization_24[0][0]'] \n",
      "                                                                                                  \n",
      " activation_25 (Activation)     (None, 10, 10, 64)   0           ['batch_normalization_25[0][0]'] \n",
      "                                                                                                  \n",
      " mixed2 (Concatenate)           (None, 10, 10, 288)  0           ['activation_19[0][0]',          \n",
      "                                                                  'activation_21[0][0]',          \n",
      "                                                                  'activation_24[0][0]',          \n",
      "                                                                  'activation_25[0][0]']          \n",
      "                                                                                                  \n",
      " conv2d_27 (Conv2D)             (None, 10, 10, 64)   18432       ['mixed2[0][0]']                 \n",
      "                                                                                                  \n",
      " batch_normalization_27 (BatchN  (None, 10, 10, 64)  192         ['conv2d_27[0][0]']              \n",
      " ormalization)                                                                                    \n",
      "                                                                                                  \n",
      " activation_27 (Activation)     (None, 10, 10, 64)   0           ['batch_normalization_27[0][0]'] \n",
      "                                                                                                  \n",
      " conv2d_28 (Conv2D)             (None, 10, 10, 96)   55296       ['activation_27[0][0]']          \n",
      "                                                                                                  \n",
      " batch_normalization_28 (BatchN  (None, 10, 10, 96)  288         ['conv2d_28[0][0]']              \n",
      " ormalization)                                                                                    \n",
      "                                                                                                  \n",
      " activation_28 (Activation)     (None, 10, 10, 96)   0           ['batch_normalization_28[0][0]'] \n",
      "                                                                                                  \n",
      " conv2d_26 (Conv2D)             (None, 4, 4, 384)    995328      ['mixed2[0][0]']                 \n",
      "                                                                                                  \n",
      " conv2d_29 (Conv2D)             (None, 4, 4, 96)     82944       ['activation_28[0][0]']          \n",
      "                                                                                                  \n",
      " batch_normalization_26 (BatchN  (None, 4, 4, 384)   1152        ['conv2d_26[0][0]']              \n",
      " ormalization)                                                                                    \n",
      "                                                                                                  \n",
      " batch_normalization_29 (BatchN  (None, 4, 4, 96)    288         ['conv2d_29[0][0]']              \n",
      " ormalization)                                                                                    \n",
      "                                                                                                  \n",
      " activation_26 (Activation)     (None, 4, 4, 384)    0           ['batch_normalization_26[0][0]'] \n",
      "                                                                                                  \n",
      " activation_29 (Activation)     (None, 4, 4, 96)     0           ['batch_normalization_29[0][0]'] \n",
      "                                                                                                  \n",
      " max_pooling2d_2 (MaxPooling2D)  (None, 4, 4, 288)   0           ['mixed2[0][0]']                 \n",
      "                                                                                                  \n",
      " mixed3 (Concatenate)           (None, 4, 4, 768)    0           ['activation_26[0][0]',          \n",
      "                                                                  'activation_29[0][0]',          \n",
      "                                                                  'max_pooling2d_2[0][0]']        \n"
     ]
    },
    {
     "name": "stdout",
     "output_type": "stream",
     "text": [
      "                                                                                                  \n",
      " conv2d_34 (Conv2D)             (None, 4, 4, 128)    98304       ['mixed3[0][0]']                 \n",
      "                                                                                                  \n",
      " batch_normalization_34 (BatchN  (None, 4, 4, 128)   384         ['conv2d_34[0][0]']              \n",
      " ormalization)                                                                                    \n",
      "                                                                                                  \n",
      " activation_34 (Activation)     (None, 4, 4, 128)    0           ['batch_normalization_34[0][0]'] \n",
      "                                                                                                  \n",
      " conv2d_35 (Conv2D)             (None, 4, 4, 128)    114688      ['activation_34[0][0]']          \n",
      "                                                                                                  \n",
      " batch_normalization_35 (BatchN  (None, 4, 4, 128)   384         ['conv2d_35[0][0]']              \n",
      " ormalization)                                                                                    \n",
      "                                                                                                  \n",
      " activation_35 (Activation)     (None, 4, 4, 128)    0           ['batch_normalization_35[0][0]'] \n",
      "                                                                                                  \n",
      " conv2d_31 (Conv2D)             (None, 4, 4, 128)    98304       ['mixed3[0][0]']                 \n",
      "                                                                                                  \n",
      " conv2d_36 (Conv2D)             (None, 4, 4, 128)    114688      ['activation_35[0][0]']          \n",
      "                                                                                                  \n",
      " batch_normalization_31 (BatchN  (None, 4, 4, 128)   384         ['conv2d_31[0][0]']              \n",
      " ormalization)                                                                                    \n",
      "                                                                                                  \n",
      " batch_normalization_36 (BatchN  (None, 4, 4, 128)   384         ['conv2d_36[0][0]']              \n",
      " ormalization)                                                                                    \n",
      "                                                                                                  \n",
      " activation_31 (Activation)     (None, 4, 4, 128)    0           ['batch_normalization_31[0][0]'] \n",
      "                                                                                                  \n",
      " activation_36 (Activation)     (None, 4, 4, 128)    0           ['batch_normalization_36[0][0]'] \n",
      "                                                                                                  \n",
      " conv2d_32 (Conv2D)             (None, 4, 4, 128)    114688      ['activation_31[0][0]']          \n",
      "                                                                                                  \n",
      " conv2d_37 (Conv2D)             (None, 4, 4, 128)    114688      ['activation_36[0][0]']          \n",
      "                                                                                                  \n",
      " batch_normalization_32 (BatchN  (None, 4, 4, 128)   384         ['conv2d_32[0][0]']              \n",
      " ormalization)                                                                                    \n",
      "                                                                                                  \n",
      " batch_normalization_37 (BatchN  (None, 4, 4, 128)   384         ['conv2d_37[0][0]']              \n",
      " ormalization)                                                                                    \n",
      "                                                                                                  \n",
      " activation_32 (Activation)     (None, 4, 4, 128)    0           ['batch_normalization_32[0][0]'] \n",
      "                                                                                                  \n",
      " activation_37 (Activation)     (None, 4, 4, 128)    0           ['batch_normalization_37[0][0]'] \n",
      "                                                                                                  \n",
      " average_pooling2d_3 (AveragePo  (None, 4, 4, 768)   0           ['mixed3[0][0]']                 \n",
      " oling2D)                                                                                         \n",
      "                                                                                                  \n",
      " conv2d_30 (Conv2D)             (None, 4, 4, 192)    147456      ['mixed3[0][0]']                 \n",
      "                                                                                                  \n",
      " conv2d_33 (Conv2D)             (None, 4, 4, 192)    172032      ['activation_32[0][0]']          \n",
      "                                                                                                  \n",
      " conv2d_38 (Conv2D)             (None, 4, 4, 192)    172032      ['activation_37[0][0]']          \n",
      "                                                                                                  \n",
      " conv2d_39 (Conv2D)             (None, 4, 4, 192)    147456      ['average_pooling2d_3[0][0]']    \n",
      "                                                                                                  \n",
      " batch_normalization_30 (BatchN  (None, 4, 4, 192)   576         ['conv2d_30[0][0]']              \n",
      " ormalization)                                                                                    \n",
      "                                                                                                  \n",
      " batch_normalization_33 (BatchN  (None, 4, 4, 192)   576         ['conv2d_33[0][0]']              \n",
      " ormalization)                                                                                    \n",
      "                                                                                                  \n",
      " batch_normalization_38 (BatchN  (None, 4, 4, 192)   576         ['conv2d_38[0][0]']              \n",
      " ormalization)                                                                                    \n",
      "                                                                                                  \n",
      " batch_normalization_39 (BatchN  (None, 4, 4, 192)   576         ['conv2d_39[0][0]']              \n",
      " ormalization)                                                                                    \n",
      "                                                                                                  \n",
      " activation_30 (Activation)     (None, 4, 4, 192)    0           ['batch_normalization_30[0][0]'] \n",
      "                                                                                                  \n",
      " activation_33 (Activation)     (None, 4, 4, 192)    0           ['batch_normalization_33[0][0]'] \n",
      "                                                                                                  \n",
      " activation_38 (Activation)     (None, 4, 4, 192)    0           ['batch_normalization_38[0][0]'] \n",
      "                                                                                                  \n",
      " activation_39 (Activation)     (None, 4, 4, 192)    0           ['batch_normalization_39[0][0]'] \n",
      "                                                                                                  \n",
      " mixed4 (Concatenate)           (None, 4, 4, 768)    0           ['activation_30[0][0]',          \n",
      "                                                                  'activation_33[0][0]',          \n",
      "                                                                  'activation_38[0][0]',          \n",
      "                                                                  'activation_39[0][0]']          \n",
      "                                                                                                  \n",
      " conv2d_44 (Conv2D)             (None, 4, 4, 160)    122880      ['mixed4[0][0]']                 \n",
      "                                                                                                  \n",
      " batch_normalization_44 (BatchN  (None, 4, 4, 160)   480         ['conv2d_44[0][0]']              \n",
      " ormalization)                                                                                    \n"
     ]
    },
    {
     "name": "stdout",
     "output_type": "stream",
     "text": [
      "                                                                                                  \n",
      " activation_44 (Activation)     (None, 4, 4, 160)    0           ['batch_normalization_44[0][0]'] \n",
      "                                                                                                  \n",
      " conv2d_45 (Conv2D)             (None, 4, 4, 160)    179200      ['activation_44[0][0]']          \n",
      "                                                                                                  \n",
      " batch_normalization_45 (BatchN  (None, 4, 4, 160)   480         ['conv2d_45[0][0]']              \n",
      " ormalization)                                                                                    \n",
      "                                                                                                  \n",
      " activation_45 (Activation)     (None, 4, 4, 160)    0           ['batch_normalization_45[0][0]'] \n",
      "                                                                                                  \n",
      " conv2d_41 (Conv2D)             (None, 4, 4, 160)    122880      ['mixed4[0][0]']                 \n",
      "                                                                                                  \n",
      " conv2d_46 (Conv2D)             (None, 4, 4, 160)    179200      ['activation_45[0][0]']          \n",
      "                                                                                                  \n",
      " batch_normalization_41 (BatchN  (None, 4, 4, 160)   480         ['conv2d_41[0][0]']              \n",
      " ormalization)                                                                                    \n",
      "                                                                                                  \n",
      " batch_normalization_46 (BatchN  (None, 4, 4, 160)   480         ['conv2d_46[0][0]']              \n",
      " ormalization)                                                                                    \n",
      "                                                                                                  \n",
      " activation_41 (Activation)     (None, 4, 4, 160)    0           ['batch_normalization_41[0][0]'] \n",
      "                                                                                                  \n",
      " activation_46 (Activation)     (None, 4, 4, 160)    0           ['batch_normalization_46[0][0]'] \n",
      "                                                                                                  \n",
      " conv2d_42 (Conv2D)             (None, 4, 4, 160)    179200      ['activation_41[0][0]']          \n",
      "                                                                                                  \n",
      " conv2d_47 (Conv2D)             (None, 4, 4, 160)    179200      ['activation_46[0][0]']          \n",
      "                                                                                                  \n",
      " batch_normalization_42 (BatchN  (None, 4, 4, 160)   480         ['conv2d_42[0][0]']              \n",
      " ormalization)                                                                                    \n",
      "                                                                                                  \n",
      " batch_normalization_47 (BatchN  (None, 4, 4, 160)   480         ['conv2d_47[0][0]']              \n",
      " ormalization)                                                                                    \n",
      "                                                                                                  \n",
      " activation_42 (Activation)     (None, 4, 4, 160)    0           ['batch_normalization_42[0][0]'] \n",
      "                                                                                                  \n",
      " activation_47 (Activation)     (None, 4, 4, 160)    0           ['batch_normalization_47[0][0]'] \n",
      "                                                                                                  \n",
      " average_pooling2d_4 (AveragePo  (None, 4, 4, 768)   0           ['mixed4[0][0]']                 \n",
      " oling2D)                                                                                         \n",
      "                                                                                                  \n",
      " conv2d_40 (Conv2D)             (None, 4, 4, 192)    147456      ['mixed4[0][0]']                 \n",
      "                                                                                                  \n",
      " conv2d_43 (Conv2D)             (None, 4, 4, 192)    215040      ['activation_42[0][0]']          \n",
      "                                                                                                  \n",
      " conv2d_48 (Conv2D)             (None, 4, 4, 192)    215040      ['activation_47[0][0]']          \n",
      "                                                                                                  \n",
      " conv2d_49 (Conv2D)             (None, 4, 4, 192)    147456      ['average_pooling2d_4[0][0]']    \n",
      "                                                                                                  \n",
      " batch_normalization_40 (BatchN  (None, 4, 4, 192)   576         ['conv2d_40[0][0]']              \n",
      " ormalization)                                                                                    \n",
      "                                                                                                  \n",
      " batch_normalization_43 (BatchN  (None, 4, 4, 192)   576         ['conv2d_43[0][0]']              \n",
      " ormalization)                                                                                    \n",
      "                                                                                                  \n",
      " batch_normalization_48 (BatchN  (None, 4, 4, 192)   576         ['conv2d_48[0][0]']              \n",
      " ormalization)                                                                                    \n",
      "                                                                                                  \n",
      " batch_normalization_49 (BatchN  (None, 4, 4, 192)   576         ['conv2d_49[0][0]']              \n",
      " ormalization)                                                                                    \n",
      "                                                                                                  \n",
      " activation_40 (Activation)     (None, 4, 4, 192)    0           ['batch_normalization_40[0][0]'] \n",
      "                                                                                                  \n",
      " activation_43 (Activation)     (None, 4, 4, 192)    0           ['batch_normalization_43[0][0]'] \n",
      "                                                                                                  \n",
      " activation_48 (Activation)     (None, 4, 4, 192)    0           ['batch_normalization_48[0][0]'] \n",
      "                                                                                                  \n",
      " activation_49 (Activation)     (None, 4, 4, 192)    0           ['batch_normalization_49[0][0]'] \n",
      "                                                                                                  \n",
      " mixed5 (Concatenate)           (None, 4, 4, 768)    0           ['activation_40[0][0]',          \n",
      "                                                                  'activation_43[0][0]',          \n",
      "                                                                  'activation_48[0][0]',          \n",
      "                                                                  'activation_49[0][0]']          \n",
      "                                                                                                  \n",
      " conv2d_54 (Conv2D)             (None, 4, 4, 160)    122880      ['mixed5[0][0]']                 \n",
      "                                                                                                  \n",
      " batch_normalization_54 (BatchN  (None, 4, 4, 160)   480         ['conv2d_54[0][0]']              \n",
      " ormalization)                                                                                    \n",
      "                                                                                                  \n",
      " activation_54 (Activation)     (None, 4, 4, 160)    0           ['batch_normalization_54[0][0]'] \n",
      "                                                                                                  \n",
      " conv2d_55 (Conv2D)             (None, 4, 4, 160)    179200      ['activation_54[0][0]']          \n",
      "                                                                                                  \n"
     ]
    },
    {
     "name": "stdout",
     "output_type": "stream",
     "text": [
      " batch_normalization_55 (BatchN  (None, 4, 4, 160)   480         ['conv2d_55[0][0]']              \n",
      " ormalization)                                                                                    \n",
      "                                                                                                  \n",
      " activation_55 (Activation)     (None, 4, 4, 160)    0           ['batch_normalization_55[0][0]'] \n",
      "                                                                                                  \n",
      " conv2d_51 (Conv2D)             (None, 4, 4, 160)    122880      ['mixed5[0][0]']                 \n",
      "                                                                                                  \n",
      " conv2d_56 (Conv2D)             (None, 4, 4, 160)    179200      ['activation_55[0][0]']          \n",
      "                                                                                                  \n",
      " batch_normalization_51 (BatchN  (None, 4, 4, 160)   480         ['conv2d_51[0][0]']              \n",
      " ormalization)                                                                                    \n",
      "                                                                                                  \n",
      " batch_normalization_56 (BatchN  (None, 4, 4, 160)   480         ['conv2d_56[0][0]']              \n",
      " ormalization)                                                                                    \n",
      "                                                                                                  \n",
      " activation_51 (Activation)     (None, 4, 4, 160)    0           ['batch_normalization_51[0][0]'] \n",
      "                                                                                                  \n",
      " activation_56 (Activation)     (None, 4, 4, 160)    0           ['batch_normalization_56[0][0]'] \n",
      "                                                                                                  \n",
      " conv2d_52 (Conv2D)             (None, 4, 4, 160)    179200      ['activation_51[0][0]']          \n",
      "                                                                                                  \n",
      " conv2d_57 (Conv2D)             (None, 4, 4, 160)    179200      ['activation_56[0][0]']          \n",
      "                                                                                                  \n",
      " batch_normalization_52 (BatchN  (None, 4, 4, 160)   480         ['conv2d_52[0][0]']              \n",
      " ormalization)                                                                                    \n",
      "                                                                                                  \n",
      " batch_normalization_57 (BatchN  (None, 4, 4, 160)   480         ['conv2d_57[0][0]']              \n",
      " ormalization)                                                                                    \n",
      "                                                                                                  \n",
      " activation_52 (Activation)     (None, 4, 4, 160)    0           ['batch_normalization_52[0][0]'] \n",
      "                                                                                                  \n",
      " activation_57 (Activation)     (None, 4, 4, 160)    0           ['batch_normalization_57[0][0]'] \n",
      "                                                                                                  \n",
      " average_pooling2d_5 (AveragePo  (None, 4, 4, 768)   0           ['mixed5[0][0]']                 \n",
      " oling2D)                                                                                         \n",
      "                                                                                                  \n",
      " conv2d_50 (Conv2D)             (None, 4, 4, 192)    147456      ['mixed5[0][0]']                 \n",
      "                                                                                                  \n",
      " conv2d_53 (Conv2D)             (None, 4, 4, 192)    215040      ['activation_52[0][0]']          \n",
      "                                                                                                  \n",
      " conv2d_58 (Conv2D)             (None, 4, 4, 192)    215040      ['activation_57[0][0]']          \n",
      "                                                                                                  \n",
      " conv2d_59 (Conv2D)             (None, 4, 4, 192)    147456      ['average_pooling2d_5[0][0]']    \n",
      "                                                                                                  \n",
      " batch_normalization_50 (BatchN  (None, 4, 4, 192)   576         ['conv2d_50[0][0]']              \n",
      " ormalization)                                                                                    \n",
      "                                                                                                  \n",
      " batch_normalization_53 (BatchN  (None, 4, 4, 192)   576         ['conv2d_53[0][0]']              \n",
      " ormalization)                                                                                    \n",
      "                                                                                                  \n",
      " batch_normalization_58 (BatchN  (None, 4, 4, 192)   576         ['conv2d_58[0][0]']              \n",
      " ormalization)                                                                                    \n",
      "                                                                                                  \n",
      " batch_normalization_59 (BatchN  (None, 4, 4, 192)   576         ['conv2d_59[0][0]']              \n",
      " ormalization)                                                                                    \n",
      "                                                                                                  \n",
      " activation_50 (Activation)     (None, 4, 4, 192)    0           ['batch_normalization_50[0][0]'] \n",
      "                                                                                                  \n",
      " activation_53 (Activation)     (None, 4, 4, 192)    0           ['batch_normalization_53[0][0]'] \n",
      "                                                                                                  \n",
      " activation_58 (Activation)     (None, 4, 4, 192)    0           ['batch_normalization_58[0][0]'] \n",
      "                                                                                                  \n",
      " activation_59 (Activation)     (None, 4, 4, 192)    0           ['batch_normalization_59[0][0]'] \n",
      "                                                                                                  \n",
      " mixed6 (Concatenate)           (None, 4, 4, 768)    0           ['activation_50[0][0]',          \n",
      "                                                                  'activation_53[0][0]',          \n",
      "                                                                  'activation_58[0][0]',          \n",
      "                                                                  'activation_59[0][0]']          \n",
      "                                                                                                  \n",
      " conv2d_64 (Conv2D)             (None, 4, 4, 192)    147456      ['mixed6[0][0]']                 \n",
      "                                                                                                  \n",
      " batch_normalization_64 (BatchN  (None, 4, 4, 192)   576         ['conv2d_64[0][0]']              \n",
      " ormalization)                                                                                    \n",
      "                                                                                                  \n",
      " activation_64 (Activation)     (None, 4, 4, 192)    0           ['batch_normalization_64[0][0]'] \n",
      "                                                                                                  \n",
      " conv2d_65 (Conv2D)             (None, 4, 4, 192)    258048      ['activation_64[0][0]']          \n",
      "                                                                                                  \n",
      " batch_normalization_65 (BatchN  (None, 4, 4, 192)   576         ['conv2d_65[0][0]']              \n",
      " ormalization)                                                                                    \n",
      "                                                                                                  \n",
      " activation_65 (Activation)     (None, 4, 4, 192)    0           ['batch_normalization_65[0][0]'] \n",
      "                                                                                                  \n"
     ]
    },
    {
     "name": "stdout",
     "output_type": "stream",
     "text": [
      " conv2d_61 (Conv2D)             (None, 4, 4, 192)    147456      ['mixed6[0][0]']                 \n",
      "                                                                                                  \n",
      " conv2d_66 (Conv2D)             (None, 4, 4, 192)    258048      ['activation_65[0][0]']          \n",
      "                                                                                                  \n",
      " batch_normalization_61 (BatchN  (None, 4, 4, 192)   576         ['conv2d_61[0][0]']              \n",
      " ormalization)                                                                                    \n",
      "                                                                                                  \n",
      " batch_normalization_66 (BatchN  (None, 4, 4, 192)   576         ['conv2d_66[0][0]']              \n",
      " ormalization)                                                                                    \n",
      "                                                                                                  \n",
      " activation_61 (Activation)     (None, 4, 4, 192)    0           ['batch_normalization_61[0][0]'] \n",
      "                                                                                                  \n",
      " activation_66 (Activation)     (None, 4, 4, 192)    0           ['batch_normalization_66[0][0]'] \n",
      "                                                                                                  \n",
      " conv2d_62 (Conv2D)             (None, 4, 4, 192)    258048      ['activation_61[0][0]']          \n",
      "                                                                                                  \n",
      " conv2d_67 (Conv2D)             (None, 4, 4, 192)    258048      ['activation_66[0][0]']          \n",
      "                                                                                                  \n",
      " batch_normalization_62 (BatchN  (None, 4, 4, 192)   576         ['conv2d_62[0][0]']              \n",
      " ormalization)                                                                                    \n",
      "                                                                                                  \n",
      " batch_normalization_67 (BatchN  (None, 4, 4, 192)   576         ['conv2d_67[0][0]']              \n",
      " ormalization)                                                                                    \n",
      "                                                                                                  \n",
      " activation_62 (Activation)     (None, 4, 4, 192)    0           ['batch_normalization_62[0][0]'] \n",
      "                                                                                                  \n",
      " activation_67 (Activation)     (None, 4, 4, 192)    0           ['batch_normalization_67[0][0]'] \n",
      "                                                                                                  \n",
      " average_pooling2d_6 (AveragePo  (None, 4, 4, 768)   0           ['mixed6[0][0]']                 \n",
      " oling2D)                                                                                         \n",
      "                                                                                                  \n",
      " conv2d_60 (Conv2D)             (None, 4, 4, 192)    147456      ['mixed6[0][0]']                 \n",
      "                                                                                                  \n",
      " conv2d_63 (Conv2D)             (None, 4, 4, 192)    258048      ['activation_62[0][0]']          \n",
      "                                                                                                  \n",
      " conv2d_68 (Conv2D)             (None, 4, 4, 192)    258048      ['activation_67[0][0]']          \n",
      "                                                                                                  \n",
      " conv2d_69 (Conv2D)             (None, 4, 4, 192)    147456      ['average_pooling2d_6[0][0]']    \n",
      "                                                                                                  \n",
      " batch_normalization_60 (BatchN  (None, 4, 4, 192)   576         ['conv2d_60[0][0]']              \n",
      " ormalization)                                                                                    \n",
      "                                                                                                  \n",
      " batch_normalization_63 (BatchN  (None, 4, 4, 192)   576         ['conv2d_63[0][0]']              \n",
      " ormalization)                                                                                    \n",
      "                                                                                                  \n",
      " batch_normalization_68 (BatchN  (None, 4, 4, 192)   576         ['conv2d_68[0][0]']              \n",
      " ormalization)                                                                                    \n",
      "                                                                                                  \n",
      " batch_normalization_69 (BatchN  (None, 4, 4, 192)   576         ['conv2d_69[0][0]']              \n",
      " ormalization)                                                                                    \n",
      "                                                                                                  \n",
      " activation_60 (Activation)     (None, 4, 4, 192)    0           ['batch_normalization_60[0][0]'] \n",
      "                                                                                                  \n",
      " activation_63 (Activation)     (None, 4, 4, 192)    0           ['batch_normalization_63[0][0]'] \n",
      "                                                                                                  \n",
      " activation_68 (Activation)     (None, 4, 4, 192)    0           ['batch_normalization_68[0][0]'] \n",
      "                                                                                                  \n",
      " activation_69 (Activation)     (None, 4, 4, 192)    0           ['batch_normalization_69[0][0]'] \n",
      "                                                                                                  \n",
      " mixed7 (Concatenate)           (None, 4, 4, 768)    0           ['activation_60[0][0]',          \n",
      "                                                                  'activation_63[0][0]',          \n",
      "                                                                  'activation_68[0][0]',          \n",
      "                                                                  'activation_69[0][0]']          \n",
      "                                                                                                  \n",
      " conv2d_72 (Conv2D)             (None, 4, 4, 192)    147456      ['mixed7[0][0]']                 \n",
      "                                                                                                  \n",
      " batch_normalization_72 (BatchN  (None, 4, 4, 192)   576         ['conv2d_72[0][0]']              \n",
      " ormalization)                                                                                    \n",
      "                                                                                                  \n",
      " activation_72 (Activation)     (None, 4, 4, 192)    0           ['batch_normalization_72[0][0]'] \n",
      "                                                                                                  \n",
      " conv2d_73 (Conv2D)             (None, 4, 4, 192)    258048      ['activation_72[0][0]']          \n",
      "                                                                                                  \n",
      " batch_normalization_73 (BatchN  (None, 4, 4, 192)   576         ['conv2d_73[0][0]']              \n",
      " ormalization)                                                                                    \n",
      "                                                                                                  \n",
      " activation_73 (Activation)     (None, 4, 4, 192)    0           ['batch_normalization_73[0][0]'] \n",
      "                                                                                                  \n",
      " conv2d_70 (Conv2D)             (None, 4, 4, 192)    147456      ['mixed7[0][0]']                 \n",
      "                                                                                                  \n",
      " conv2d_74 (Conv2D)             (None, 4, 4, 192)    258048      ['activation_73[0][0]']          \n",
      "                                                                                                  \n",
      " batch_normalization_70 (BatchN  (None, 4, 4, 192)   576         ['conv2d_70[0][0]']              \n"
     ]
    },
    {
     "name": "stdout",
     "output_type": "stream",
     "text": [
      " ormalization)                                                                                    \n",
      "                                                                                                  \n",
      " batch_normalization_74 (BatchN  (None, 4, 4, 192)   576         ['conv2d_74[0][0]']              \n",
      " ormalization)                                                                                    \n",
      "                                                                                                  \n",
      " activation_70 (Activation)     (None, 4, 4, 192)    0           ['batch_normalization_70[0][0]'] \n",
      "                                                                                                  \n",
      " activation_74 (Activation)     (None, 4, 4, 192)    0           ['batch_normalization_74[0][0]'] \n",
      "                                                                                                  \n",
      " conv2d_71 (Conv2D)             (None, 1, 1, 320)    552960      ['activation_70[0][0]']          \n",
      "                                                                                                  \n",
      " conv2d_75 (Conv2D)             (None, 1, 1, 192)    331776      ['activation_74[0][0]']          \n",
      "                                                                                                  \n",
      " batch_normalization_71 (BatchN  (None, 1, 1, 320)   960         ['conv2d_71[0][0]']              \n",
      " ormalization)                                                                                    \n",
      "                                                                                                  \n",
      " batch_normalization_75 (BatchN  (None, 1, 1, 192)   576         ['conv2d_75[0][0]']              \n",
      " ormalization)                                                                                    \n",
      "                                                                                                  \n",
      " activation_71 (Activation)     (None, 1, 1, 320)    0           ['batch_normalization_71[0][0]'] \n",
      "                                                                                                  \n",
      " activation_75 (Activation)     (None, 1, 1, 192)    0           ['batch_normalization_75[0][0]'] \n",
      "                                                                                                  \n",
      " max_pooling2d_3 (MaxPooling2D)  (None, 1, 1, 768)   0           ['mixed7[0][0]']                 \n",
      "                                                                                                  \n",
      " mixed8 (Concatenate)           (None, 1, 1, 1280)   0           ['activation_71[0][0]',          \n",
      "                                                                  'activation_75[0][0]',          \n",
      "                                                                  'max_pooling2d_3[0][0]']        \n",
      "                                                                                                  \n",
      " conv2d_80 (Conv2D)             (None, 1, 1, 448)    573440      ['mixed8[0][0]']                 \n",
      "                                                                                                  \n",
      " batch_normalization_80 (BatchN  (None, 1, 1, 448)   1344        ['conv2d_80[0][0]']              \n",
      " ormalization)                                                                                    \n",
      "                                                                                                  \n",
      " activation_80 (Activation)     (None, 1, 1, 448)    0           ['batch_normalization_80[0][0]'] \n",
      "                                                                                                  \n",
      " conv2d_77 (Conv2D)             (None, 1, 1, 384)    491520      ['mixed8[0][0]']                 \n",
      "                                                                                                  \n",
      " conv2d_81 (Conv2D)             (None, 1, 1, 384)    1548288     ['activation_80[0][0]']          \n",
      "                                                                                                  \n",
      " batch_normalization_77 (BatchN  (None, 1, 1, 384)   1152        ['conv2d_77[0][0]']              \n",
      " ormalization)                                                                                    \n",
      "                                                                                                  \n",
      " batch_normalization_81 (BatchN  (None, 1, 1, 384)   1152        ['conv2d_81[0][0]']              \n",
      " ormalization)                                                                                    \n",
      "                                                                                                  \n",
      " activation_77 (Activation)     (None, 1, 1, 384)    0           ['batch_normalization_77[0][0]'] \n",
      "                                                                                                  \n",
      " activation_81 (Activation)     (None, 1, 1, 384)    0           ['batch_normalization_81[0][0]'] \n",
      "                                                                                                  \n",
      " conv2d_78 (Conv2D)             (None, 1, 1, 384)    442368      ['activation_77[0][0]']          \n",
      "                                                                                                  \n",
      " conv2d_79 (Conv2D)             (None, 1, 1, 384)    442368      ['activation_77[0][0]']          \n",
      "                                                                                                  \n",
      " conv2d_82 (Conv2D)             (None, 1, 1, 384)    442368      ['activation_81[0][0]']          \n",
      "                                                                                                  \n",
      " conv2d_83 (Conv2D)             (None, 1, 1, 384)    442368      ['activation_81[0][0]']          \n",
      "                                                                                                  \n",
      " average_pooling2d_7 (AveragePo  (None, 1, 1, 1280)  0           ['mixed8[0][0]']                 \n",
      " oling2D)                                                                                         \n",
      "                                                                                                  \n",
      " conv2d_76 (Conv2D)             (None, 1, 1, 320)    409600      ['mixed8[0][0]']                 \n",
      "                                                                                                  \n",
      " batch_normalization_78 (BatchN  (None, 1, 1, 384)   1152        ['conv2d_78[0][0]']              \n",
      " ormalization)                                                                                    \n",
      "                                                                                                  \n",
      " batch_normalization_79 (BatchN  (None, 1, 1, 384)   1152        ['conv2d_79[0][0]']              \n",
      " ormalization)                                                                                    \n",
      "                                                                                                  \n",
      " batch_normalization_82 (BatchN  (None, 1, 1, 384)   1152        ['conv2d_82[0][0]']              \n",
      " ormalization)                                                                                    \n",
      "                                                                                                  \n",
      " batch_normalization_83 (BatchN  (None, 1, 1, 384)   1152        ['conv2d_83[0][0]']              \n",
      " ormalization)                                                                                    \n",
      "                                                                                                  \n",
      " conv2d_84 (Conv2D)             (None, 1, 1, 192)    245760      ['average_pooling2d_7[0][0]']    \n",
      "                                                                                                  \n",
      " batch_normalization_76 (BatchN  (None, 1, 1, 320)   960         ['conv2d_76[0][0]']              \n",
      " ormalization)                                                                                    \n",
      "                                                                                                  \n",
      " activation_78 (Activation)     (None, 1, 1, 384)    0           ['batch_normalization_78[0][0]'] \n",
      "                                                                                                  \n",
      " activation_79 (Activation)     (None, 1, 1, 384)    0           ['batch_normalization_79[0][0]'] \n"
     ]
    },
    {
     "name": "stdout",
     "output_type": "stream",
     "text": [
      "                                                                                                  \n",
      " activation_82 (Activation)     (None, 1, 1, 384)    0           ['batch_normalization_82[0][0]'] \n",
      "                                                                                                  \n",
      " activation_83 (Activation)     (None, 1, 1, 384)    0           ['batch_normalization_83[0][0]'] \n",
      "                                                                                                  \n",
      " batch_normalization_84 (BatchN  (None, 1, 1, 192)   576         ['conv2d_84[0][0]']              \n",
      " ormalization)                                                                                    \n",
      "                                                                                                  \n",
      " activation_76 (Activation)     (None, 1, 1, 320)    0           ['batch_normalization_76[0][0]'] \n",
      "                                                                                                  \n",
      " mixed9_0 (Concatenate)         (None, 1, 1, 768)    0           ['activation_78[0][0]',          \n",
      "                                                                  'activation_79[0][0]']          \n",
      "                                                                                                  \n",
      " concatenate (Concatenate)      (None, 1, 1, 768)    0           ['activation_82[0][0]',          \n",
      "                                                                  'activation_83[0][0]']          \n",
      "                                                                                                  \n",
      " activation_84 (Activation)     (None, 1, 1, 192)    0           ['batch_normalization_84[0][0]'] \n",
      "                                                                                                  \n",
      " mixed9 (Concatenate)           (None, 1, 1, 2048)   0           ['activation_76[0][0]',          \n",
      "                                                                  'mixed9_0[0][0]',               \n",
      "                                                                  'concatenate[0][0]',            \n",
      "                                                                  'activation_84[0][0]']          \n",
      "                                                                                                  \n",
      " conv2d_89 (Conv2D)             (None, 1, 1, 448)    917504      ['mixed9[0][0]']                 \n",
      "                                                                                                  \n",
      " batch_normalization_89 (BatchN  (None, 1, 1, 448)   1344        ['conv2d_89[0][0]']              \n",
      " ormalization)                                                                                    \n",
      "                                                                                                  \n",
      " activation_89 (Activation)     (None, 1, 1, 448)    0           ['batch_normalization_89[0][0]'] \n",
      "                                                                                                  \n",
      " conv2d_86 (Conv2D)             (None, 1, 1, 384)    786432      ['mixed9[0][0]']                 \n",
      "                                                                                                  \n",
      " conv2d_90 (Conv2D)             (None, 1, 1, 384)    1548288     ['activation_89[0][0]']          \n",
      "                                                                                                  \n",
      " batch_normalization_86 (BatchN  (None, 1, 1, 384)   1152        ['conv2d_86[0][0]']              \n",
      " ormalization)                                                                                    \n",
      "                                                                                                  \n",
      " batch_normalization_90 (BatchN  (None, 1, 1, 384)   1152        ['conv2d_90[0][0]']              \n",
      " ormalization)                                                                                    \n",
      "                                                                                                  \n",
      " activation_86 (Activation)     (None, 1, 1, 384)    0           ['batch_normalization_86[0][0]'] \n",
      "                                                                                                  \n",
      " activation_90 (Activation)     (None, 1, 1, 384)    0           ['batch_normalization_90[0][0]'] \n",
      "                                                                                                  \n",
      " conv2d_87 (Conv2D)             (None, 1, 1, 384)    442368      ['activation_86[0][0]']          \n",
      "                                                                                                  \n",
      " conv2d_88 (Conv2D)             (None, 1, 1, 384)    442368      ['activation_86[0][0]']          \n",
      "                                                                                                  \n",
      " conv2d_91 (Conv2D)             (None, 1, 1, 384)    442368      ['activation_90[0][0]']          \n",
      "                                                                                                  \n",
      " conv2d_92 (Conv2D)             (None, 1, 1, 384)    442368      ['activation_90[0][0]']          \n",
      "                                                                                                  \n",
      " average_pooling2d_8 (AveragePo  (None, 1, 1, 2048)  0           ['mixed9[0][0]']                 \n",
      " oling2D)                                                                                         \n",
      "                                                                                                  \n",
      " conv2d_85 (Conv2D)             (None, 1, 1, 320)    655360      ['mixed9[0][0]']                 \n",
      "                                                                                                  \n",
      " batch_normalization_87 (BatchN  (None, 1, 1, 384)   1152        ['conv2d_87[0][0]']              \n",
      " ormalization)                                                                                    \n",
      "                                                                                                  \n",
      " batch_normalization_88 (BatchN  (None, 1, 1, 384)   1152        ['conv2d_88[0][0]']              \n",
      " ormalization)                                                                                    \n",
      "                                                                                                  \n",
      " batch_normalization_91 (BatchN  (None, 1, 1, 384)   1152        ['conv2d_91[0][0]']              \n",
      " ormalization)                                                                                    \n",
      "                                                                                                  \n",
      " batch_normalization_92 (BatchN  (None, 1, 1, 384)   1152        ['conv2d_92[0][0]']              \n",
      " ormalization)                                                                                    \n",
      "                                                                                                  \n",
      " conv2d_93 (Conv2D)             (None, 1, 1, 192)    393216      ['average_pooling2d_8[0][0]']    \n",
      "                                                                                                  \n",
      " batch_normalization_85 (BatchN  (None, 1, 1, 320)   960         ['conv2d_85[0][0]']              \n",
      " ormalization)                                                                                    \n",
      "                                                                                                  \n",
      " activation_87 (Activation)     (None, 1, 1, 384)    0           ['batch_normalization_87[0][0]'] \n",
      "                                                                                                  \n",
      " activation_88 (Activation)     (None, 1, 1, 384)    0           ['batch_normalization_88[0][0]'] \n",
      "                                                                                                  \n",
      " activation_91 (Activation)     (None, 1, 1, 384)    0           ['batch_normalization_91[0][0]'] \n",
      "                                                                                                  \n",
      " activation_92 (Activation)     (None, 1, 1, 384)    0           ['batch_normalization_92[0][0]'] \n",
      "                                                                                                  \n",
      " batch_normalization_93 (BatchN  (None, 1, 1, 192)   576         ['conv2d_93[0][0]']              \n"
     ]
    },
    {
     "name": "stdout",
     "output_type": "stream",
     "text": [
      " ormalization)                                                                                    \n",
      "                                                                                                  \n",
      " activation_85 (Activation)     (None, 1, 1, 320)    0           ['batch_normalization_85[0][0]'] \n",
      "                                                                                                  \n",
      " mixed9_1 (Concatenate)         (None, 1, 1, 768)    0           ['activation_87[0][0]',          \n",
      "                                                                  'activation_88[0][0]']          \n",
      "                                                                                                  \n",
      " concatenate_1 (Concatenate)    (None, 1, 1, 768)    0           ['activation_91[0][0]',          \n",
      "                                                                  'activation_92[0][0]']          \n",
      "                                                                                                  \n",
      " activation_93 (Activation)     (None, 1, 1, 192)    0           ['batch_normalization_93[0][0]'] \n",
      "                                                                                                  \n",
      " mixed10 (Concatenate)          (None, 1, 1, 2048)   0           ['activation_85[0][0]',          \n",
      "                                                                  'mixed9_1[0][0]',               \n",
      "                                                                  'concatenate_1[0][0]',          \n",
      "                                                                  'activation_93[0][0]']          \n",
      "                                                                                                  \n",
      " global_max_pooling2d (GlobalMa  (None, 2048)        0           ['mixed10[0][0]']                \n",
      " xPooling2D)                                                                                      \n",
      "                                                                                                  \n",
      "==================================================================================================\n",
      "Total params: 21,802,784\n",
      "Trainable params: 21,768,352\n",
      "Non-trainable params: 34,432\n",
      "__________________________________________________________________________________________________\n"
     ]
    }
   ],
   "source": [
    "# Description des caractéristiques du modèle\n",
    "model.summary()"
   ]
  },
  {
   "cell_type": "markdown",
   "metadata": {
    "application/vnd.databricks.v1+cell": {
     "inputWidgets": {},
     "nuid": "7fbc3c2a-f9f5-4719-982b-2f5bfc8f6930",
     "showTitle": false,
     "title": ""
    }
   },
   "source": [
    "Le vecteur des features est de dimension de chaque image à la dimensions (1, 1, 2048)"
   ]
  },
  {
   "cell_type": "markdown",
   "metadata": {
    "application/vnd.databricks.v1+cell": {
     "inputWidgets": {},
     "nuid": "bf4c8f2f-c5ca-48b5-bdca-d95ba38bf7b1",
     "showTitle": false,
     "title": ""
    }
   },
   "source": [
    "### 3.3. Extraction des features pour chaque image"
   ]
  },
  {
   "cell_type": "markdown",
   "metadata": {
    "application/vnd.databricks.v1+cell": {
     "inputWidgets": {},
     "nuid": "bdee43e5-09cd-472b-b9b8-4be2a12b3b98",
     "showTitle": false,
     "title": ""
    }
   },
   "source": [
    "[Source_databricks](https://docs.databricks.com/_static/notebooks/deep-learning/deep-learning-transfer-learning-keras.html)"
   ]
  },
  {
   "cell_type": "markdown",
   "metadata": {
    "application/vnd.databricks.v1+cell": {
     "inputWidgets": {},
     "nuid": "fc5d040e-bb5d-4ca5-ac38-b772453aeaea",
     "showTitle": false,
     "title": ""
    }
   },
   "source": [
    "#### 3.3.1. Fonctions utiles à l'extraction des features"
   ]
  },
  {
   "cell_type": "markdown",
   "metadata": {
    "application/vnd.databricks.v1+cell": {
     "inputWidgets": {},
     "nuid": "da2f9fea-3bba-4513-b9f6-ed43addfd234",
     "showTitle": false,
     "title": ""
    }
   },
   "source": [
    "**Préparation du modèle**\n",
    "***"
   ]
  },
  {
   "cell_type": "code",
   "execution_count": 19,
   "metadata": {
    "application/vnd.databricks.v1+cell": {
     "inputWidgets": {},
     "nuid": "d36f8dc0-6985-4c47-b4be-67306e5e70a8",
     "showTitle": false,
     "title": ""
    }
   },
   "outputs": [],
   "source": [
    "# Instanciation du modèle\n",
    "model = InceptionV3(\n",
    "        include_top=False,  # Couche softmax de classification supprimée\n",
    "        weights=None,  # Poids pré-entraînés sur Imagenet\n",
    "        input_shape=(100,100,3), # Image de taille 100x100 en couleur (channel=3)\n",
    "        pooling='max' # Utilisation du max de pooling\n",
    ")\n",
    "# chargement des poids du modèle inception_v3_weights_tf_dim_ordering_tf_kernels_notop.h5\n",
    "poids_model = \"/opt/spark/work-dir/app/model/inception-v3-weights-tf-dim-ordering-tf-kernels-notop.h5\"\n",
    "model.load_weights(poids_model)"
   ]
  },
  {
   "cell_type": "code",
   "execution_count": 20,
   "metadata": {
    "application/vnd.databricks.v1+cell": {
     "inputWidgets": {},
     "nuid": "16fac270-57a8-4e6a-bcfa-9f4116cf01ee",
     "showTitle": false,
     "title": ""
    }
   },
   "outputs": [],
   "source": [
    "# Permettre aux workers Spark d'accéder aux poids utilisés par le modèle\n",
    "bc_model_weights = spark.sparkContext.broadcast(model.get_weights())"
   ]
  },
  {
   "cell_type": "code",
   "execution_count": 21,
   "metadata": {
    "application/vnd.databricks.v1+cell": {
     "inputWidgets": {},
     "nuid": "7d641ab4-37f4-498d-84af-b305c99e2656",
     "showTitle": false,
     "title": ""
    }
   },
   "outputs": [],
   "source": [
    "def model_fn():\n",
    "    \"\"\"\n",
    "    Renvoie un modèle Inception3 avec la couche supérieure supprimée et les poids pré-entraînés sur imagenet diffusés.\n",
    "    \"\"\"\n",
    "    model = InceptionV3(\n",
    "        include_top=False,  # Couche softmax de classification supprimée\n",
    "        weights=None,  # Poids pré-entraînés sur Imagenet\n",
    "        pooling='max' # Utilisation du max de pooling\n",
    "    )\n",
    "    model.set_weights(bc_model_weights.value)\n",
    "    return model"
   ]
  },
  {
   "cell_type": "markdown",
   "metadata": {
    "application/vnd.databricks.v1+cell": {
     "inputWidgets": {},
     "nuid": "f09831c8-f0d7-4fe5-84c9-9015ab3c3888",
     "showTitle": false,
     "title": ""
    }
   },
   "source": [
    "**Fonction de redimensionnement de l'image**\n",
    "***\n",
    "Les images à transmettre en entrée de InceptionV3 doivent entre de dimension (299,299, 3)"
   ]
  },
  {
   "cell_type": "code",
   "execution_count": 22,
   "metadata": {
    "application/vnd.databricks.v1+cell": {
     "inputWidgets": {},
     "nuid": "55a0697a-ecdd-44f0-aa96-74099525d122",
     "showTitle": false,
     "title": ""
    }
   },
   "outputs": [],
   "source": [
    "# Redimensionnement des images en 299x299\n",
    "def preprocess(content):\n",
    "    \"\"\"\n",
    "    Prétraite les octets de l'image brute pour la prédiction.\n",
    "    param : content : objet image, obligatoire\n",
    "    return : image redimensionnée en Array\n",
    "    \"\"\"\n",
    "    # lecture + redimension (299x299) pour Xception\n",
    "    img = PIL.Image.open(io.BytesIO(content)).resize([299, 299])\n",
    "    # transforme l'image en Array     \n",
    "    arr = img_to_array(img)\n",
    "    return preprocess_input(arr)"
   ]
  },
  {
   "cell_type": "markdown",
   "metadata": {
    "application/vnd.databricks.v1+cell": {
     "inputWidgets": {},
     "nuid": "7abc4adc-a2ad-4a0a-9ff0-ea8d27249151",
     "showTitle": false,
     "title": ""
    }
   },
   "source": [
    "**Extraction des features par le modèle dans un vecteur**\n",
    "***"
   ]
  },
  {
   "cell_type": "code",
   "execution_count": 23,
   "metadata": {
    "application/vnd.databricks.v1+cell": {
     "inputWidgets": {},
     "nuid": "e89b2981-0195-4517-88ae-067a8088098d",
     "showTitle": false,
     "title": ""
    }
   },
   "outputs": [],
   "source": [
    "# Extraction des features par le modèle dans un vecteur\n",
    "def featurize_series(model, content_series):\n",
    "  \"\"\"\n",
    "  Featurise une pd.Series d'images brutes en utilisant le modèle d'entrée.\n",
    "  param : \n",
    "    model : modèle à utiliser pour l'extraction, obligatoire.\n",
    "    content_series : image redimensionnée (299, 299, 3) en Array\n",
    "  :return: les features importantes de l'image en pd.Series.\n",
    "  \"\"\"\n",
    "  input = np.stack(content_series.map(preprocess))\n",
    "  # Prédiction du modèle\n",
    "  preds = model.predict(input)\n",
    "  # Pour certaines couches, les caractéristiques de sortie seront des tenseurs multidimensionnels.\n",
    "  # Nous aplatissons les tenseurs de caractéristiques en vecteurs pour faciliter le stockage dans\n",
    "  # les DataFrames de Spark.\n",
    "  output = [p.flatten() for p in preds]\n",
    "  \n",
    "  return pd.Series(output)"
   ]
  },
  {
   "cell_type": "code",
   "execution_count": 24,
   "metadata": {},
   "outputs": [],
   "source": [
    "@pandas_udf('array<float>')\n",
    "def featurize_udf(content_series_iter: Iterator[pd.Series]) -> Iterator[pd.Series]:\n",
    "    '''\n",
    "    Cette méthode est un Scalar Iterator pandas UDF enveloppant notre fonction de featurisation.\n",
    "    Le décorateur spécifie que cette méthode renvoie une colonne Spark DataFrame de type ArrayType(FloatType).\n",
    "    \n",
    "    :param content_series_iter : Cet argument est un itérateur sur des lots de données, où chaque lot est une série pandas de données d'image.\n",
    "    '''\n",
    "    # With Scalar Iterator pandas UDFs, we can load the model once and then re-use it\n",
    "    # for multiple data batches.  This amortizes the overhead of loading big models.\n",
    "    model = model_fn()\n",
    "    for content_series in content_series_iter:\n",
    "        yield featurize_series(model, content_series)"
   ]
  },
  {
   "cell_type": "markdown",
   "metadata": {
    "application/vnd.databricks.v1+cell": {
     "inputWidgets": {},
     "nuid": "1220a6ca-9c04-4423-acbd-b528ba574712",
     "showTitle": false,
     "title": ""
    }
   },
   "source": [
    "#### 3.3.2. Extraction des features pour chaque image du dataframe"
   ]
  },
  {
   "cell_type": "code",
   "execution_count": 25,
   "metadata": {
    "application/vnd.databricks.v1+cell": {
     "inputWidgets": {},
     "nuid": "70d9217e-d34a-40fb-98a4-fd9e611c71ca",
     "showTitle": false,
     "title": ""
    }
   },
   "outputs": [],
   "source": [
    "# Les UDF de Pandas sur de grands enregistrements (par exemple, de très grandes images) peuvent rencontrer des erreurs de type Out Of Memory (OOM).\n",
    "# Si vous rencontrez de telles erreurs dans la cellule ci-dessous, essayez de réduire la taille du lot Arrow via `maxRecordsPerBatch`.\n",
    "spark.conf.set(\"spark.sql.execution.arrow.maxRecordsPerBatch\", \"1024\")"
   ]
  },
  {
   "cell_type": "code",
   "execution_count": 26,
   "metadata": {
    "application/vnd.databricks.v1+cell": {
     "inputWidgets": {},
     "nuid": "bad92cf6-e5b9-488a-9bdb-5014114308a3",
     "showTitle": false,
     "title": ""
    }
   },
   "outputs": [],
   "source": [
    "# Nous pouvons maintenant exécuter la featurisation sur l'ensemble de notre DataFrame Spark.\n",
    "# REMARQUE : Cela peut prendre beaucoup de temps (environ 10 minutes) car il applique un grand modèle à l'ensemble des données.\n",
    "features_df = df_binary_train.repartition(16).select(col(\"path\"), col('Classe'), featurize_udf(\"content\").alias(\"features\"))"
   ]
  },
  {
   "cell_type": "code",
   "execution_count": 27,
   "metadata": {
    "application/vnd.databricks.v1+cell": {
     "inputWidgets": {},
     "nuid": "19a7f5cc-e7f0-4499-bac6-0825904243f2",
     "showTitle": false,
     "title": ""
    }
   },
   "outputs": [
    {
     "name": "stderr",
     "output_type": "stream",
     "text": [
      "                                                                                \r"
     ]
    },
    {
     "data": {
      "text/plain": [
       "10156"
      ]
     },
     "execution_count": 27,
     "metadata": {},
     "output_type": "execute_result"
    }
   ],
   "source": [
    "# 4484 images?\n",
    "features_df.count()"
   ]
  },
  {
   "cell_type": "markdown",
   "metadata": {
    "application/vnd.databricks.v1+cell": {
     "inputWidgets": {},
     "nuid": "a6d77f2a-fe92-43da-88d1-5bfaf2612916",
     "showTitle": false,
     "title": ""
    }
   },
   "source": [
    "### 3.4. Réduction de dimension - Principal Component Analysis"
   ]
  },
  {
   "cell_type": "markdown",
   "metadata": {
    "application/vnd.databricks.v1+cell": {
     "inputWidgets": {},
     "nuid": "6baa9760-2a19-4c21-8473-63edad6dcbae",
     "showTitle": false,
     "title": ""
    }
   },
   "source": [
    "#### 3.4.1. Recherche meilleur nombre de composante"
   ]
  },
  {
   "cell_type": "markdown",
   "metadata": {
    "application/vnd.databricks.v1+cell": {
     "inputWidgets": {},
     "nuid": "d3231066-d6a4-4476-bc6f-0ddaae934b75",
     "showTitle": false,
     "title": ""
    }
   },
   "source": [
    "**Préparation des données**"
   ]
  },
  {
   "cell_type": "code",
   "execution_count": 28,
   "metadata": {
    "application/vnd.databricks.v1+cell": {
     "inputWidgets": {},
     "nuid": "e799010f-b0f7-472f-b463-6af5b44012e8",
     "showTitle": false,
     "title": ""
    }
   },
   "outputs": [],
   "source": [
    "def preprocess_pca(dataframe):\n",
    "    '''\n",
    "    Préparation des données :\n",
    "    - transformation en vecteur dense\n",
    "    - standardisation\n",
    "    param : dataframe : dataframe d'images\n",
    "    return : dataframe avec features vecteur dense standardisé\n",
    "    '''\n",
    "    \n",
    "    # Préparation des données - conversion des données images en vecteur dense\n",
    "    transform_vecteur_dense = udf(lambda r: Vectors.dense(r), VectorUDT())\n",
    "    dataframe = dataframe.withColumn('features_vectors', transform_vecteur_dense('features'))\n",
    "  \n",
    "    # Standardisation obligatoire pour PCA\n",
    "    scaler_std = StandardScaler(inputCol=\"features_vectors\", outputCol=\"features_scaled\", withStd=True, withMean=True)\n",
    "    model_std = scaler_std.fit(dataframe)\n",
    "    # Mise à l'échelle\n",
    "    dataframe = model_std.transform(dataframe)\n",
    "    \n",
    "    return dataframe"
   ]
  },
  {
   "cell_type": "markdown",
   "metadata": {
    "application/vnd.databricks.v1+cell": {
     "inputWidgets": {},
     "nuid": "9c3978fe-37a4-4466-bde7-069889318dc0",
     "showTitle": false,
     "title": ""
    }
   },
   "source": [
    "**Recherche du nombre de composante expliquant 95% de la variance**"
   ]
  },
  {
   "cell_type": "code",
   "execution_count": 29,
   "metadata": {
    "application/vnd.databricks.v1+cell": {
     "inputWidgets": {},
     "nuid": "53c7272c-e1cd-48f9-8fba-39ab3f1bf2b5",
     "showTitle": false,
     "title": ""
    }
   },
   "outputs": [],
   "source": [
    "def recherche_nb_composante(dataframe, nb_comp=400):\n",
    "    '''\n",
    "       Recherche d nombre de composante expliquant 95% de la variance\n",
    "       param : dataframe : dataframe d'images\n",
    "       return : k nombre de composante expliquant 95% de la variance totale\n",
    "    '''\n",
    "    \n",
    "    pca = PCA(k = nb_comp,\n",
    "              inputCol=\"features_scaled\", \n",
    "              outputCol=\"features_pca\")\n",
    " \n",
    "    model_pca = pca.fit(dataframe)\n",
    "    variance = model_pca.explainedVariance\n",
    " \n",
    "    # visuel\n",
    "    plt.plot(np.arange(len(variance)) + 1, variance.cumsum(), c=\"red\", marker='o')\n",
    "    plt.xlabel(\"Nb composantes\")\n",
    "    plt.ylabel(\"% variance\")\n",
    "    plt.show(block=False)\n",
    " \n",
    "    def nb_comp ():\n",
    "        for i in range(len(variance)):\n",
    "            a = variance.cumsum()[i]\n",
    "            if a >= 0.95:\n",
    "                print(\"{} composantes principales expliquent au moins 95% de la variance totale\".format(i))\n",
    "                break\n",
    "        return i\n",
    " \n",
    "    k=nb_comp()\n",
    "  \n",
    "    return k\n"
   ]
  },
  {
   "cell_type": "code",
   "execution_count": 30,
   "metadata": {
    "application/vnd.databricks.v1+cell": {
     "inputWidgets": {},
     "nuid": "fd75efc2-2d12-467a-ab8a-3f19a5bc2e9c",
     "showTitle": false,
     "title": ""
    }
   },
   "outputs": [
    {
     "name": "stderr",
     "output_type": "stream",
     "text": [
      "20/20 [==============================] - 299s 15s/step             (0 + 4) / 16]\n",
      "20/20 [==============================] - 299s 15s/step\n",
      "20/20 [==============================] - 300s 15s/step\n",
      "20/20 [==============================] - 300s 15s/step\n",
      "20/20 [==============================] - 215s 11s/step             (4 + 4) /\n",
      "20/20 [==============================] - 268s 13s/step             (5 \n",
      "20/20 [==============================] - 270s 13s/step\n",
      "20/20 [==============================] - 272s 13s/step             (6 + 4) / \n",
      "20/20 [==============================] - 240s 11s/step             (8 + 4) /\n",
      "20/20 [==============================] - 245s 12s/step      \n",
      "20/20 [==============================] - 257s 13s/step             (9 + 4) /\n",
      "20/20 [==============================] - 253s 12s/step            (\n",
      "20/20 [==============================] - 249s 12s/step            (12 + 4) / 16]\n",
      "20/20 [==============================] - 252s 12s/step=>          (13 + 3) \n",
      "20/20 [==============================] - 247s 12s/step=====>      (14 + 2) / 16]\n",
      "20/20 [==============================] - 215s 10s/step========>   (15 + 1) / \n",
      "                                                                                \r"
     ]
    }
   ],
   "source": [
    "# Pré-processing (vecteur dense, standardisation)\n",
    "df_pca = preprocess_pca(features_df)"
   ]
  },
  {
   "cell_type": "code",
   "execution_count": 31,
   "metadata": {
    "application/vnd.databricks.v1+cell": {
     "inputWidgets": {},
     "nuid": "661a1c06-b46f-4747-b22c-9e92065092cf",
     "showTitle": false,
     "title": ""
    }
   },
   "outputs": [
    {
     "name": "stderr",
     "output_type": "stream",
     "text": [
      "20/20 [==============================] - 77s 4s/step                (0 +\n",
      "20/20 [==============================] - 86s 4s/step                (0\n",
      "20/20 [==============================] - 281s 14s/step       \n",
      "20/20 [==============================] - 295s 15s/step             (1 + 4) / 16]\n",
      "20/20 [==============================] - 297s 15s/step\n",
      "20/20 [==============================] - 298s 15s/step\n",
      "20/20 [==============================] - 241s 12s/step             (4 + 4\n",
      "20/20 [==============================] - 255s 13s/step\n",
      "20/20 [==============================] - 266s 13s/step             \n",
      "20/20 [==============================] - 271s 13s/step             (7 + 4) / 16]\n",
      "20/20 [==============================] - 278s 13s/step             \n",
      "20/20 [==============================] - 276s 13s/step\n",
      "20/20 [==============================] - 249s 12s/step             (8 + 4\n",
      "20/20 [==============================] - 249s 12s/step\n",
      "20/20 [==============================] - 280s 14s/step            (1\n",
      "20/20 [==============================] - 282s 14s/step\n",
      "20/20 [==============================] - 283s 14s/step\n",
      "20/20 [==============================] - 282s 14s/step=>          (13 + 3) / 16]\n",
      "20/20 [==============================] - 85s 4s/step                (0 \n",
      "20/20 [==============================] - 292s 15s/step             (0 + 4) / 16]\n",
      "19/20 [===========================>..] - ETA: 14s"
     ]
    },
    {
     "name": "stdout",
     "output_type": "stream",
     "text": [
      "23/02/23 12:53:40 WARN InstanceBuilder$NativeBLAS: Failed to load implementation from:dev.ludovic.netlib.blas.JNIBLAS\n",
      "23/02/23 12:53:40 WARN InstanceBuilder$NativeBLAS: Failed to load implementation from:dev.ludovic.netlib.blas.ForeignLinkerBLAS\n"
     ]
    },
    {
     "name": "stderr",
     "output_type": "stream",
     "text": [
      "20/20 [==============================] - 302s 15s/step\n",
      "20/20 [==============================] - 302s 15s/step\n",
      "20/20 [==============================] - 302s 15s/step\n",
      "20/20 [==============================] - 229s 12s/step             (4 + 4)\n",
      "20/20 [==============================] - 244s 12s/step\n",
      "20/20 [==============================] - 246s 12s/step             (6 + 4) / 1\n",
      "20/20 [==============================] - 237s 11s/step\n",
      "20/20 [==============================] - 240s 12s/step             (8 +\n",
      "20/20 [==============================] - 250s 12s/step\n",
      "20/20 [==============================] - 249s 12s/step            (10 + 4) / 16]\n",
      "20/20 [==============================] - 252s 12s/step            (11 + 4) / 16]\n",
      "20/20 [==============================] - 238s 12s/step     \n",
      "20/20 [==============================] - 236s 12s/step            (12 +\n",
      "20/20 [==============================] - 241s 11s/step=>          (13 + 3) / 1\n",
      "20/20 [==============================] - 213s 10s/step=====>      (14 + 2) / 16]\n",
      "                                                                                \r"
     ]
    },
    {
     "name": "stdout",
     "output_type": "stream",
     "text": [
      "23/02/23 13:09:13 WARN LAPACK: Failed to load implementation from: com.github.fommil.netlib.NativeSystemLAPACK\n",
      "23/02/23 13:09:13 WARN LAPACK: Failed to load implementation from: com.github.fommil.netlib.NativeRefLAPACK\n"
     ]
    },
    {
     "data": {
      "image/png": "[encoded data removed]",
      "text/plain": [
       "<Figure size 640x480 with 1 Axes>"
      ]
     },
     "metadata": {},
     "output_type": "display_data"
    }
   ],
   "source": [
    "# Nombre de composante expliquant 95% de la variance\n",
    "n_components = recherche_nb_composante(df_pca)"
   ]
  },
  {
   "cell_type": "code",
   "execution_count": 32,
   "metadata": {},
   "outputs": [
    {
     "name": "stdout",
     "output_type": "stream",
     "text": [
      "399\n"
     ]
    }
   ],
   "source": [
    "print(n_components)"
   ]
  },
  {
   "cell_type": "code",
   "execution_count": 33,
   "metadata": {
    "application/vnd.databricks.v1+cell": {
     "inputWidgets": {},
     "nuid": "b65a3d07-7534-4acb-ad88-d4ba47c0c979",
     "showTitle": false,
     "title": ""
    }
   },
   "outputs": [],
   "source": [
    "# 325 composantes expliquent plus de 90% de la variance\n",
    "#n_components = 325"
   ]
  },
  {
   "cell_type": "markdown",
   "metadata": {
    "application/vnd.databricks.v1+cell": {
     "inputWidgets": {},
     "nuid": "213a2e18-9994-4a2c-8645-b9cb0ba54fb7",
     "showTitle": false,
     "title": ""
    }
   },
   "source": [
    "#### 3.4.2. Réduction de dimension PCA"
   ]
  },
  {
   "cell_type": "code",
   "execution_count": 34,
   "metadata": {
    "application/vnd.databricks.v1+cell": {
     "inputWidgets": {},
     "nuid": "b6d755b3-bddb-424b-9b55-fa5cd8b031e3",
     "showTitle": false,
     "title": ""
    }
   },
   "outputs": [
    {
     "name": "stderr",
     "output_type": "stream",
     "text": [
      "20/20 [==============================] - 77s 4s/step                (0 +\n",
      "20/20 [==============================] - 77s 4s/step                (0 +\n",
      "20/20 [==============================] - 256s 13s/step             (0 + 4\n",
      "20/20 [==============================] - 272s 13s/step             (1 + 4) / 16]\n",
      "20/20 [==============================] - 272s 13s/step\n",
      "20/20 [==============================] - 273s 13s/step\n",
      "20/20 [==============================] - 210s 11s/step           \n",
      "20/20 [==============================] - 216s 11s/step\n",
      "20/20 [==============================] - 211s 10s/step             (6 + 4) / \n",
      "20/20 [==============================] - 206s 10s/step\n",
      "20/20 [==============================] - 234s 12s/step  \n",
      "20/20 [==============================] - 239s 12s/step\n",
      "20/20 [==============================] - 240s 12s/step            (10 + 4) / 16]\n",
      "20/20 [==============================] - 212s 10s/step\n",
      "20/20 [==============================] - 224s 11s/step            (12 + 4\n",
      "20/20 [==============================] - 231s 11s/step\n",
      "20/20 [==============================] - 232s 11s/step=====>      (14 + 2) / 16]\n",
      "20/20 [==============================] - 189s 9s/step\n",
      "20/20 [==============================] - 79s 4s/step                (0 + \n",
      "20/20 [==============================] - 291s 14s/step             (0 + 4) / 16]\n",
      "20/20 [==============================] - 292s 14s/step\n",
      "20/20 [==============================] - 292s 15s/step\n",
      "20/20 [==============================] - 292s 15s/step\n",
      "20/20 [==============================] - 185s 9s/step              (4 \n",
      "20/20 [==============================] - 256s 13s/step       \n",
      "20/20 [==============================] - 257s 13s/step\n",
      "20/20 [==============================] - 261s 13s/step             (5 + 4) / 1\n",
      "20/20 [==============================] - 239s 11s/step             (8 + 4) / 1\n",
      "20/20 [==============================] - 245s 12s/step             (9 + 4\n",
      "20/20 [==============================] - 249s 12s/step\n",
      "20/20 [==============================] - 246s 12s/step\n",
      "20/20 [==============================] - 210s 10s/step\n",
      "20/20 [==============================] - 234s 12s/step=>         \n",
      "20/20 [==============================] - 236s 12s/step\n",
      "20/20 [==============================] - 231s 11s/step=====>      (14 + 2) / 16]\n",
      "                                                                                \r"
     ]
    }
   ],
   "source": [
    "# Entrainement de l'algorithme\n",
    "pca = PCA(k=n_components, inputCol='features_scaled', outputCol='vectors_pca')\n",
    "model_pca = pca.fit(df_pca)"
   ]
  },
  {
   "cell_type": "code",
   "execution_count": 35,
   "metadata": {
    "application/vnd.databricks.v1+cell": {
     "inputWidgets": {},
     "nuid": "2e8f841c-da20-425d-aabc-96d4195a3bb3",
     "showTitle": false,
     "title": ""
    }
   },
   "outputs": [],
   "source": [
    "# Transformation des images sur les k premières composantes\n",
    "df_reduit = model_pca.transform(df_pca)"
   ]
  },
  {
   "cell_type": "code",
   "execution_count": 36,
   "metadata": {
    "application/vnd.databricks.v1+cell": {
     "inputWidgets": {},
     "nuid": "e3949a49-35df-43ea-81f4-e6a9e494db4a",
     "showTitle": false,
     "title": ""
    }
   },
   "outputs": [
    {
     "name": "stderr",
     "output_type": "stream",
     "text": [
      "[Stage 45:=====================================================>(317 + 1) / 318]\r"
     ]
    },
    {
     "name": "stdout",
     "output_type": "stream",
     "text": [
      "23/02/23 14:04:05 WARN DAGScheduler: Broadcasting large task binary with size 6.3 MiB\n"
     ]
    },
    {
     "name": "stderr",
     "output_type": "stream",
     "text": [
      "20/20 [==============================] - 74s 4s/step                (0 + 1\n",
      "                                                                                \r"
     ]
    },
    {
     "name": "stdout",
     "output_type": "stream",
     "text": [
      "+--------------------+------------------+--------------------+--------------------+--------------------+--------------------+\n",
      "|                path|            Classe|            features|    features_vectors|     features_scaled|         vectors_pca|\n",
      "+--------------------+------------------+--------------------+--------------------+--------------------+--------------------+\n",
      "|s3a://oc-mb-fruit...|    Apple Golden 1|[1.3908136, 0.105...|[1.39081358909606...|[-0.4585866510895...|[10.0888665540643...|\n",
      "|s3a://oc-mb-fruit...|    Apple Golden 1|[1.1243606, 1.209...|[1.12436056137084...|[-0.7558685133007...|[13.0278364687298...|\n",
      "|s3a://oc-mb-fruit...|    Apple Golden 1|[0.36248526, 1.06...|[0.36248525977134...|[-1.6058934139962...|[11.8246161873753...|\n",
      "|s3a://oc-mb-fruit...|    Apple Golden 1|[1.0520958, 1.028...|[1.05209577083587...|[-0.8364943995439...|[9.40815482006264...|\n",
      "|s3a://oc-mb-fruit...|    Apple Golden 1|[0.8404527, 0.388...|[0.84045267105102...|[-1.0726247800665...|[13.2086149661005...|\n",
      "|s3a://oc-mb-fruit...|    Apple Golden 1|[1.0635741, 0.433...|[1.06357407569885...|[-0.8236880453665...|[16.3980885824110...|\n",
      "|s3a://oc-mb-fruit...|    Apple Golden 1|[1.0872327, 1.263...|[1.08723270893096...|[-0.7972920888084...|[3.23006980626735...|\n",
      "|s3a://oc-mb-fruit...|Apple Red Yellow 1|[1.4332622, 0.664...|[1.43326222896575...|[-0.4112266686697...|[17.0578853472322...|\n",
      "|s3a://oc-mb-fruit...|    Apple Golden 1|[1.6863952, 0.560...|[1.68639516830444...|[-0.1288060400282...|[20.8628440824765...|\n",
      "|s3a://oc-mb-fruit...|Apple Red Yellow 1|[0.90005374, 0.78...|[0.90005373954772...|[-1.0061278189183...|[21.6074572020869...|\n",
      "|s3a://oc-mb-fruit...|Apple Red Yellow 1|[0.7975104, 0.445...|[0.79751038551330...|[-1.1205355233643...|[15.0177873349516...|\n",
      "|s3a://oc-mb-fruit...|Apple Red Yellow 1|[0.58876705, 0.55...|[0.58876705169677...|[-1.3534306326108...|[17.3420447461872...|\n",
      "|s3a://oc-mb-fruit...|    Apple Golden 1|[1.1210836, 0.959...|[1.12108361721038...|[-0.7595246025960...|[11.6826549593435...|\n",
      "|s3a://oc-mb-fruit...|    Apple Golden 1|[1.488601, 0.5295...|[1.48860096931457...|[-0.3494851905421...|[13.109492693192,...|\n",
      "|s3a://oc-mb-fruit...|    Apple Braeburn|[1.343809, 0.9810...|[1.34380900859832...|[-0.5110297002158...|[21.6553831187057...|\n",
      "|s3a://oc-mb-fruit...|    Apple Golden 1|[0.81897044, 0.78...|[0.81897044181823...|[-1.0965925208924...|[16.5486696918616...|\n",
      "|s3a://oc-mb-fruit...|Apple Red Yellow 1|[1.1059368, 0.741...|[1.10593676567077...|[-0.7764239573182...|[12.8060092366372...|\n",
      "|s3a://oc-mb-fruit...|    Apple Braeburn|[1.3833911, 0.720...|[1.38339114189147...|[-0.4668678815412...|[19.2215593791102...|\n",
      "|s3a://oc-mb-fruit...|    Apple Braeburn|[1.5290076, 1.183...|[1.52900755405426...|[-0.3044035307105...|[18.9338611259480...|\n",
      "|s3a://oc-mb-fruit...|    Apple Braeburn|[1.2417666, 0.417...|[1.24176657199859...|[-0.6248785306678...|[17.0721881940685...|\n",
      "+--------------------+------------------+--------------------+--------------------+--------------------+--------------------+\n",
      "only showing top 20 rows\n",
      "\n"
     ]
    }
   ],
   "source": [
    "# Visualisation du dataframe réduit\n",
    "df_reduit.show()"
   ]
  },
  {
   "cell_type": "markdown",
   "metadata": {
    "application/vnd.databricks.v1+cell": {
     "inputWidgets": {},
     "nuid": "d74fe0f1-d5d2-48c8-917f-f1267738e315",
     "showTitle": false,
     "title": ""
    }
   },
   "source": [
    "#### 3.4.3. Sauvegarde des données"
   ]
  },
  {
   "cell_type": "markdown",
   "metadata": {
    "application/vnd.databricks.v1+cell": {
     "inputWidgets": {},
     "nuid": "aede2505-9e76-4b6b-9609-12fb013b560b",
     "showTitle": false,
     "title": ""
    }
   },
   "source": [
    "Finalement, on sauvegarde les données pré-traitées et réduites au format parquet."
   ]
  },
  {
   "cell_type": "code",
   "execution_count": 37,
   "metadata": {
    "application/vnd.databricks.v1+cell": {
     "inputWidgets": {},
     "nuid": "358edb0a-e0ab-4a0d-a681-d8345e28b57b",
     "showTitle": false,
     "title": ""
    }
   },
   "outputs": [
    {
     "name": "stderr",
     "output_type": "stream",
     "text": [
      "[Stage 48:=====================================================>(316 + 2) / 318]\r"
     ]
    },
    {
     "name": "stdout",
     "output_type": "stream",
     "text": [
      "23/02/23 14:09:15 WARN DAGScheduler: Broadcasting large task binary with size 6.5 MiB\n"
     ]
    },
    {
     "name": "stderr",
     "output_type": "stream",
     "text": [
      "20/20 [==============================] - 295s 14s/step             (0 + 4) /\n",
      "20/20 [==============================] - 295s 14s/step\n",
      "20/20 [==============================] - 296s 14s/step\n",
      "20/20 [==============================] - 296s 14s/step\n",
      "20/20 [==============================] - 229s 12s/step             (4 + 4)\n",
      "20/20 [==============================] - 230s 12s/step\n",
      "20/20 [==============================] - 246s 12s/step             (6 + 4) / \n",
      "20/20 [==============================] - 246s 12s/step\n",
      "20/20 [==============================] - 242s 12s/step   \n",
      "20/20 [==============================] - 244s 12s/step             (\n",
      "20/20 [==============================] - 244s 12s/step            (10 + 4) / 16\n",
      "20/20 [==============================] - 246s 12s/step\n",
      "20/20 [==============================] - 245s 12s/step            (\n",
      "20/20 [==============================] - 243s 12s/step\n",
      "20/20 [==============================] - 246s 12s/step=>          (13 + 3) / \n",
      "20/20 [==============================] - 243s 12s/step\n",
      "                                                                                \r"
     ]
    }
   ],
   "source": [
    "# Sauvegarde des données\n",
    "df_reduit.write.mode(\"overwrite\").parquet(f\"{path_output}/resultats_features_parquet_docker\")"
   ]
  },
  {
   "cell_type": "markdown",
   "metadata": {
    "application/vnd.databricks.v1+cell": {
     "inputWidgets": {},
     "nuid": "f8e800e5-3ed1-4213-a20f-c55e9d46e9da",
     "showTitle": false,
     "title": ""
    }
   },
   "source": [
    "## 4. Test de classification (Bonus)"
   ]
  },
  {
   "cell_type": "markdown",
   "metadata": {
    "application/vnd.databricks.v1+cell": {
     "inputWidgets": {},
     "nuid": "278606c0-7174-42f5-b8a4-acaad4718780",
     "showTitle": false,
     "title": ""
    }
   },
   "source": [
    "### 4.1. Préparation des données"
   ]
  },
  {
   "cell_type": "markdown",
   "metadata": {
    "application/vnd.databricks.v1+cell": {
     "inputWidgets": {},
     "nuid": "1380369f-a905-4388-8e6c-2786b9c79392",
     "showTitle": false,
     "title": ""
    }
   },
   "source": [
    "**Seed**"
   ]
  },
  {
   "cell_type": "code",
   "execution_count": 38,
   "metadata": {
    "application/vnd.databricks.v1+cell": {
     "inputWidgets": {},
     "nuid": "5a348db2-6986-4077-8689-a9fae9a21a25",
     "showTitle": false,
     "title": ""
    }
   },
   "outputs": [],
   "source": [
    "# Nombre aléatoire pour la reproductibilité des résultats\n",
    "seed = 21"
   ]
  },
  {
   "cell_type": "markdown",
   "metadata": {
    "application/vnd.databricks.v1+cell": {
     "inputWidgets": {},
     "nuid": "e47aa71e-41c6-4639-9950-31d005c3dc6a",
     "showTitle": false,
     "title": ""
    }
   },
   "source": [
    "**Dataframe de travail**"
   ]
  },
  {
   "cell_type": "code",
   "execution_count": 39,
   "metadata": {
    "application/vnd.databricks.v1+cell": {
     "inputWidgets": {},
     "nuid": "282d97c4-44d4-493d-ab89-2bf40971a38b",
     "showTitle": false,
     "title": ""
    }
   },
   "outputs": [],
   "source": [
    "# Chargement du dataframe sauvegardé en parquet\n",
    "parquetFiles = f\"{path_output}/resultats_features_parquet_docker/\"\n",
    "\n",
    "df_reduit = spark.read.parquet(parquetFiles)"
   ]
  },
  {
   "cell_type": "code",
   "execution_count": 40,
   "metadata": {
    "application/vnd.databricks.v1+cell": {
     "inputWidgets": {},
     "nuid": "bd1a069c-1ac5-4c1b-ae86-2db55090ffef",
     "showTitle": false,
     "title": ""
    }
   },
   "outputs": [],
   "source": [
    "# Conservation de la classe de l'image et des vecteurs pca\n",
    "data = df_reduit[[\"Classe\", \"vectors_pca\"]]"
   ]
  },
  {
   "cell_type": "code",
   "execution_count": 41,
   "metadata": {
    "application/vnd.databricks.v1+cell": {
     "inputWidgets": {},
     "nuid": "d28421f3-af2d-4613-80fb-99855b815d88",
     "showTitle": false,
     "title": ""
    }
   },
   "outputs": [
    {
     "name": "stderr",
     "output_type": "stream",
     "text": [
      "\r\n",
      "[Stage 52:>                                                         (0 + 1) / 1]\r"
     ]
    },
    {
     "name": "stdout",
     "output_type": "stream",
     "text": [
      "+------------------+--------------------+\n",
      "|            Classe|         vectors_pca|\n",
      "+------------------+--------------------+\n",
      "|    Apple Golden 1|[17.7831986774847...|\n",
      "|    Apple Golden 1|[19.1825409301842...|\n",
      "|Apple Red Yellow 1|[21.8540157137091...|\n",
      "|    Apple Golden 1|[14.9590223993291...|\n",
      "|    Apple Golden 1|[7.61593602112723...|\n",
      "+------------------+--------------------+\n",
      "only showing top 5 rows\n",
      "\n"
     ]
    },
    {
     "name": "stderr",
     "output_type": "stream",
     "text": [
      "\r\n",
      "                                                                                \r"
     ]
    }
   ],
   "source": [
    "data.show(5)"
   ]
  },
  {
   "cell_type": "markdown",
   "metadata": {
    "application/vnd.databricks.v1+cell": {
     "inputWidgets": {},
     "nuid": "7f1043a8-8882-41cb-8027-9b97661d39a8",
     "showTitle": false,
     "title": ""
    }
   },
   "source": [
    "**Encodage de la variable cible**"
   ]
  },
  {
   "cell_type": "code",
   "execution_count": 42,
   "metadata": {
    "application/vnd.databricks.v1+cell": {
     "inputWidgets": {},
     "nuid": "b1bc5646-f4fd-4173-9f22-4f1549c2a693",
     "showTitle": false,
     "title": ""
    }
   },
   "outputs": [
    {
     "name": "stderr",
     "output_type": "stream",
     "text": [
      "                                                                                \r"
     ]
    }
   ],
   "source": [
    "# Encodage de la variable cible : la classe de l'image acceptable par le modèle\n",
    "indexer = StringIndexer(inputCol=\"Classe\", outputCol=\"Classe_index\")\n",
    "\n",
    "# Fit the indexer to learn Classe/index pairs\n",
    "indexerModel = indexer.fit(data)\n",
    "\n",
    "# Append a new column with the index\n",
    "data = indexerModel.transform(data)"
   ]
  },
  {
   "cell_type": "code",
   "execution_count": 43,
   "metadata": {
    "application/vnd.databricks.v1+cell": {
     "inputWidgets": {},
     "nuid": "42729fa0-10da-4823-b550-35c24dbbe534",
     "showTitle": false,
     "title": ""
    }
   },
   "outputs": [
    {
     "name": "stdout",
     "output_type": "stream",
     "text": [
      "+------------------+--------------------+------------+\n",
      "|            Classe|         vectors_pca|Classe_index|\n",
      "+------------------+--------------------+------------+\n",
      "|    Apple Golden 1|[17.7831986774847...|        13.0|\n",
      "|    Apple Golden 1|[19.1825409301842...|        13.0|\n",
      "|Apple Red Yellow 1|[21.8540157137091...|         6.0|\n",
      "|    Apple Golden 1|[14.9590223993291...|        13.0|\n",
      "|    Apple Golden 1|[7.61593602112723...|        13.0|\n",
      "|    Apple Golden 1|[11.8499044028579...|        13.0|\n",
      "|    Apple Golden 1|[3.25541272728802...|        13.0|\n",
      "|    Apple Golden 1|[13.1831756451722...|        13.0|\n",
      "|Apple Red Yellow 1|[15.8235284653867...|         6.0|\n",
      "|Apple Red Yellow 1|[13.9317452277242...|         6.0|\n",
      "+------------------+--------------------+------------+\n",
      "only showing top 10 rows\n",
      "\n"
     ]
    },
    {
     "name": "stderr",
     "output_type": "stream",
     "text": [
      "\r\n",
      "[Stage 56:>                                                         (0 + 1) / 1]\r\n",
      "\r\n",
      "                                                                                \r"
     ]
    }
   ],
   "source": [
    "data.show(10)"
   ]
  },
  {
   "cell_type": "markdown",
   "metadata": {
    "application/vnd.databricks.v1+cell": {
     "inputWidgets": {},
     "nuid": "e90896b3-d7ec-4fa7-9e14-48a62d812465",
     "showTitle": false,
     "title": ""
    }
   },
   "source": [
    "**Découpage du jeu du train set en jeux d'entraînement et de validation**"
   ]
  },
  {
   "cell_type": "code",
   "execution_count": 44,
   "metadata": {
    "application/vnd.databricks.v1+cell": {
     "inputWidgets": {},
     "nuid": "ff7fde07-aaaf-48f3-9bb2-5ea7ca8744b1",
     "showTitle": false,
     "title": ""
    }
   },
   "outputs": [],
   "source": [
    "# data splitting\n",
    "(train_data, valid_data) = data.randomSplit([0.8, 0.2])"
   ]
  },
  {
   "cell_type": "code",
   "execution_count": 45,
   "metadata": {
    "application/vnd.databricks.v1+cell": {
     "inputWidgets": {},
     "nuid": "527f0ecd-e2a4-4bd2-a7cd-08fc422c58d6",
     "showTitle": false,
     "title": ""
    }
   },
   "outputs": [
    {
     "name": "stderr",
     "output_type": "stream",
     "text": [
      "                                                                                \r"
     ]
    },
    {
     "name": "stdout",
     "output_type": "stream",
     "text": [
      "Nbre élément train_data : 8181\n"
     ]
    },
    {
     "name": "stderr",
     "output_type": "stream",
     "text": [
      "[Stage 60:==============>                                           (1 + 3) / 4]\r"
     ]
    },
    {
     "name": "stdout",
     "output_type": "stream",
     "text": [
      "Nbre élément valid_data : 1975\n"
     ]
    },
    {
     "name": "stderr",
     "output_type": "stream",
     "text": [
      "\r\n",
      "[Stage 60:=============================>                            (2 + 2) / 4]\r\n",
      "\r\n",
      "                                                                                \r"
     ]
    }
   ],
   "source": [
    "print(\"Nbre élément train_data : \" + str(train_data.count()))\n",
    "print(\"Nbre élément valid_data : \" + str(valid_data.count()))"
   ]
  },
  {
   "cell_type": "code",
   "execution_count": 46,
   "metadata": {
    "application/vnd.databricks.v1+cell": {
     "inputWidgets": {},
     "nuid": "85350d15-15f7-499d-a6f2-cd67f4174d20",
     "showTitle": false,
     "title": ""
    }
   },
   "outputs": [
    {
     "name": "stderr",
     "output_type": "stream",
     "text": [
      "\r\n",
      "[Stage 63:>                                                         (0 + 1) / 1]\r"
     ]
    },
    {
     "name": "stdout",
     "output_type": "stream",
     "text": [
      "+--------------+--------------------+------------+\n",
      "|        Classe|         vectors_pca|Classe_index|\n",
      "+--------------+--------------------+------------+\n",
      "|Apple Braeburn|[5.42407259015119...|         1.0|\n",
      "|Apple Braeburn|[6.13695916121848...|         1.0|\n",
      "|Apple Braeburn|[8.28306107415651...|         1.0|\n",
      "+--------------+--------------------+------------+\n",
      "only showing top 3 rows\n",
      "\n"
     ]
    },
    {
     "name": "stderr",
     "output_type": "stream",
     "text": [
      "\r\n",
      "                                                                                \r"
     ]
    }
   ],
   "source": [
    "train_data.show(3)"
   ]
  },
  {
   "cell_type": "markdown",
   "metadata": {
    "application/vnd.databricks.v1+cell": {
     "inputWidgets": {},
     "nuid": "29dc1076-f3f9-46c9-8368-8d5084670ff8",
     "showTitle": false,
     "title": ""
    }
   },
   "source": [
    "### 4.2. Modélisation Logistic Regression"
   ]
  },
  {
   "cell_type": "markdown",
   "metadata": {
    "application/vnd.databricks.v1+cell": {
     "inputWidgets": {},
     "nuid": "799e5db5-5f84-4a69-a54d-2a9c9ef9d1af",
     "showTitle": false,
     "title": ""
    }
   },
   "source": [
    "***Modélisation Régression Logistique***"
   ]
  },
  {
   "cell_type": "markdown",
   "metadata": {
    "application/vnd.databricks.v1+cell": {
     "inputWidgets": {},
     "nuid": "394ba801-dea1-4189-86dd-69a444c2ed73",
     "showTitle": false,
     "title": ""
    }
   },
   "source": [
    "[Source](https://spark.apache.org/docs/latest/ml-classification-regression.html#multinomial-logistic-regression)"
   ]
  },
  {
   "cell_type": "markdown",
   "metadata": {
    "application/vnd.databricks.v1+cell": {
     "inputWidgets": {},
     "nuid": "7ffbb88f-a17b-46f3-8335-f17231baccbf",
     "showTitle": false,
     "title": ""
    }
   },
   "source": [
    "***Entraînement du modèle***"
   ]
  },
  {
   "cell_type": "code",
   "execution_count": 47,
   "metadata": {
    "application/vnd.databricks.v1+cell": {
     "inputWidgets": {},
     "nuid": "2209746b-3f0f-4fc0-8cb0-661fe8397ac4",
     "showTitle": false,
     "title": ""
    }
   },
   "outputs": [
    {
     "name": "stderr",
     "output_type": "stream",
     "text": [
      "                                                                                \r"
     ]
    },
    {
     "name": "stdout",
     "output_type": "stream",
     "text": [
      "23/02/23 14:31:21 WARN BLAS: Failed to load implementation from: com.github.fommil.netlib.NativeSystemBLAS\n",
      "23/02/23 14:31:21 WARN BLAS: Failed to load implementation from: com.github.fommil.netlib.NativeRefBLAS\n"
     ]
    }
   ],
   "source": [
    "# Instanciation du modèle.\n",
    "lr = LogisticRegression(labelCol=\"Classe_index\", featuresCol=\"vectors_pca\",\n",
    "                        maxIter=5)\n",
    "\n",
    "# Entraînement du modèle\n",
    "lr_model = lr.fit(train_data)"
   ]
  },
  {
   "cell_type": "markdown",
   "metadata": {
    "application/vnd.databricks.v1+cell": {
     "inputWidgets": {},
     "nuid": "828fa338-d096-4a9c-814d-7e49e6bc1773",
     "showTitle": false,
     "title": ""
    }
   },
   "source": [
    "***Prédictions***"
   ]
  },
  {
   "cell_type": "code",
   "execution_count": 48,
   "metadata": {
    "application/vnd.databricks.v1+cell": {
     "inputWidgets": {},
     "nuid": "02af5ecd-d144-4da7-bf56-456660226d53",
     "showTitle": false,
     "title": ""
    }
   },
   "outputs": [
    {
     "name": "stderr",
     "output_type": "stream",
     "text": [
      "\r\n",
      "[Stage 72:>                                                         (0 + 1) / 1]\r"
     ]
    },
    {
     "name": "stdout",
     "output_type": "stream",
     "text": [
      "+----------+------------+\n",
      "|prediction|Classe_index|\n",
      "+----------+------------+\n",
      "|       1.0|         1.0|\n",
      "|       1.0|         1.0|\n",
      "|       1.0|         1.0|\n",
      "|       1.0|         1.0|\n",
      "|       1.0|         1.0|\n",
      "+----------+------------+\n",
      "only showing top 5 rows\n",
      "\n"
     ]
    },
    {
     "name": "stderr",
     "output_type": "stream",
     "text": [
      "\r\n",
      "                                                                                \r"
     ]
    }
   ],
   "source": [
    "# Make predictions.\n",
    "lr_predictions = lr_model.transform(valid_data)\n",
    "\n",
    "# Select example rows to display.\n",
    "lr_predictions.select(\"prediction\", \"Classe_index\").show(5)"
   ]
  },
  {
   "cell_type": "markdown",
   "metadata": {
    "application/vnd.databricks.v1+cell": {
     "inputWidgets": {},
     "nuid": "a510f62c-9f1d-4c8f-85b9-683671813743",
     "showTitle": false,
     "title": ""
    }
   },
   "source": [
    "***Évaluation du modèle***"
   ]
  },
  {
   "cell_type": "code",
   "execution_count": 49,
   "metadata": {
    "application/vnd.databricks.v1+cell": {
     "inputWidgets": {},
     "nuid": "190ac474-9027-4bf7-a0b1-8cab0bbef520",
     "showTitle": false,
     "title": ""
    }
   },
   "outputs": [
    {
     "name": "stderr",
     "output_type": "stream",
     "text": [
      "\r\n",
      "[Stage 73:>                                                         (0 + 4) / 4]\r"
     ]
    },
    {
     "name": "stdout",
     "output_type": "stream",
     "text": [
      "Test Error = 0\n",
      "Accuracy = 1 \n"
     ]
    },
    {
     "name": "stderr",
     "output_type": "stream",
     "text": [
      "\r\n",
      "[Stage 73:=============================>                            (2 + 2) / 4]\r\n",
      "\r\n",
      "                                                                                \r"
     ]
    }
   ],
   "source": [
    "# Select (prediction, true label) and compute test error\n",
    "evaluator = MulticlassClassificationEvaluator(\n",
    "    labelCol=\"Classe_index\", predictionCol=\"prediction\", metricName=\"accuracy\")\n",
    "lr_accuracy = evaluator.evaluate(lr_predictions)\n",
    "print(\"Test Error = %g\" % (1.0 - lr_accuracy))\n",
    "print(\"Accuracy = %g \" % lr_accuracy)"
   ]
  },
  {
   "cell_type": "markdown",
   "metadata": {
    "application/vnd.databricks.v1+cell": {
     "inputWidgets": {},
     "nuid": "a21f9374-af67-4315-a748-f7a5b9f59c42",
     "showTitle": false,
     "title": ""
    }
   },
   "source": [
    "***Informations sur le modèle***"
   ]
  },
  {
   "cell_type": "code",
   "execution_count": 50,
   "metadata": {
    "application/vnd.databricks.v1+cell": {
     "inputWidgets": {},
     "nuid": "f9940865-4518-4062-8624-d882dda19d1a",
     "showTitle": false,
     "title": ""
    }
   },
   "outputs": [
    {
     "name": "stdout",
     "output_type": "stream",
     "text": [
      "Coefficients: \n",
      "DenseMatrix([[ 0.00807486,  0.00093297,  0.0113877 , ...,  0.04181633,\n",
      "               0.1225972 , -0.07498887],\n",
      "             [ 0.03205731,  0.00898669,  0.00366905, ...,  0.03149249,\n",
      "               0.06003111, -0.02459186],\n",
      "             [ 0.02272443,  0.01618705,  0.00707976, ..., -0.15501492,\n",
      "              -0.02889036,  0.01895527],\n",
      "             ...,\n",
      "             [ 0.03373483,  0.00239208,  0.00039793, ..., -0.02069195,\n",
      "              -0.11128819,  0.14101735],\n",
      "             [ 0.00921943, -0.0060061 , -0.00470468, ..., -0.04104298,\n",
      "              -0.07606165,  0.01429307],\n",
      "             [-0.02172264, -0.06141798, -0.0311153 , ..., -0.03617463,\n",
      "              -0.02826665, -0.04067397]])\n",
      "Intercept: [0.3552784691672554,0.03792962523219951,0.04540531031241126,0.028519677833253303,0.061408066467469415,0.07803733985447447,0.01985723204517775,0.016422222630849092,-0.02776003078410383,-0.016134346122982517,-0.02877947380845544,-0.007774450602258859,0.07235045207897427,-0.010402146914838133,-0.07655692633817439,-0.00791632818459995,-0.09440949097985397,-0.100952373668786,-0.08503366397366807,-0.1145822282987842,-0.1449069359455592]\n",
      "objectiveHistory:\n",
      "3.0397284849319886\n",
      "1.743324248774298\n",
      "0.004507280939724383\n",
      "0.004108268551886962\n",
      "0.0025865165293723243\n",
      "0.0018653213944799514\n",
      "False positive rate by label:\n"
     ]
    },
    {
     "name": "stderr",
     "output_type": "stream",
     "text": [
      "[Stage 75:===========================================>              (3 + 1) / 4]\r"
     ]
    },
    {
     "name": "stdout",
     "output_type": "stream",
     "text": [
      "label 0: 0.0\n",
      "label 1: 0.0\n",
      "label 2: 0.0\n",
      "label 3: 0.0\n",
      "label 4: 0.0\n",
      "label 5: 0.0\n",
      "label 6: 0.0\n",
      "label 7: 0.0\n",
      "label 8: 0.0\n",
      "label 9: 0.0\n",
      "label 10: 0.0\n",
      "label 11: 0.0\n",
      "label 12: 0.0\n",
      "label 13: 0.0\n",
      "label 14: 0.0\n",
      "label 15: 0.0\n",
      "label 16: 0.0\n",
      "label 17: 0.0\n",
      "label 18: 0.0\n",
      "label 19: 0.0\n",
      "label 20: 0.0\n",
      "True positive rate by label:\n",
      "label 0: 1.0\n",
      "label 1: 1.0\n",
      "label 2: 1.0\n",
      "label 3: 1.0\n",
      "label 4: 1.0\n",
      "label 5: 1.0\n",
      "label 6: 1.0\n",
      "label 7: 1.0\n",
      "label 8: 1.0\n",
      "label 9: 1.0\n",
      "label 10: 1.0\n",
      "label 11: 1.0\n",
      "label 12: 1.0\n",
      "label 13: 1.0\n",
      "label 14: 1.0\n",
      "label 15: 1.0\n",
      "label 16: 1.0\n",
      "label 17: 1.0\n",
      "label 18: 1.0\n",
      "label 19: 1.0\n",
      "label 20: 1.0\n",
      "Precision by label:\n",
      "label 0: 1.0\n",
      "label 1: 1.0\n",
      "label 2: 1.0\n",
      "label 3: 1.0\n",
      "label 4: 1.0\n",
      "label 5: 1.0\n",
      "label 6: 1.0\n",
      "label 7: 1.0\n",
      "label 8: 1.0\n",
      "label 9: 1.0\n",
      "label 10: 1.0\n",
      "label 11: 1.0\n",
      "label 12: 1.0\n",
      "label 13: 1.0\n",
      "label 14: 1.0\n",
      "label 15: 1.0\n",
      "label 16: 1.0\n",
      "label 17: 1.0\n",
      "label 18: 1.0\n",
      "label 19: 1.0\n",
      "label 20: 1.0\n",
      "Recall by label:\n",
      "label 0: 1.0\n",
      "label 1: 1.0\n",
      "label 2: 1.0\n",
      "label 3: 1.0\n",
      "label 4: 1.0\n",
      "label 5: 1.0\n",
      "label 6: 1.0\n",
      "label 7: 1.0\n",
      "label 8: 1.0\n",
      "label 9: 1.0\n",
      "label 10: 1.0\n",
      "label 11: 1.0\n",
      "label 12: 1.0\n",
      "label 13: 1.0\n",
      "label 14: 1.0\n",
      "label 15: 1.0\n",
      "label 16: 1.0\n",
      "label 17: 1.0\n",
      "label 18: 1.0\n",
      "label 19: 1.0\n",
      "label 20: 1.0\n",
      "F-measure by label:\n",
      "label 0: 1.0\n",
      "label 1: 1.0\n",
      "label 2: 1.0\n",
      "label 3: 1.0\n",
      "label 4: 1.0\n",
      "label 5: 1.0\n",
      "label 6: 1.0\n",
      "label 7: 1.0\n",
      "label 8: 1.0\n",
      "label 9: 1.0\n",
      "label 10: 1.0\n",
      "label 11: 1.0\n",
      "label 12: 1.0\n",
      "label 13: 1.0\n",
      "label 14: 1.0\n",
      "label 15: 1.0\n",
      "label 16: 1.0\n",
      "label 17: 1.0\n",
      "label 18: 1.0\n",
      "label 19: 1.0\n",
      "label 20: 1.0\n",
      "Accuracy: 1.0\n",
      "FPR: 0.0\n",
      "TPR: 1.0\n",
      "F-measure: 1.0\n",
      "Precision: 1.0\n",
      "Recall: 1.0\n"
     ]
    },
    {
     "name": "stderr",
     "output_type": "stream",
     "text": [
      "\r\n",
      "                                                                                \r"
     ]
    }
   ],
   "source": [
    "# Print the coefficients and intercept for multinomial logistic regression\n",
    "print(\"Coefficients: \\n\" + str(lr_model.coefficientMatrix))\n",
    "print(\"Intercept: \" + str(lr_model.interceptVector))\n",
    "\n",
    "trainingSummary = lr_model.summary\n",
    "\n",
    "# Obtain the objective per iteration\n",
    "objectiveHistory = trainingSummary.objectiveHistory\n",
    "print(\"objectiveHistory:\")\n",
    "for objective in objectiveHistory:\n",
    "    print(objective)\n",
    "\n",
    "# for multiclass, we can inspect metrics on a per-label basis\n",
    "print(\"False positive rate by label:\")\n",
    "for i, rate in enumerate(trainingSummary.falsePositiveRateByLabel):\n",
    "    print(\"label %d: %s\" % (i, rate))\n",
    "\n",
    "print(\"True positive rate by label:\")\n",
    "for i, rate in enumerate(trainingSummary.truePositiveRateByLabel):\n",
    "    print(\"label %d: %s\" % (i, rate))\n",
    "\n",
    "print(\"Precision by label:\")\n",
    "for i, prec in enumerate(trainingSummary.precisionByLabel):\n",
    "    print(\"label %d: %s\" % (i, prec))\n",
    "\n",
    "print(\"Recall by label:\")\n",
    "for i, rec in enumerate(trainingSummary.recallByLabel):\n",
    "    print(\"label %d: %s\" % (i, rec))\n",
    "\n",
    "print(\"F-measure by label:\")\n",
    "for i, f in enumerate(trainingSummary.fMeasureByLabel()):\n",
    "    print(\"label %d: %s\" % (i, f))\n",
    "\n",
    "accuracy = trainingSummary.accuracy\n",
    "falsePositiveRate = trainingSummary.weightedFalsePositiveRate\n",
    "truePositiveRate = trainingSummary.weightedTruePositiveRate\n",
    "fMeasure = trainingSummary.weightedFMeasure()\n",
    "precision = trainingSummary.weightedPrecision\n",
    "recall = trainingSummary.weightedRecall\n",
    "print(\"Accuracy: %s\\nFPR: %s\\nTPR: %s\\nF-measure: %s\\nPrecision: %s\\nRecall: %s\"\n",
    "      % (accuracy, falsePositiveRate, truePositiveRate, fMeasure, precision, recall))"
   ]
  },
  {
   "cell_type": "markdown",
   "metadata": {
    "application/vnd.databricks.v1+cell": {
     "inputWidgets": {},
     "nuid": "051d1229-7fae-48a5-97dd-075b1069c65a",
     "showTitle": false,
     "title": ""
    }
   },
   "source": [
    "### 4.3. Modélisation Decision Tree Classifier"
   ]
  },
  {
   "cell_type": "markdown",
   "metadata": {
    "application/vnd.databricks.v1+cell": {
     "inputWidgets": {},
     "nuid": "3a6679a9-1070-4077-91f1-a7c14360e3a1",
     "showTitle": false,
     "title": ""
    }
   },
   "source": [
    "***Modélisation Decision Tree Classifier***"
   ]
  },
  {
   "cell_type": "markdown",
   "metadata": {
    "application/vnd.databricks.v1+cell": {
     "inputWidgets": {},
     "nuid": "62100fb6-4dbd-4086-9264-0683a5016dbd",
     "showTitle": false,
     "title": ""
    }
   },
   "source": [
    "[Source](https://spark.apache.org/docs/latest/ml-classification-regression.html#decision-tree-classifier)"
   ]
  },
  {
   "cell_type": "markdown",
   "metadata": {
    "application/vnd.databricks.v1+cell": {
     "inputWidgets": {},
     "nuid": "df42df8e-f2af-4ce1-8225-b611b66a5282",
     "showTitle": false,
     "title": ""
    }
   },
   "source": [
    "***Entraînement du modèle***"
   ]
  },
  {
   "cell_type": "code",
   "execution_count": 51,
   "metadata": {
    "application/vnd.databricks.v1+cell": {
     "inputWidgets": {},
     "nuid": "c9516e3b-a863-4c63-95ed-78c26ae3276d",
     "showTitle": false,
     "title": ""
    }
   },
   "outputs": [
    {
     "name": "stderr",
     "output_type": "stream",
     "text": [
      "                                                                                \r"
     ]
    }
   ],
   "source": [
    "# Instanciation du modèle.\n",
    "dtc = DecisionTreeClassifier(labelCol=\"Classe_index\", featuresCol=\"vectors_pca\",\n",
    "                             seed=seed)\n",
    "\n",
    "# Entraînement du modèle\n",
    "dtc_model = dtc.fit(train_data)"
   ]
  },
  {
   "cell_type": "markdown",
   "metadata": {
    "application/vnd.databricks.v1+cell": {
     "inputWidgets": {},
     "nuid": "38cc623e-e825-4e00-a78c-71c8182fa474",
     "showTitle": false,
     "title": ""
    }
   },
   "source": [
    "***Prédictions***"
   ]
  },
  {
   "cell_type": "code",
   "execution_count": 52,
   "metadata": {
    "application/vnd.databricks.v1+cell": {
     "inputWidgets": {},
     "nuid": "14989cfe-af7b-4f66-b39f-1e7ae06e08bb",
     "showTitle": false,
     "title": ""
    }
   },
   "outputs": [
    {
     "name": "stderr",
     "output_type": "stream",
     "text": [
      "\r\n",
      "[Stage 91:>                                                         (0 + 1) / 1]\r"
     ]
    },
    {
     "name": "stdout",
     "output_type": "stream",
     "text": [
      "+----------+------------+\n",
      "|prediction|Classe_index|\n",
      "+----------+------------+\n",
      "|      18.0|         1.0|\n",
      "|       1.0|         1.0|\n",
      "|       1.0|         1.0|\n",
      "|      12.0|         1.0|\n",
      "|       1.0|         1.0|\n",
      "+----------+------------+\n",
      "only showing top 5 rows\n",
      "\n"
     ]
    },
    {
     "name": "stderr",
     "output_type": "stream",
     "text": [
      "\r\n",
      "                                                                                \r"
     ]
    }
   ],
   "source": [
    "# Make predictions.\n",
    "dtc_predictions = dtc_model.transform(valid_data)\n",
    "\n",
    "# Select example rows to display.\n",
    "dtc_predictions.select(\"prediction\", \"Classe_index\").show(5)"
   ]
  },
  {
   "cell_type": "markdown",
   "metadata": {
    "application/vnd.databricks.v1+cell": {
     "inputWidgets": {},
     "nuid": "251d6682-74f7-460d-a0c4-e780e6aad6ed",
     "showTitle": false,
     "title": ""
    }
   },
   "source": [
    "***Évaluation du modèle***"
   ]
  },
  {
   "cell_type": "code",
   "execution_count": 53,
   "metadata": {
    "application/vnd.databricks.v1+cell": {
     "inputWidgets": {},
     "nuid": "f59cfcc0-80da-4fe0-a899-e05d672b0145",
     "showTitle": false,
     "title": ""
    }
   },
   "outputs": [
    {
     "name": "stderr",
     "output_type": "stream",
     "text": [
      "[Stage 92:==============>                                           (1 + 3) / 4]\r"
     ]
    },
    {
     "name": "stdout",
     "output_type": "stream",
     "text": [
      "Test Error = 0.420253\n",
      "Accuracy = 0.579747 \n"
     ]
    },
    {
     "name": "stderr",
     "output_type": "stream",
     "text": [
      "\r\n",
      "[Stage 92:===========================================>              (3 + 1) / 4]\r\n",
      "\r\n",
      "                                                                                \r"
     ]
    }
   ],
   "source": [
    "# Select (prediction, true label) and compute test error\n",
    "evaluator = MulticlassClassificationEvaluator(\n",
    "    labelCol=\"Classe_index\", predictionCol=\"prediction\", metricName=\"accuracy\")\n",
    "dtc_accuracy = evaluator.evaluate(dtc_predictions)\n",
    "print(\"Test Error = %g\" % (1.0 - dtc_accuracy))\n",
    "print(\"Accuracy = %g \" % dtc_accuracy)"
   ]
  },
  {
   "cell_type": "markdown",
   "metadata": {
    "application/vnd.databricks.v1+cell": {
     "inputWidgets": {},
     "nuid": "7fe00824-c3ac-4f93-a54e-b8fbfe372baa",
     "showTitle": false,
     "title": ""
    }
   },
   "source": [
    "***Informations sur le modèle***"
   ]
  },
  {
   "cell_type": "code",
   "execution_count": 54,
   "metadata": {
    "application/vnd.databricks.v1+cell": {
     "inputWidgets": {},
     "nuid": "f9d296fb-908e-424c-ada3-db08e872ccb4",
     "showTitle": false,
     "title": ""
    }
   },
   "outputs": [
    {
     "name": "stdout",
     "output_type": "stream",
     "text": [
      "DecisionTreeClassificationModel: uid=DecisionTreeClassifier_91461eac64d0, depth=5, numNodes=63, numClasses=21, numFeatures=399\n",
      "  If (feature 0 <= -7.027327516535486)\n",
      "   If (feature 1 <= 1.135409772212815)\n",
      "    If (feature 5 <= 6.687913224009245)\n",
      "     If (feature 9 <= -3.2561438137401324)\n",
      "      If (feature 7 <= -0.7668402605863389)\n",
      "       Predict: 14.0\n",
      "      Else (feature 7 > -0.7668402605863389)\n",
      "       Predict: 3.0\n",
      "     Else (feature 9 > -3.2561438137401324)\n",
      "      If (feature 5 <= -8.434090491073535)\n",
      "       Predict: 17.0\n",
      "      Else (feature 5 > -8.434090491073535)\n",
      "       Predict: 20.0\n",
      "    Else (feature 5 > 6.687913224009245)\n",
      "     If (feature 12 <= -1.883080987563183)\n",
      "      If (feature 1 <= -10.106259752404016)\n",
      "       Predict: 20.0\n",
      "      Else (feature 1 > -10.106259752404016)\n",
      "       Predict: 3.0\n",
      "     Else (feature 12 > -1.883080987563183)\n",
      "      If (feature 2 <= -0.083835926085461)\n",
      "       Predict: 8.0\n",
      "      Else (feature 2 > -0.083835926085461)\n",
      "       Predict: 7.0\n",
      "   Else (feature 1 > 1.135409772212815)\n",
      "    If (feature 12 <= 2.2870349946924184)\n",
      "     If (feature 16 <= -1.2435412674226598)\n",
      "      If (feature 23 <= 3.8670997408743357)\n",
      "       Predict: 11.0\n",
      "      Else (feature 23 > 3.8670997408743357)\n",
      "       Predict: 10.0\n",
      "     Else (feature 16 > -1.2435412674226598)\n",
      "      If (feature 3 <= 2.3833957362402227)\n",
      "       Predict: 10.0\n",
      "      Else (feature 3 > 2.3833957362402227)\n",
      "       Predict: 3.0\n",
      "    Else (feature 12 > 2.2870349946924184)\n",
      "     If (feature 3 <= -5.404047396663046)\n",
      "      If (feature 4 <= 21.7539569995621)\n",
      "       Predict: 16.0\n",
      "      Else (feature 4 > 21.7539569995621)\n",
      "       Predict: 10.0\n",
      "     Else (feature 3 > -5.404047396663046)\n",
      "      If (feature 4 <= 7.521988027896916)\n",
      "       Predict: 9.0\n",
      "      Else (feature 4 > 7.521988027896916)\n",
      "       Predict: 10.0\n",
      "  Else (feature 0 > -7.027327516535486)\n",
      "   If (feature 4 <= -5.551355508523551)\n",
      "    If (feature 13 <= -1.9296809153545877)\n",
      "     If (feature 5 <= -1.556927869767295)\n",
      "      If (feature 28 <= 2.8432237842007035)\n",
      "       Predict: 0.0\n",
      "      Else (feature 28 > 2.8432237842007035)\n",
      "       Predict: 9.0\n",
      "     Else (feature 5 > -1.556927869767295)\n",
      "      If (feature 19 <= -3.932985953479636)\n",
      "       Predict: 3.0\n",
      "      Else (feature 19 > -3.932985953479636)\n",
      "       Predict: 4.0\n",
      "    Else (feature 13 > -1.9296809153545877)\n",
      "     If (feature 3 <= -0.669523696255967)\n",
      "      If (feature 1 <= 4.9007891921711195)\n",
      "       Predict: 1.0\n",
      "      Else (feature 1 > 4.9007891921711195)\n",
      "       Predict: 16.0\n",
      "     Else (feature 3 > -0.669523696255967)\n",
      "      If (feature 8 <= -1.719566799841687)\n",
      "       Predict: 9.0\n",
      "      Else (feature 8 > -1.719566799841687)\n",
      "       Predict: 15.0\n",
      "   Else (feature 4 > -5.551355508523551)\n",
      "    If (feature 9 <= 4.543780061669599)\n",
      "     If (feature 7 <= 2.7179399042169217)\n",
      "      If (feature 8 <= -8.641425665699588)\n",
      "       Predict: 1.0\n",
      "      Else (feature 8 > -8.641425665699588)\n",
      "       Predict: 18.0\n",
      "     Else (feature 7 > 2.7179399042169217)\n",
      "      If (feature 34 <= -2.704068886133575)\n",
      "       Predict: 2.0\n",
      "      Else (feature 34 > -2.704068886133575)\n",
      "       Predict: 12.0\n",
      "    Else (feature 9 > 4.543780061669599)\n",
      "     If (feature 27 <= -2.1268437637100788)\n",
      "      If (feature 21 <= -0.6466168082932191)\n",
      "       Predict: 15.0\n",
      "      Else (feature 21 > -0.6466168082932191)\n",
      "       Predict: 13.0\n",
      "     Else (feature 27 > -2.1268437637100788)\n",
      "      If (feature 18 <= -2.4795358211485032)\n",
      "       Predict: 19.0\n",
      "      Else (feature 18 > -2.4795358211485032)\n",
      "       Predict: 6.0\n",
      "\n"
     ]
    }
   ],
   "source": [
    "print(dtc_model.toDebugString)"
   ]
  },
  {
   "cell_type": "markdown",
   "metadata": {
    "application/vnd.databricks.v1+cell": {
     "inputWidgets": {},
     "nuid": "82115b1a-c732-4fde-8684-058f6de48545",
     "showTitle": false,
     "title": ""
    }
   },
   "source": [
    "### 4.4. Modélisation Random Forest Classifier"
   ]
  },
  {
   "cell_type": "markdown",
   "metadata": {
    "application/vnd.databricks.v1+cell": {
     "inputWidgets": {},
     "nuid": "92595fed-cd9b-4436-a2f4-46a241631fad",
     "showTitle": false,
     "title": ""
    }
   },
   "source": [
    "***Modélisation Random Forest Classifier***"
   ]
  },
  {
   "cell_type": "markdown",
   "metadata": {
    "application/vnd.databricks.v1+cell": {
     "inputWidgets": {},
     "nuid": "438b8b76-f212-4103-8a28-a1d2d703fe1f",
     "showTitle": false,
     "title": ""
    }
   },
   "source": [
    "[Source](https://spark.apache.org/docs/latest/ml-classification-regression.html#random-forest-classifier)"
   ]
  },
  {
   "cell_type": "markdown",
   "metadata": {
    "application/vnd.databricks.v1+cell": {
     "inputWidgets": {},
     "nuid": "bc18cb27-eb51-49bf-8956-6137ed44925b",
     "showTitle": false,
     "title": ""
    }
   },
   "source": [
    "***Entraînement du modèle***"
   ]
  },
  {
   "cell_type": "code",
   "execution_count": 55,
   "metadata": {
    "application/vnd.databricks.v1+cell": {
     "inputWidgets": {},
     "nuid": "53f9bf52-b5d4-40d5-a6f3-49a91df09ea5",
     "showTitle": false,
     "title": ""
    }
   },
   "outputs": [
    {
     "name": "stderr",
     "output_type": "stream",
     "text": [
      "                                                                                \r"
     ]
    }
   ],
   "source": [
    "# Instanciation du modèle.\n",
    "rf = RandomForestClassifier(labelCol=\"Classe_index\", featuresCol=\"vectors_pca\", numTrees=20,\n",
    "                             seed=seed)\n",
    "\n",
    "# Entraînement du modèle\n",
    "rf_model = rf.fit(train_data)"
   ]
  },
  {
   "cell_type": "markdown",
   "metadata": {
    "application/vnd.databricks.v1+cell": {
     "inputWidgets": {},
     "nuid": "f216f3c9-e4a0-4b7e-ae10-ee1431ab3a85",
     "showTitle": false,
     "title": ""
    }
   },
   "source": [
    "***Prédictions***"
   ]
  },
  {
   "cell_type": "code",
   "execution_count": 56,
   "metadata": {
    "application/vnd.databricks.v1+cell": {
     "inputWidgets": {},
     "nuid": "64c5b261-e309-4711-92d4-95806e216846",
     "showTitle": false,
     "title": ""
    }
   },
   "outputs": [
    {
     "name": "stderr",
     "output_type": "stream",
     "text": [
      "\r\n",
      "[Stage 108:>                                                        (0 + 1) / 1]\r"
     ]
    },
    {
     "name": "stdout",
     "output_type": "stream",
     "text": [
      "+----------+------------+\n",
      "|prediction|Classe_index|\n",
      "+----------+------------+\n",
      "|       1.0|         1.0|\n",
      "|       0.0|         1.0|\n",
      "|       1.0|         1.0|\n",
      "|       1.0|         1.0|\n",
      "|       1.0|         1.0|\n",
      "+----------+------------+\n",
      "only showing top 5 rows\n",
      "\n"
     ]
    },
    {
     "name": "stderr",
     "output_type": "stream",
     "text": [
      "\r\n",
      "                                                                                \r"
     ]
    }
   ],
   "source": [
    "# Make predictions.\n",
    "rf_predictions = rf_model.transform(valid_data)\n",
    "\n",
    "# Select example rows to display.\n",
    "rf_predictions.select(\"prediction\", \"Classe_index\").show(5)"
   ]
  },
  {
   "cell_type": "markdown",
   "metadata": {
    "application/vnd.databricks.v1+cell": {
     "inputWidgets": {},
     "nuid": "996b000f-2481-42f9-bcd7-868fd5a236ac",
     "showTitle": false,
     "title": ""
    }
   },
   "source": [
    "***Évaluation du modèle***"
   ]
  },
  {
   "cell_type": "code",
   "execution_count": 57,
   "metadata": {
    "application/vnd.databricks.v1+cell": {
     "inputWidgets": {},
     "nuid": "ca0d4b4e-ae7f-409a-ab8c-2b02c409ee52",
     "showTitle": false,
     "title": ""
    }
   },
   "outputs": [
    {
     "name": "stderr",
     "output_type": "stream",
     "text": [
      "\r\n",
      "[Stage 109:>                                                        (0 + 4) / 4]\r"
     ]
    },
    {
     "name": "stdout",
     "output_type": "stream",
     "text": [
      "Test Error = 0.113418\n",
      "Accuracy = 0.886582 \n"
     ]
    },
    {
     "name": "stderr",
     "output_type": "stream",
     "text": [
      "\r\n",
      "                                                                                \r"
     ]
    }
   ],
   "source": [
    "# Select (prediction, true label) and compute test error\n",
    "rf_evaluator = MulticlassClassificationEvaluator(\n",
    "    labelCol=\"Classe_index\", predictionCol=\"prediction\", metricName=\"accuracy\")\n",
    "rf_accuracy = rf_evaluator.evaluate(rf_predictions)\n",
    "print(\"Test Error = %g\" % (1.0 - rf_accuracy))\n",
    "print(\"Accuracy = %g \" % rf_accuracy)"
   ]
  },
  {
   "cell_type": "markdown",
   "metadata": {
    "application/vnd.databricks.v1+cell": {
     "inputWidgets": {},
     "nuid": "9445b371-4892-4dab-aa0f-c6fbf2b425c7",
     "showTitle": false,
     "title": ""
    }
   },
   "source": [
    "***Matrice de confusion***"
   ]
  },
  {
   "cell_type": "code",
   "execution_count": 69,
   "metadata": {
    "application/vnd.databricks.v1+cell": {
     "inputWidgets": {},
     "nuid": "a6c0236f-6fa0-43ce-94be-63c4799e5ed0",
     "showTitle": false,
     "title": ""
    }
   },
   "outputs": [],
   "source": [
    "def plot_confusion_matrix(cm, classes,\n",
    "                          normalize=False,\n",
    "                          title='Confusion matrix',\n",
    "                          cmap=plt.cm.GnBu):\n",
    "\n",
    "    plt.imshow(cm, interpolation='nearest', cmap=cmap)\n",
    "    plt.title(title)\n",
    "    tick_marks = np.arange(len(classes))\n",
    "    plt.xticks(tick_marks, classes, rotation=45)\n",
    "    plt.yticks(tick_marks, classes)\n",
    "\n",
    "    fmt = '.0f' #if normalize else 'd'\n",
    "    thresh = cm.max() / 2.\n",
    "\n",
    "    for i, j in itertools.product(range(cm.shape[0]), \n",
    "                                  range(cm.shape[1])):\n",
    "        plt.text(j, i, format(cm[i, j], fmt),\n",
    "                 horizontalalignment=\"center\",\n",
    "                 color=\"white\" if cm[i, j] > thresh else \"black\")\n",
    "\n",
    "\n",
    "    plt.tight_layout()\n",
    "    plt.ylabel('True label')\n",
    "    plt.xlabel('Predicted label')"
   ]
  },
  {
   "cell_type": "code",
   "execution_count": 63,
   "metadata": {},
   "outputs": [
    {
     "name": "stderr",
     "output_type": "stream",
     "text": [
      "[Stage 115:============================>                            (2 + 2) / 4]\r"
     ]
    },
    {
     "name": "stdout",
     "output_type": "stream",
     "text": [
      "[rf] Confusion de Matrix:\n",
      " [[135.   3.   0.   2.   4.   3.   0.   9.   0.   0.   0.   0.   0.   1.\n",
      "    0.   8.   2.   0.   3.   0.   0.]\n",
      " [  2.  84.   0.   0.   5.   1.   3.   0.   0.   0.   0.   0.   1.   0.\n",
      "    0.   3.   0.   0.   3.   0.   0.]\n",
      " [  0.   0.  88.   0.   0.   8.   0.   0.   0.   0.   0.   0.   4.   0.\n",
      "    0.   1.   0.   0.   1.   0.   0.]\n",
      " [  0.   0.   6.  80.   0.   8.   0.   0.   0.   0.   0.   0.   1.   0.\n",
      "    0.   2.   0.   0.   0.   2.   0.]\n",
      " [  0.   0.   0.   0.  60.   1.   0.   0.   0.   0.   0.   0.   0.   0.\n",
      "    0.   1.   0.   0.   1.   0.   0.]\n",
      " [  0.   3.   0.   0.   4.  45.   7.   0.   0.   2.   0.   0.   0.   1.\n",
      "    0.   3.   0.   0.   3.   1.   0.]\n",
      " [  0.   2.   0.   0.   7.   1.  78.   0.   0.   0.   0.   0.   0.   0.\n",
      "    0.   1.   0.   0.   2.   0.   0.]\n",
      " [  0.   0.   0.   0.   1.   2.   0. 100.   0.   0.   0.   0.   0.   0.\n",
      "    0.   0.   0.   0.   0.   4.   0.]\n",
      " [  0.   0.   0.   0.   0.   0.   0.   0.  91.   0.   0.   0.   0.   0.\n",
      "    1.   0.   0.   0.   0.   0.   0.]\n",
      " [  0.   2.   1.   0.   5.   0.   1.   0.   0.  91.   0.   0.   0.   0.\n",
      "    0.   1.   0.   0.   0.   1.   3.]\n",
      " [  0.   1.   0.   0.   0.   0.   0.   0.   0.   0.  89.   1.   0.   0.\n",
      "    0.   0.   2.   0.   0.   0.   0.]\n",
      " [  0.   0.   0.   1.   0.   0.   0.   1.   0.   0.   8.  79.   0.   0.\n",
      "    0.   0.   2.   0.   1.   0.   0.]\n",
      " [  0.   0.   1.   6.   1.   6.   0.   1.   0.   0.   0.   0.  76.   0.\n",
      "    0.   0.   0.   0.   0.   8.   0.]\n",
      " [  0.   0.   2.   0.   2.   1.   1.   1.   0.   0.   0.   0.   0.  92.\n",
      "    1.   0.   0.   0.   1.   1.   0.]\n",
      " [  0.   0.   0.   0.   0.   0.   0.   0.   0.   0.   0.   0.   0.   0.\n",
      "  105.   0.   0.   0.   0.   0.   0.]\n",
      " [  0.   0.   0.   0.   1.   1.   0.   0.   0.   0.   0.   0.   0.   0.\n",
      "    0.  63.   0.   0.   0.   0.   0.]\n",
      " [  0.   0.   0.   0.   0.   0.   0.   1.   0.   0.   0.   0.   0.   0.\n",
      "    0.   0.  92.   0.   0.   0.   0.]\n",
      " [  0.   0.   0.   0.   0.   0.   0.   0.   0.   0.   0.   0.   0.   0.\n",
      "    0.   0.   0.  76.   0.   0.   0.]\n",
      " [  0.   3.   0.   0.   3.   1.   2.   0.   0.   0.   0.   0.   0.   0.\n",
      "    0.  11.   0.   0.  82.   0.   1.]\n",
      " [  0.   0.   0.   0.   0.   1.   0.   0.   0.   0.   0.   0.   0.   0.\n",
      "    0.   0.   0.   0.   0.  61.   0.]\n",
      " [  0.   0.   0.   0.   0.   0.   0.   0.   0.   0.   0.   0.   0.   0.\n",
      "    1.   0.   0.   0.   0.   0.  84.]]\n"
     ]
    },
    {
     "name": "stderr",
     "output_type": "stream",
     "text": [
      "\r\n",
      "                                                                                \r"
     ]
    }
   ],
   "source": [
    "lrmetrics = MulticlassMetrics(rf_predictions['Classe_index','prediction'].rdd)\n",
    "cnf_matrix = lrmetrics.confusionMatrix()\n",
    "print('[rf] Confusion de Matrix:\\n', cnf_matrix.toArray())"
   ]
  },
  {
   "cell_type": "code",
   "execution_count": 70,
   "metadata": {
    "application/vnd.databricks.v1+cell": {
     "inputWidgets": {},
     "nuid": "993d4805-857e-461e-9d87-b0f2eab8fde0",
     "showTitle": false,
     "title": ""
    }
   },
   "outputs": [
    {
     "data": {
      "image/png": "[encoded data removed]",
      "text/plain": [
       "<Figure size 700x1400 with 1 Axes>"
      ]
     },
     "metadata": {},
     "output_type": "display_data"
    }
   ],
   "source": [
    "#sns.set_style(\"darkgrid\")\n",
    "\n",
    "plt.figure(figsize=(7,14))\n",
    "plt.grid(False)\n",
    "\n",
    "# call pre defined function\n",
    "plot_confusion_matrix(cnf_matrix.toArray(), classes=range(len(cnf_matrix.toArray())))"
   ]
  },
  {
   "cell_type": "markdown",
   "metadata": {
    "application/vnd.databricks.v1+cell": {
     "inputWidgets": {},
     "nuid": "c811c8f3-1ff5-47aa-bdb9-baa8807592f9",
     "showTitle": false,
     "title": ""
    }
   },
   "source": [
    "***Informations sur le modèle***"
   ]
  },
  {
   "cell_type": "code",
   "execution_count": 61,
   "metadata": {
    "application/vnd.databricks.v1+cell": {
     "inputWidgets": {},
     "nuid": "17ce0133-faad-4db5-9904-66ce18072b2a",
     "showTitle": false,
     "title": ""
    }
   },
   "outputs": [
    {
     "name": "stdout",
     "output_type": "stream",
     "text": [
      "RandomForestClassificationModel: uid=RandomForestClassifier_7fc18caafd4b, numTrees=20, numClasses=21, numFeatures=399\n",
      "  Tree 0 (weight 1.0):\n",
      "    If (feature 14 <= -6.591991289727208)\n",
      "     If (feature 1 <= -15.311706488093229)\n",
      "      If (feature 8 <= 9.134842177087092)\n",
      "       If (feature 138 <= 0.09369978542007915)\n",
      "        Predict: 20.0\n",
      "       Else (feature 138 > 0.09369978542007915)\n",
      "        Predict: 8.0\n",
      "      Else (feature 8 > 9.134842177087092)\n",
      "       Predict: 14.0\n",
      "     Else (feature 1 > -15.311706488093229)\n",
      "      If (feature 0 <= -19.167717281997906)\n",
      "       If (feature 74 <= 3.694120329072828)\n",
      "        Predict: 10.0\n",
      "       Else (feature 74 > 3.694120329072828)\n",
      "        Predict: 11.0\n",
      "      Else (feature 0 > -19.167717281997906)\n",
      "       If (feature 162 <= -2.190511134933095)\n",
      "        Predict: 6.0\n",
      "       Else (feature 162 > -2.190511134933095)\n",
      "        If (feature 7 <= -0.29745123587264644)\n",
      "         Predict: 16.0\n",
      "        Else (feature 7 > -0.29745123587264644)\n",
      "         Predict: 5.0\n",
      "    Else (feature 14 > -6.591991289727208)\n",
      "     If (feature 32 <= -1.2938491010348692)\n",
      "      If (feature 25 <= 2.34422641823973)\n",
      "       If (feature 13 <= -2.6949141529932863)\n",
      "        If (feature 73 <= -0.10181697234426709)\n",
      "         Predict: 3.0\n",
      "        Else (feature 73 > -0.10181697234426709)\n",
      "         Predict: 12.0\n",
      "       Else (feature 13 > -2.6949141529932863)\n",
      "        If (feature 16 <= -0.2066807998137706)\n",
      "         Predict: 19.0\n",
      "        Else (feature 16 > -0.2066807998137706)\n",
      "         Predict: 18.0\n",
      "      Else (feature 25 > 2.34422641823973)\n",
      "       If (feature 6 <= 1.0903748356893521)\n",
      "        If (feature 4 <= -6.515384172168522)\n",
      "         Predict: 16.0\n",
      "        Else (feature 4 > -6.515384172168522)\n",
      "         Predict: 18.0\n",
      "       Else (feature 6 > 1.0903748356893521)\n",
      "        If (feature 0 <= 3.6364023482741636)\n",
      "         Predict: 9.0\n",
      "        Else (feature 0 > 3.6364023482741636)\n",
      "         Predict: 6.0\n",
      "     Else (feature 32 > -1.2938491010348692)\n",
      "      If (feature 23 <= 2.529602661299181)\n",
      "       If (feature 9 <= 5.401970888993574)\n",
      "        If (feature 17 <= -5.366696575131237)\n",
      "         Predict: 9.0\n",
      "        Else (feature 17 > -5.366696575131237)\n",
      "         Predict: 5.0\n",
      "       Else (feature 9 > 5.401970888993574)\n",
      "        If (feature 20 <= 1.26491391738968)\n",
      "         Predict: 17.0\n",
      "        Else (feature 20 > 1.26491391738968)\n",
      "         Predict: 11.0\n",
      "      Else (feature 23 > 2.529602661299181)\n",
      "       If (feature 24 <= 1.3426508538335051)\n",
      "        If (feature 108 <= 0.7819068200714133)\n",
      "         Predict: 13.0\n",
      "        Else (feature 108 > 0.7819068200714133)\n",
      "         Predict: 0.0\n",
      "       Else (feature 24 > 1.3426508538335051)\n",
      "        If (feature 14 <= 3.3465001134863956)\n",
      "         Predict: 1.0\n",
      "        Else (feature 14 > 3.3465001134863956)\n",
      "         Predict: 16.0\n",
      "  Tree 1 (weight 1.0):\n",
      "    If (feature 38 <= -5.0657907834390326)\n",
      "     If (feature 29 <= -2.206439877712522)\n",
      "      If (feature 42 <= -1.0035260113485405)\n",
      "       If (feature 25 <= -6.227938696340563)\n",
      "        Predict: 14.0\n",
      "       Else (feature 25 > -6.227938696340563)\n",
      "        If (feature 209 <= -1.9390392669479954)\n",
      "         Predict: 8.0\n",
      "        Else (feature 209 > -1.9390392669479954)\n",
      "         Predict: 20.0\n",
      "      Else (feature 42 > -1.0035260113485405)\n",
      "       If (feature 16 <= -2.352258484441209)\n",
      "        If (feature 44 <= 1.2102297186168798)\n",
      "         Predict: 11.0\n",
      "        Else (feature 44 > 1.2102297186168798)\n",
      "         Predict: 8.0\n",
      "       Else (feature 16 > -2.352258484441209)\n",
      "        If (feature 335 <= -0.737385190798662)\n",
      "         Predict: 8.0\n",
      "        Else (feature 335 > -0.737385190798662)\n",
      "         Predict: 16.0\n",
      "     Else (feature 29 > -2.206439877712522)\n",
      "      If (feature 19 <= 7.746747599515276)\n",
      "       If (feature 9 <= 3.1890650808438035)\n",
      "        If (feature 211 <= 0.15504467412421682)\n",
      "         Predict: 4.0\n",
      "        Else (feature 211 > 0.15504467412421682)\n",
      "         Predict: 16.0\n",
      "       Else (feature 9 > 3.1890650808438035)\n",
      "        If (feature 314 <= -1.4710998238624642)\n",
      "         Predict: 11.0\n",
      "        Else (feature 314 > -1.4710998238624642)\n",
      "         Predict: 17.0\n",
      "      Else (feature 19 > 7.746747599515276)\n",
      "       If (feature 5 <= -3.0565241076187037)\n",
      "        Predict: 10.0\n",
      "       Else (feature 5 > -3.0565241076187037)\n",
      "        Predict: 14.0\n",
      "    Else (feature 38 > -5.0657907834390326)\n",
      "     If (feature 24 <= -0.3121008439294941)\n",
      "      If (feature 2 <= -0.8884400826108991)\n",
      "       If (feature 84 <= -0.7547238881077722)\n",
      "        If (feature 26 <= -5.0974392578142815)\n",
      "         Predict: 16.0\n",
      "        Else (feature 26 > -5.0974392578142815)\n",
      "         Predict: 17.0\n",
      "       Else (feature 84 > -0.7547238881077722)\n",
      "        If (feature 3 <= -7.8756653036275)\n",
      "         Predict: 13.0\n",
      "        Else (feature 3 > -7.8756653036275)\n",
      "         Predict: 14.0\n",
      "      Else (feature 2 > -0.8884400826108991)\n",
      "       If (feature 72 <= -0.6414836405474824)\n",
      "        If (feature 27 <= -2.505052801593549)\n",
      "         Predict: 15.0\n",
      "        Else (feature 27 > -2.505052801593549)\n",
      "         Predict: 7.0\n",
      "       Else (feature 72 > -0.6414836405474824)\n",
      "        If (feature 3 <= -7.8756653036275)\n",
      "         Predict: 7.0\n",
      "        Else (feature 3 > -7.8756653036275)\n",
      "         Predict: 0.0\n",
      "     Else (feature 24 > -0.3121008439294941)\n",
      "      If (feature 7 <= 2.2396691590433937)\n",
      "       If (feature 9 <= -9.70025010356029)\n",
      "        If (feature 1 <= -12.298273289688787)\n",
      "         Predict: 14.0\n",
      "        Else (feature 1 > -12.298273289688787)\n",
      "         Predict: 16.0\n",
      "       Else (feature 9 > -9.70025010356029)\n",
      "        If (feature 28 <= -1.1480384135623525)\n",
      "         Predict: 19.0\n",
      "        Else (feature 28 > -1.1480384135623525)\n",
      "         Predict: 1.0\n",
      "      Else (feature 7 > 2.2396691590433937)\n",
      "       If (feature 8 <= -1.1746103566000055)\n",
      "        If (feature 11 <= 3.633046993467066)\n",
      "         Predict: 0.0\n",
      "        Else (feature 11 > 3.633046993467066)\n",
      "         Predict: 16.0\n",
      "       Else (feature 8 > -1.1746103566000055)\n",
      "        If (feature 47 <= -0.8299624780223958)\n",
      "         Predict: 2.0\n",
      "        Else (feature 47 > -0.8299624780223958)\n",
      "         Predict: 12.0\n",
      "  Tree 2 (weight 1.0):\n",
      "    If (feature 10 <= -4.075118321994649)\n",
      "     If (feature 0 <= -7.027327516535486)\n",
      "      If (feature 47 <= 2.697248707941949)\n",
      "       If (feature 275 <= -0.6973170328734606)\n",
      "        If (feature 76 <= 1.2744712556332414)\n",
      "         Predict: 11.0\n",
      "        Else (feature 76 > 1.2744712556332414)\n",
      "         Predict: 16.0\n",
      "       Else (feature 275 > -0.6973170328734606)\n",
      "        If (feature 98 <= -1.4395378651020532)\n",
      "         Predict: 16.0\n",
      "        Else (feature 98 > -1.4395378651020532)\n",
      "         Predict: 20.0\n",
      "      Else (feature 47 > 2.697248707941949)\n",
      "       If (feature 21 <= 2.2638341064374377)\n",
      "        If (feature 20 <= -2.3416159317019734)\n",
      "         Predict: 11.0\n",
      "        Else (feature 20 > -2.3416159317019734)\n",
      "         Predict: 16.0\n",
      "       Else (feature 21 > 2.2638341064374377)\n",
      "        If (feature 16 <= 2.524419161600763)\n",
      "         Predict: 19.0\n",
      "        Else (feature 16 > 2.524419161600763)\n",
      "         Predict: 20.0\n",
      "     Else (feature 0 > -7.027327516535486)\n",
      "      If (feature 18 <= -1.6890709174266632)\n",
      "       If (feature 30 <= 1.8843606700469948)\n",
      "        If (feature 179 <= 0.8002205371830954)\n",
      "         Predict: 0.0\n",
      "        Else (feature 179 > 0.8002205371830954)\n",
      "         Predict: 19.0\n",
      "       Else (feature 30 > 1.8843606700469948)\n",
      "        If (feature 13 <= -1.9296809153545877)\n",
      "         Predict: 0.0\n",
      "        Else (feature 13 > -1.9296809153545877)\n",
      "         Predict: 9.0\n",
      "      Else (feature 18 > -1.6890709174266632)\n",
      "       If (feature 15 <= 0.17791049236113404)\n",
      "        If (feature 23 <= 0.7301198008288226)\n",
      "         Predict: 7.0\n",
      "        Else (feature 23 > 0.7301198008288226)\n",
      "         Predict: 0.0\n",
      "       Else (feature 15 > 0.17791049236113404)\n",
      "        If (feature 4 <= 1.8698466463044425)\n",
      "         Predict: 4.0\n",
      "        Else (feature 4 > 1.8698466463044425)\n",
      "         Predict: 13.0\n",
      "    Else (feature 10 > -4.075118321994649)\n",
      "     If (feature 8 <= -0.6012023430573747)\n",
      "      If (feature 11 <= 3.633046993467066)\n",
      "       If (feature 33 <= -0.5073587736359009)\n",
      "        If (feature 86 <= -0.9444049210480834)\n",
      "         Predict: 18.0\n",
      "        Else (feature 86 > -0.9444049210480834)\n",
      "         Predict: 1.0\n",
      "       Else (feature 33 > -0.5073587736359009)\n",
      "        If (feature 14 <= 0.6393381409005479)\n",
      "         Predict: 9.0\n",
      "        Else (feature 14 > 0.6393381409005479)\n",
      "         Predict: 8.0\n",
      "      Else (feature 11 > 3.633046993467066)\n",
      "       If (feature 111 <= 1.3242645838364349)\n",
      "        If (feature 84 <= -1.387585778746153)\n",
      "         Predict: 11.0\n",
      "        Else (feature 84 > -1.387585778746153)\n",
      "         Predict: 7.0\n",
      "       Else (feature 111 > 1.3242645838364349)\n",
      "        If (feature 78 <= -1.1854163134963178)\n",
      "         Predict: 10.0\n",
      "        Else (feature 78 > -1.1854163134963178)\n",
      "         Predict: 11.0\n",
      "     Else (feature 8 > -0.6012023430573747)\n",
      "      If (feature 4 <= -3.183641397161857)\n",
      "       If (feature 5 <= 2.3402208764821024)\n",
      "        If (feature 2 <= -0.8884400826108991)\n",
      "         Predict: 14.0\n",
      "        Else (feature 2 > -0.8884400826108991)\n",
      "         Predict: 3.0\n",
      "       Else (feature 5 > 2.3402208764821024)\n",
      "        If (feature 37 <= -2.9075664228295155)\n",
      "         Predict: 11.0\n",
      "        Else (feature 37 > -2.9075664228295155)\n",
      "         Predict: 10.0\n",
      "      Else (feature 4 > -3.183641397161857)\n",
      "       If (feature 3 <= -3.6330109383642997)\n",
      "        If (feature 33 <= -0.9708226141711587)\n",
      "         Predict: 12.0\n",
      "        Else (feature 33 > -0.9708226141711587)\n",
      "         Predict: 2.0\n",
      "       Else (feature 3 > -3.6330109383642997)\n",
      "        If (feature 35 <= -1.1432972286630432)\n",
      "         Predict: 15.0\n",
      "        Else (feature 35 > -1.1432972286630432)\n",
      "         Predict: 17.0\n",
      "  Tree 3 (weight 1.0):\n",
      "    If (feature 15 <= -4.654821311596435)\n",
      "     If (feature 46 <= -0.8494197382232146)\n",
      "      If (feature 0 <= 6.853241423682093)\n",
      "       If (feature 16 <= -5.1714159817445795)\n",
      "        If (feature 7 <= -5.289671970644088)\n",
      "         Predict: 9.0\n",
      "        Else (feature 7 > -5.289671970644088)\n",
      "         Predict: 8.0\n",
      "       Else (feature 16 > -5.1714159817445795)\n",
      "        If (feature 93 <= -3.104665448134708)\n",
      "         Predict: 3.0\n",
      "        Else (feature 93 > -3.104665448134708)\n",
      "         Predict: 10.0\n",
      "      Else (feature 0 > 6.853241423682093)\n",
      "       If (feature 8 <= 7.595396352380499)\n",
      "        If (feature 150 <= -1.808326657396068)\n",
      "         Predict: 12.0\n",
      "        Else (feature 150 > -1.808326657396068)\n",
      "         Predict: 6.0\n",
      "       Else (feature 8 > 7.595396352380499)\n",
      "        If (feature 291 <= -0.5101281079259568)\n",
      "         Predict: 2.0\n",
      "        Else (feature 291 > -0.5101281079259568)\n",
      "         Predict: 13.0\n",
      "     Else (feature 46 > -0.8494197382232146)\n",
      "      If (feature 15 <= -9.300887384454668)\n",
      "       If (feature 120 <= -2.7505314982150053)\n",
      "        If (feature 85 <= -3.2580950674839917)\n",
      "         Predict: 17.0\n",
      "        Else (feature 85 > -3.2580950674839917)\n",
      "         Predict: 3.0\n",
      "       Else (feature 120 > -2.7505314982150053)\n",
      "        If (feature 13 <= -4.836976871958722)\n",
      "         Predict: 17.0\n",
      "        Else (feature 13 > -4.836976871958722)\n",
      "         Predict: 3.0\n",
      "      Else (feature 15 > -9.300887384454668)\n",
      "       If (feature 1 <= 10.361151407770237)\n",
      "        If (feature 1 <= -12.298273289688787)\n",
      "         Predict: 8.0\n",
      "        Else (feature 1 > -12.298273289688787)\n",
      "         Predict: 3.0\n",
      "       Else (feature 1 > 10.361151407770237)\n",
      "        If (feature 55 <= 3.9264425385860413)\n",
      "         Predict: 10.0\n",
      "        Else (feature 55 > 3.9264425385860413)\n",
      "         Predict: 16.0\n",
      "    Else (feature 15 > -4.654821311596435)\n",
      "     If (feature 21 <= -1.8887417237699307)\n",
      "      If (feature 12 <= 6.977157072375185)\n",
      "       If (feature 24 <= -0.03477653748997442)\n",
      "        If (feature 27 <= -5.111791678019305)\n",
      "         Predict: 15.0\n",
      "        Else (feature 27 > -5.111791678019305)\n",
      "         Predict: 0.0\n",
      "       Else (feature 24 > -0.03477653748997442)\n",
      "        If (feature 14 <= -2.578890199947425)\n",
      "         Predict: 14.0\n",
      "        Else (feature 14 > -2.578890199947425)\n",
      "         Predict: 6.0\n",
      "      Else (feature 12 > 6.977157072375185)\n",
      "       If (feature 292 <= 0.6784774582213844)\n",
      "        If (feature 93 <= 2.914515981366505)\n",
      "         Predict: 16.0\n",
      "        Else (feature 93 > 2.914515981366505)\n",
      "         Predict: 14.0\n",
      "       Else (feature 292 > 0.6784774582213844)\n",
      "        If (feature 26 <= -1.2747923903624903)\n",
      "         Predict: 14.0\n",
      "        Else (feature 26 > -1.2747923903624903)\n",
      "         Predict: 8.0\n",
      "     Else (feature 21 > -1.8887417237699307)\n",
      "      If (feature 8 <= 4.001006257265741)\n",
      "       If (feature 13 <= -1.9296809153545877)\n",
      "        If (feature 15 <= 3.3085076602274133)\n",
      "         Predict: 0.0\n",
      "        Else (feature 15 > 3.3085076602274133)\n",
      "         Predict: 8.0\n",
      "       Else (feature 13 > -1.9296809153545877)\n",
      "        If (feature 4 <= -6.515384172168522)\n",
      "         Predict: 9.0\n",
      "        Else (feature 4 > -6.515384172168522)\n",
      "         Predict: 4.0\n",
      "      Else (feature 8 > 4.001006257265741)\n",
      "       If (feature 36 <= 0.5093503709737176)\n",
      "        If (feature 91 <= 1.3010641306466981)\n",
      "         Predict: 13.0\n",
      "        Else (feature 91 > 1.3010641306466981)\n",
      "         Predict: 19.0\n",
      "       Else (feature 36 > 0.5093503709737176)\n",
      "        If (feature 21 <= 3.352804201167643)\n",
      "         Predict: 2.0\n",
      "        Else (feature 21 > 3.352804201167643)\n",
      "         Predict: 14.0\n",
      "  Tree 4 (weight 1.0):\n",
      "    If (feature 71 <= 0.743210120144803)\n",
      "     If (feature 26 <= 0.1518232366720526)\n",
      "      If (feature 73 <= 0.42754104699102213)\n",
      "       If (feature 39 <= 5.598780627588361)\n",
      "        If (feature 33 <= -0.9708226141711587)\n",
      "         Predict: 1.0\n",
      "        Else (feature 33 > -0.9708226141711587)\n",
      "         Predict: 0.0\n",
      "       Else (feature 39 > 5.598780627588361)\n",
      "        If (feature 107 <= -0.7842871692634756)\n",
      "         Predict: 9.0\n",
      "        Else (feature 107 > -0.7842871692634756)\n",
      "         Predict: 4.0\n",
      "      Else (feature 73 > 0.42754104699102213)\n",
      "       If (feature 23 <= -1.9814216624843466)\n",
      "        If (feature 24 <= 0.4847453586380256)\n",
      "         Predict: 11.0\n",
      "        Else (feature 24 > 0.4847453586380256)\n",
      "         Predict: 5.0\n",
      "       Else (feature 23 > -1.9814216624843466)\n",
      "        If (feature 32 <= -3.2367446724565028)\n",
      "         Predict: 18.0\n",
      "        Else (feature 32 > -3.2367446724565028)\n",
      "         Predict: 8.0\n",
      "     Else (feature 26 > 0.1518232366720526)\n",
      "      If (feature 5 <= 9.81462093762508)\n",
      "       If (feature 15 <= -2.1435938247634825)\n",
      "        If (feature 53 <= 1.2366370757703093)\n",
      "         Predict: 9.0\n",
      "        Else (feature 53 > 1.2366370757703093)\n",
      "         Predict: 10.0\n",
      "       Else (feature 15 > -2.1435938247634825)\n",
      "        If (feature 3 <= -14.698079073791519)\n",
      "         Predict: 13.0\n",
      "        Else (feature 3 > -14.698079073791519)\n",
      "         Predict: 5.0\n",
      "      Else (feature 5 > 9.81462093762508)\n",
      "       If (feature 4 <= -1.4230780958825748)\n",
      "        If (feature 12 <= -7.049191483785389)\n",
      "         Predict: 10.0\n",
      "        Else (feature 12 > -7.049191483785389)\n",
      "         Predict: 15.0\n",
      "       Else (feature 4 > -1.4230780958825748)\n",
      "        Predict: 8.0\n",
      "    Else (feature 71 > 0.743210120144803)\n",
      "     If (feature 1 <= -8.472265502828002)\n",
      "      If (feature 9 <= -4.990973343111882)\n",
      "       If (feature 5 <= 2.3402208764821024)\n",
      "        Predict: 14.0\n",
      "       Else (feature 5 > 2.3402208764821024)\n",
      "        If (feature 8 <= -4.649962968683947)\n",
      "         Predict: 8.0\n",
      "        Else (feature 8 > -4.649962968683947)\n",
      "         Predict: 20.0\n",
      "      Else (feature 9 > -4.990973343111882)\n",
      "       If (feature 28 <= -0.8949487783774048)\n",
      "        If (feature 8 <= -6.107605226035346)\n",
      "         Predict: 8.0\n",
      "        Else (feature 8 > -6.107605226035346)\n",
      "         Predict: 7.0\n",
      "       Else (feature 28 > -0.8949487783774048)\n",
      "        If (feature 29 <= 1.9127963976875275)\n",
      "         Predict: 20.0\n",
      "        Else (feature 29 > 1.9127963976875275)\n",
      "         Predict: 17.0\n",
      "     Else (feature 1 > -8.472265502828002)\n",
      "      If (feature 1 <= 10.361151407770237)\n",
      "       If (feature 52 <= -1.8259719080294283)\n",
      "        If (feature 19 <= 0.5513329230516278)\n",
      "         Predict: 7.0\n",
      "        Else (feature 19 > 0.5513329230516278)\n",
      "         Predict: 19.0\n",
      "       Else (feature 52 > -1.8259719080294283)\n",
      "        If (feature 24 <= 0.7443448059908773)\n",
      "         Predict: 0.0\n",
      "        Else (feature 24 > 0.7443448059908773)\n",
      "         Predict: 12.0\n",
      "      Else (feature 1 > 10.361151407770237)\n",
      "       If (feature 85 <= -2.2243437213158552)\n",
      "        If (feature 0 <= -21.615848032675657)\n",
      "         Predict: 11.0\n",
      "        Else (feature 0 > -21.615848032675657)\n",
      "         Predict: 16.0\n",
      "       Else (feature 85 > -2.2243437213158552)\n",
      "        If (feature 25 <= 3.397581481224817)\n",
      "         Predict: 10.0\n",
      "        Else (feature 25 > 3.397581481224817)\n",
      "         Predict: 16.0\n",
      "  Tree 5 (weight 1.0):\n",
      "    If (feature 1 <= -10.106259752404016)\n",
      "     If (feature 10 <= -4.075118321994649)\n",
      "      If (feature 9 <= -6.1933390801395865)\n",
      "       If (feature 0 <= -27.524521231747357)\n",
      "        Predict: 8.0\n",
      "       Else (feature 0 > -27.524521231747357)\n",
      "        Predict: 14.0\n",
      "      Else (feature 9 > -6.1933390801395865)\n",
      "       If (feature 236 <= 1.7775457761240687)\n",
      "        If (feature 315 <= -1.478844324728827)\n",
      "         Predict: 8.0\n",
      "        Else (feature 315 > -1.478844324728827)\n",
      "         Predict: 20.0\n",
      "       Else (feature 236 > 1.7775457761240687)\n",
      "        If (feature 28 <= -3.2804901589527837)\n",
      "         Predict: 17.0\n",
      "        Else (feature 28 > -3.2804901589527837)\n",
      "         Predict: 20.0\n",
      "     Else (feature 10 > -4.075118321994649)\n",
      "      If (feature 7 <= -3.963385536056802)\n",
      "       If (feature 15 <= -5.571284492774813)\n",
      "        If (feature 279 <= -0.9386424633361727)\n",
      "         Predict: 6.0\n",
      "        Else (feature 279 > -0.9386424633361727)\n",
      "         Predict: 14.0\n",
      "       Else (feature 15 > -5.571284492774813)\n",
      "        If (feature 58 <= -1.44668328178542)\n",
      "         Predict: 9.0\n",
      "        Else (feature 58 > -1.44668328178542)\n",
      "         Predict: 14.0\n",
      "      Else (feature 7 > -3.963385536056802)\n",
      "       If (feature 20 <= -5.942332095830656)\n",
      "        If (feature 249 <= -0.9936381331184753)\n",
      "         Predict: 8.0\n",
      "        Else (feature 249 > -0.9936381331184753)\n",
      "         Predict: 20.0\n",
      "       Else (feature 20 > -5.942332095830656)\n",
      "        If (feature 11 <= -6.432515025640342)\n",
      "         Predict: 17.0\n",
      "        Else (feature 11 > -6.432515025640342)\n",
      "         Predict: 8.0\n",
      "    Else (feature 1 > -10.106259752404016)\n",
      "     If (feature 7 <= 2.7179399042169217)\n",
      "      If (feature 1 <= 10.361151407770237)\n",
      "       If (feature 58 <= -2.7034140586262483)\n",
      "        If (feature 54 <= 0.8317722079730208)\n",
      "         Predict: 5.0\n",
      "        Else (feature 54 > 0.8317722079730208)\n",
      "         Predict: 9.0\n",
      "       Else (feature 58 > -2.7034140586262483)\n",
      "        If (feature 28 <= -0.5954134818277923)\n",
      "         Predict: 18.0\n",
      "        Else (feature 28 > -0.5954134818277923)\n",
      "         Predict: 1.0\n",
      "      Else (feature 1 > 10.361151407770237)\n",
      "       If (feature 15 <= -4.010335289901997)\n",
      "        Predict: 10.0\n",
      "       Else (feature 15 > -4.010335289901997)\n",
      "        If (feature 65 <= -2.1502605311936627)\n",
      "         Predict: 11.0\n",
      "        Else (feature 65 > -2.1502605311936627)\n",
      "         Predict: 16.0\n",
      "     Else (feature 7 > 2.7179399042169217)\n",
      "      If (feature 73 <= 0.15952911563164257)\n",
      "       If (feature 13 <= -2.6949141529932863)\n",
      "        If (feature 47 <= 0.22428860512745405)\n",
      "         Predict: 2.0\n",
      "        Else (feature 47 > 0.22428860512745405)\n",
      "         Predict: 3.0\n",
      "       Else (feature 13 > -2.6949141529932863)\n",
      "        If (feature 16 <= -4.492251350015403)\n",
      "         Predict: 11.0\n",
      "        Else (feature 16 > -4.492251350015403)\n",
      "         Predict: 5.0\n",
      "      Else (feature 73 > 0.15952911563164257)\n",
      "       If (feature 39 <= 1.0433838664299813)\n",
      "        If (feature 49 <= 1.2642097221438982)\n",
      "         Predict: 12.0\n",
      "        Else (feature 49 > 1.2642097221438982)\n",
      "         Predict: 3.0\n",
      "       Else (feature 39 > 1.0433838664299813)\n",
      "        If (feature 4 <= -4.673121225075619)\n",
      "         Predict: 0.0\n",
      "        Else (feature 4 > -4.673121225075619)\n",
      "         Predict: 5.0\n",
      "  Tree 6 (weight 1.0):\n",
      "    If (feature 28 <= -0.5954134818277923)\n",
      "     If (feature 7 <= -2.230219012487704)\n",
      "      If (feature 15 <= -9.300887384454668)\n",
      "       If (feature 48 <= -4.557967836703804)\n",
      "        Predict: 6.0\n",
      "       Else (feature 48 > -4.557967836703804)\n",
      "        Predict: 17.0\n",
      "      Else (feature 15 > -9.300887384454668)\n",
      "       If (feature 6 <= 9.934121472861417)\n",
      "        If (feature 46 <= -0.18314629563710647)\n",
      "         Predict: 18.0\n",
      "        Else (feature 46 > -0.18314629563710647)\n",
      "         Predict: 15.0\n",
      "       Else (feature 6 > 9.934121472861417)\n",
      "        If (feature 18 <= 0.5144012814096408)\n",
      "         Predict: 7.0\n",
      "        Else (feature 18 > 0.5144012814096408)\n",
      "         Predict: 11.0\n",
      "     Else (feature 7 > -2.230219012487704)\n",
      "      If (feature 9 <= 3.1890650808438035)\n",
      "       If (feature 52 <= -1.8259719080294283)\n",
      "        If (feature 1 <= 4.9007891921711195)\n",
      "         Predict: 7.0\n",
      "        Else (feature 1 > 4.9007891921711195)\n",
      "         Predict: 10.0\n",
      "       Else (feature 52 > -1.8259719080294283)\n",
      "        If (feature 44 <= -0.15745005487983305)\n",
      "         Predict: 3.0\n",
      "        Else (feature 44 > -0.15745005487983305)\n",
      "         Predict: 0.0\n",
      "      Else (feature 9 > 3.1890650808438035)\n",
      "       If (feature 2 <= -6.411108317423983)\n",
      "        If (feature 16 <= 0.14639739491137654)\n",
      "         Predict: 19.0\n",
      "        Else (feature 16 > 0.14639739491137654)\n",
      "         Predict: 13.0\n",
      "       Else (feature 2 > -6.411108317423983)\n",
      "        If (feature 93 <= -0.7027273846564195)\n",
      "         Predict: 17.0\n",
      "        Else (feature 93 > -0.7027273846564195)\n",
      "         Predict: 19.0\n",
      "    Else (feature 28 > -0.5954134818277923)\n",
      "     If (feature 24 <= -1.952211910105102)\n",
      "      If (feature 46 <= 1.7086367234382303)\n",
      "       If (feature 9 <= 0.8546358059763974)\n",
      "        If (feature 9 <= -7.2235764469144)\n",
      "         Predict: 14.0\n",
      "        Else (feature 9 > -7.2235764469144)\n",
      "         Predict: 20.0\n",
      "       Else (feature 9 > 0.8546358059763974)\n",
      "        If (feature 43 <= 1.6772438873900355)\n",
      "         Predict: 13.0\n",
      "        Else (feature 43 > 1.6772438873900355)\n",
      "         Predict: 7.0\n",
      "      Else (feature 46 > 1.7086367234382303)\n",
      "       If (feature 13 <= -1.1618372951557463)\n",
      "        If (feature 98 <= 1.3685594358701771)\n",
      "         Predict: 0.0\n",
      "        Else (feature 98 > 1.3685594358701771)\n",
      "         Predict: 18.0\n",
      "       Else (feature 13 > -1.1618372951557463)\n",
      "        Predict: 11.0\n",
      "     Else (feature 24 > -1.952211910105102)\n",
      "      If (feature 23 <= -1.6717880221818338)\n",
      "       If (feature 0 <= -4.496657330017494)\n",
      "        If (feature 72 <= 2.7209349926057325)\n",
      "         Predict: 20.0\n",
      "        Else (feature 72 > 2.7209349926057325)\n",
      "         Predict: 9.0\n",
      "       Else (feature 0 > -4.496657330017494)\n",
      "        If (feature 9 <= -2.135307790484265)\n",
      "         Predict: 2.0\n",
      "        Else (feature 9 > -2.135307790484265)\n",
      "         Predict: 5.0\n",
      "      Else (feature 23 > -1.6717880221818338)\n",
      "       If (feature 3 <= -6.540044383696424)\n",
      "        If (feature 10 <= -4.075118321994649)\n",
      "         Predict: 16.0\n",
      "        Else (feature 10 > -4.075118321994649)\n",
      "         Predict: 6.0\n",
      "       Else (feature 3 > -6.540044383696424)\n",
      "        If (feature 12 <= 4.3912354839235945)\n",
      "         Predict: 1.0\n",
      "        Else (feature 12 > 4.3912354839235945)\n",
      "         Predict: 8.0\n",
      "  Tree 7 (weight 1.0):\n",
      "    If (feature 64 <= -3.7968745019870354)\n",
      "     If (feature 39 <= -0.40855982334934554)\n",
      "      If (feature 34 <= -0.33664135424070474)\n",
      "       If (feature 8 <= -1.1746103566000055)\n",
      "        If (feature 11 <= 9.74234525109651)\n",
      "         Predict: 7.0\n",
      "        Else (feature 11 > 9.74234525109651)\n",
      "         Predict: 10.0\n",
      "       Else (feature 8 > -1.1746103566000055)\n",
      "        If (feature 106 <= -0.6931139933906723)\n",
      "         Predict: 16.0\n",
      "        Else (feature 106 > -0.6931139933906723)\n",
      "         Predict: 17.0\n",
      "      Else (feature 34 > -0.33664135424070474)\n",
      "       If (feature 217 <= -0.830440931861639)\n",
      "        If (feature 148 <= -0.9820697755645729)\n",
      "         Predict: 8.0\n",
      "        Else (feature 148 > -0.9820697755645729)\n",
      "         Predict: 9.0\n",
      "       Else (feature 217 > -0.830440931861639)\n",
      "        If (feature 21 <= -4.992062353144112)\n",
      "         Predict: 11.0\n",
      "        Else (feature 21 > -4.992062353144112)\n",
      "         Predict: 3.0\n",
      "     Else (feature 39 > -0.40855982334934554)\n",
      "      If (feature 30 <= -4.473726203915065)\n",
      "       If (feature 366 <= -1.3582849177293086)\n",
      "        Predict: 11.0\n",
      "       Else (feature 366 > -1.3582849177293086)\n",
      "        Predict: 10.0\n",
      "      Else (feature 30 > -4.473726203915065)\n",
      "       If (feature 10 <= -6.367558784194594)\n",
      "        If (feature 0 <= -9.623898625755324)\n",
      "         Predict: 16.0\n",
      "        Else (feature 0 > -9.623898625755324)\n",
      "         Predict: 19.0\n",
      "       Else (feature 10 > -6.367558784194594)\n",
      "        Predict: 11.0\n",
      "    Else (feature 64 > -3.7968745019870354)\n",
      "     If (feature 4 <= -5.551355508523551)\n",
      "      If (feature 28 <= 0.4426468241382034)\n",
      "       If (feature 16 <= 2.905859438421511)\n",
      "        If (feature 12 <= 3.819346832095658)\n",
      "         Predict: 0.0\n",
      "        Else (feature 12 > 3.819346832095658)\n",
      "         Predict: 16.0\n",
      "       Else (feature 16 > 2.905859438421511)\n",
      "        If (feature 3 <= -6.540044383696424)\n",
      "         Predict: 16.0\n",
      "        Else (feature 3 > -6.540044383696424)\n",
      "         Predict: 0.0\n",
      "      Else (feature 28 > 0.4426468241382034)\n",
      "       If (feature 16 <= -1.9928014433235228)\n",
      "        If (feature 6 <= 0.08278382969911376)\n",
      "         Predict: 11.0\n",
      "        Else (feature 6 > 0.08278382969911376)\n",
      "         Predict: 9.0\n",
      "       Else (feature 16 > -1.9928014433235228)\n",
      "        If (feature 13 <= -5.9395205831955025)\n",
      "         Predict: 0.0\n",
      "        Else (feature 13 > -5.9395205831955025)\n",
      "         Predict: 9.0\n",
      "     Else (feature 4 > -5.551355508523551)\n",
      "      If (feature 2 <= -0.8884400826108991)\n",
      "       If (feature 9 <= 3.1890650808438035)\n",
      "        Predict: 8.0\n",
      "       Else (feature 9 > 3.1890650808438035)\n",
      "        If (feature 21 <= -0.13643945461042448)\n",
      "         Predict: 6.0\n",
      "        Else (feature 21 > -0.13643945461042448)\n",
      "         Predict: 13.0\n",
      "      Else (feature 2 > -0.8884400826108991)\n",
      "       If (feature 8 <= -8.641425665699588)\n",
      "        If (feature 15 <= -2.1435938247634825)\n",
      "         Predict: 10.0\n",
      "        Else (feature 15 > -2.1435938247634825)\n",
      "         Predict: 1.0\n",
      "       Else (feature 8 > -8.641425665699588)\n",
      "        If (feature 29 <= 0.808598845370242)\n",
      "         Predict: 5.0\n",
      "        Else (feature 29 > 0.808598845370242)\n",
      "         Predict: 3.0\n",
      "  Tree 8 (weight 1.0):\n",
      "    If (feature 0 <= -7.027327516535486)\n",
      "     If (feature 1 <= 0.32011659147792193)\n",
      "      If (feature 13 <= -4.836976871958722)\n",
      "       If (feature 14 <= 4.828264677090189)\n",
      "        If (feature 1 <= -15.311706488093229)\n",
      "         Predict: 8.0\n",
      "        Else (feature 1 > -15.311706488093229)\n",
      "         Predict: 17.0\n",
      "       Else (feature 14 > 4.828264677090189)\n",
      "        Predict: 17.0\n",
      "      Else (feature 13 > -4.836976871958722)\n",
      "       If (feature 19 <= -3.932985953479636)\n",
      "        If (feature 158 <= -0.90717418288798)\n",
      "         Predict: 17.0\n",
      "        Else (feature 158 > -0.90717418288798)\n",
      "         Predict: 14.0\n",
      "       Else (feature 19 > -3.932985953479636)\n",
      "        If (feature 8 <= -7.595595271988444)\n",
      "         Predict: 8.0\n",
      "        Else (feature 8 > -7.595595271988444)\n",
      "         Predict: 20.0\n",
      "     Else (feature 1 > 0.32011659147792193)\n",
      "      If (feature 4 <= 21.7539569995621)\n",
      "       If (feature 155 <= 1.333517158861643)\n",
      "        If (feature 25 <= 0.05957117432094164)\n",
      "         Predict: 10.0\n",
      "        Else (feature 25 > 0.05957117432094164)\n",
      "         Predict: 16.0\n",
      "       Else (feature 155 > 1.333517158861643)\n",
      "        If (feature 88 <= 2.1382797127452835)\n",
      "         Predict: 11.0\n",
      "        Else (feature 88 > 2.1382797127452835)\n",
      "         Predict: 16.0\n",
      "      Else (feature 4 > 21.7539569995621)\n",
      "       If (feature 29 <= 1.9127963976875275)\n",
      "        Predict: 10.0\n",
      "       Else (feature 29 > 1.9127963976875275)\n",
      "        If (feature 22 <= -5.867888131997847)\n",
      "         Predict: 10.0\n",
      "        Else (feature 22 > -5.867888131997847)\n",
      "         Predict: 11.0\n",
      "    Else (feature 0 > -7.027327516535486)\n",
      "     If (feature 20 <= 1.26491391738968)\n",
      "      If (feature 6 <= 1.605649203085476)\n",
      "       If (feature 13 <= -0.4016471659605142)\n",
      "        If (feature 135 <= 0.07392588303383912)\n",
      "         Predict: 2.0\n",
      "        Else (feature 135 > 0.07392588303383912)\n",
      "         Predict: 3.0\n",
      "       Else (feature 13 > -0.4016471659605142)\n",
      "        If (feature 147 <= -0.9445388982729782)\n",
      "         Predict: 4.0\n",
      "        Else (feature 147 > -0.9445388982729782)\n",
      "         Predict: 18.0\n",
      "      Else (feature 6 > 1.605649203085476)\n",
      "       If (feature 16 <= -5.1714159817445795)\n",
      "        If (feature 68 <= 1.1916902527944162)\n",
      "         Predict: 9.0\n",
      "        Else (feature 68 > 1.1916902527944162)\n",
      "         Predict: 0.0\n",
      "       Else (feature 16 > -5.1714159817445795)\n",
      "        If (feature 26 <= 2.6878230038011055)\n",
      "         Predict: 7.0\n",
      "        Else (feature 26 > 2.6878230038011055)\n",
      "         Predict: 9.0\n",
      "     Else (feature 20 > 1.26491391738968)\n",
      "      If (feature 97 <= 0.9952068240697823)\n",
      "       If (feature 5 <= -4.4801251574595184)\n",
      "        If (feature 4 <= -4.673121225075619)\n",
      "         Predict: 0.0\n",
      "        Else (feature 4 > -4.673121225075619)\n",
      "         Predict: 5.0\n",
      "       Else (feature 5 > -4.4801251574595184)\n",
      "        If (feature 7 <= 1.3821866993451613)\n",
      "         Predict: 6.0\n",
      "        Else (feature 7 > 1.3821866993451613)\n",
      "         Predict: 3.0\n",
      "      Else (feature 97 > 0.9952068240697823)\n",
      "       If (feature 32 <= 1.870179801545834)\n",
      "        If (feature 124 <= -1.754156165184522)\n",
      "         Predict: 6.0\n",
      "        Else (feature 124 > -1.754156165184522)\n",
      "         Predict: 15.0\n",
      "       Else (feature 32 > 1.870179801545834)\n",
      "        If (feature 66 <= -0.3140270448708816)\n",
      "         Predict: 13.0\n",
      "        Else (feature 66 > -0.3140270448708816)\n",
      "         Predict: 5.0\n",
      "  Tree 9 (weight 1.0):\n",
      "    If (feature 3 <= -7.8756653036275)\n",
      "     If (feature 0 <= -4.496657330017494)\n",
      "      If (feature 25 <= -3.9577058280369855)\n",
      "       If (feature 29 <= -0.12553850873312683)\n",
      "        If (feature 153 <= -1.1606248347828327)\n",
      "         Predict: 20.0\n",
      "        Else (feature 153 > -1.1606248347828327)\n",
      "         Predict: 10.0\n",
      "       Else (feature 29 > -0.12553850873312683)\n",
      "        If (feature 12 <= -7.049191483785389)\n",
      "         Predict: 10.0\n",
      "        Else (feature 12 > -7.049191483785389)\n",
      "         Predict: 16.0\n",
      "      Else (feature 25 > -3.9577058280369855)\n",
      "       If (feature 113 <= -1.5535856348569963)\n",
      "        If (feature 10 <= -9.441651889279012)\n",
      "         Predict: 20.0\n",
      "        Else (feature 10 > -9.441651889279012)\n",
      "         Predict: 16.0\n",
      "       Else (feature 113 > -1.5535856348569963)\n",
      "        Predict: 16.0\n",
      "     Else (feature 0 > -4.496657330017494)\n",
      "      If (feature 18 <= 3.8954807738546084)\n",
      "       If (feature 2 <= -0.8884400826108991)\n",
      "        If (feature 4 <= 2.792380242015069)\n",
      "         Predict: 12.0\n",
      "        Else (feature 4 > 2.792380242015069)\n",
      "         Predict: 13.0\n",
      "       Else (feature 2 > -0.8884400826108991)\n",
      "        If (feature 27 <= 2.0866399743331794)\n",
      "         Predict: 2.0\n",
      "        Else (feature 27 > 2.0866399743331794)\n",
      "         Predict: 7.0\n",
      "      Else (feature 18 > 3.8954807738546084)\n",
      "       If (feature 42 <= 1.7993172943710611)\n",
      "        If (feature 9 <= 0.35195153127159473)\n",
      "         Predict: 5.0\n",
      "        Else (feature 9 > 0.35195153127159473)\n",
      "         Predict: 6.0\n",
      "       Else (feature 42 > 1.7993172943710611)\n",
      "        If (feature 80 <= -0.8086040828155375)\n",
      "         Predict: 7.0\n",
      "        Else (feature 80 > -0.8086040828155375)\n",
      "         Predict: 16.0\n",
      "    Else (feature 3 > -7.8756653036275)\n",
      "     If (feature 3 <= 2.9937164106965417)\n",
      "      If (feature 21 <= -1.2319332683333586)\n",
      "       If (feature 77 <= 0.9763456156424473)\n",
      "        If (feature 24 <= 1.6473196082320363)\n",
      "         Predict: 0.0\n",
      "        Else (feature 24 > 1.6473196082320363)\n",
      "         Predict: 10.0\n",
      "       Else (feature 77 > 0.9763456156424473)\n",
      "        If (feature 11 <= 2.7997880726000144)\n",
      "         Predict: 0.0\n",
      "        Else (feature 11 > 2.7997880726000144)\n",
      "         Predict: 7.0\n",
      "      Else (feature 21 > -1.2319332683333586)\n",
      "       If (feature 44 <= -3.6080889170742854)\n",
      "        If (feature 24 <= -1.2707969351256034)\n",
      "         Predict: 11.0\n",
      "        Else (feature 24 > -1.2707969351256034)\n",
      "         Predict: 3.0\n",
      "       Else (feature 44 > -3.6080889170742854)\n",
      "        If (feature 8 <= 11.689236359188186)\n",
      "         Predict: 10.0\n",
      "        Else (feature 8 > 11.689236359188186)\n",
      "         Predict: 14.0\n",
      "     Else (feature 3 > 2.9937164106965417)\n",
      "      If (feature 10 <= 9.638621458627288)\n",
      "       If (feature 6 <= -15.630408806049719)\n",
      "        If (feature 23 <= 6.747040112608992)\n",
      "         Predict: 17.0\n",
      "        Else (feature 23 > 6.747040112608992)\n",
      "         Predict: 1.0\n",
      "       Else (feature 6 > -15.630408806049719)\n",
      "        If (feature 29 <= -2.206439877712522)\n",
      "         Predict: 15.0\n",
      "        Else (feature 29 > -2.206439877712522)\n",
      "         Predict: 9.0\n",
      "      Else (feature 10 > 9.638621458627288)\n",
      "       If (feature 18 <= -2.0650825166581592)\n",
      "        Predict: 14.0\n",
      "       Else (feature 18 > -2.0650825166581592)\n",
      "        Predict: 11.0\n",
      "  Tree 10 (weight 1.0):\n",
      "    If (feature 15 <= -4.010335289901997)\n",
      "     If (feature 2 <= 11.27226468016841)\n",
      "      If (feature 16 <= 2.524419161600763)\n",
      "       If (feature 25 <= 0.3519948526906118)\n",
      "        If (feature 15 <= -9.300887384454668)\n",
      "         Predict: 17.0\n",
      "        Else (feature 15 > -9.300887384454668)\n",
      "         Predict: 8.0\n",
      "       Else (feature 25 > 0.3519948526906118)\n",
      "        If (feature 13 <= -0.7830633682233306)\n",
      "         Predict: 14.0\n",
      "        Else (feature 13 > -0.7830633682233306)\n",
      "         Predict: 6.0\n",
      "      Else (feature 16 > 2.524419161600763)\n",
      "       If (feature 44 <= 2.498773487000376)\n",
      "        If (feature 29 <= 0.5654269215681391)\n",
      "         Predict: 17.0\n",
      "        Else (feature 29 > 0.5654269215681391)\n",
      "         Predict: 10.0\n",
      "       Else (feature 44 > 2.498773487000376)\n",
      "        Predict: 10.0\n",
      "     Else (feature 2 > 11.27226468016841)\n",
      "      If (feature 56 <= -1.6657664123911828)\n",
      "       If (feature 174 <= 0.3526459991368067)\n",
      "        If (feature 23 <= -1.1317717087867254)\n",
      "         Predict: 9.0\n",
      "        Else (feature 23 > -1.1317717087867254)\n",
      "         Predict: 3.0\n",
      "       Else (feature 174 > 0.3526459991368067)\n",
      "        If (feature 43 <= 1.234327018317376)\n",
      "         Predict: 2.0\n",
      "        Else (feature 43 > 1.234327018317376)\n",
      "         Predict: 7.0\n",
      "      Else (feature 56 > -1.6657664123911828)\n",
      "       If (feature 215 <= -0.8307978929988304)\n",
      "        If (feature 8 <= -1.1746103566000055)\n",
      "         Predict: 9.0\n",
      "        Else (feature 8 > -1.1746103566000055)\n",
      "         Predict: 3.0\n",
      "       Else (feature 215 > -0.8307978929988304)\n",
      "        If (feature 1 <= 7.806204428925806)\n",
      "         Predict: 3.0\n",
      "        Else (feature 1 > 7.806204428925806)\n",
      "         Predict: 10.0\n",
      "    Else (feature 15 > -4.010335289901997)\n",
      "     If (feature 16 <= 0.14639739491137654)\n",
      "      If (feature 29 <= 1.3171874236849526)\n",
      "       If (feature 24 <= 0.4847453586380256)\n",
      "        If (feature 8 <= 4.001006257265741)\n",
      "         Predict: 0.0\n",
      "        Else (feature 8 > 4.001006257265741)\n",
      "         Predict: 13.0\n",
      "       Else (feature 24 > 0.4847453586380256)\n",
      "        If (feature 61 <= -0.2483844723780732)\n",
      "         Predict: 19.0\n",
      "        Else (feature 61 > -0.2483844723780732)\n",
      "         Predict: 2.0\n",
      "      Else (feature 29 > 1.3171874236849526)\n",
      "       If (feature 0 <= -21.615848032675657)\n",
      "        Predict: 11.0\n",
      "       Else (feature 0 > -21.615848032675657)\n",
      "        If (feature 5 <= -5.227041195286349)\n",
      "         Predict: 0.0\n",
      "        Else (feature 5 > -5.227041195286349)\n",
      "         Predict: 4.0\n",
      "     Else (feature 16 > 0.14639739491137654)\n",
      "      If (feature 38 <= -5.0657907834390326)\n",
      "       If (feature 54 <= -0.19822974784028868)\n",
      "        If (feature 37 <= 3.8286582422888245)\n",
      "         Predict: 20.0\n",
      "        Else (feature 37 > 3.8286582422888245)\n",
      "         Predict: 10.0\n",
      "       Else (feature 54 > -0.19822974784028868)\n",
      "        If (feature 300 <= -0.3038187923903859)\n",
      "         Predict: 14.0\n",
      "        Else (feature 300 > -0.3038187923903859)\n",
      "         Predict: 4.0\n",
      "      Else (feature 38 > -5.0657907834390326)\n",
      "       If (feature 156 <= 2.257276933994364)\n",
      "        If (feature 20 <= 0.4498249639576728)\n",
      "         Predict: 1.0\n",
      "        Else (feature 20 > 0.4498249639576728)\n",
      "         Predict: 0.0\n",
      "       Else (feature 156 > 2.257276933994364)\n",
      "        If (feature 13 <= -1.9296809153545877)\n",
      "         Predict: 17.0\n",
      "        Else (feature 13 > -1.9296809153545877)\n",
      "         Predict: 16.0\n",
      "  Tree 11 (weight 1.0):\n",
      "    If (feature 8 <= -3.7398677781660763)\n",
      "     If (feature 20 <= -0.10312077579323067)\n",
      "      If (feature 6 <= 1.605649203085476)\n",
      "       If (feature 34 <= 1.0879269678298837)\n",
      "        If (feature 68 <= -2.0742136640725537)\n",
      "         Predict: 10.0\n",
      "        Else (feature 68 > -2.0742136640725537)\n",
      "         Predict: 18.0\n",
      "       Else (feature 34 > 1.0879269678298837)\n",
      "        If (feature 32 <= -0.18961062885827257)\n",
      "         Predict: 0.0\n",
      "        Else (feature 32 > -0.18961062885827257)\n",
      "         Predict: 1.0\n",
      "      Else (feature 6 > 1.605649203085476)\n",
      "       If (feature 21 <= 1.9171069420717797)\n",
      "        If (feature 19 <= -2.7826635115415876)\n",
      "         Predict: 11.0\n",
      "        Else (feature 19 > -2.7826635115415876)\n",
      "         Predict: 9.0\n",
      "       Else (feature 21 > 1.9171069420717797)\n",
      "        If (feature 128 <= 2.6397469653390635)\n",
      "         Predict: 9.0\n",
      "        Else (feature 128 > 2.6397469653390635)\n",
      "         Predict: 11.0\n",
      "     Else (feature 20 > -0.10312077579323067)\n",
      "      If (feature 15 <= -4.654821311596435)\n",
      "       If (feature 16 <= -5.1714159817445795)\n",
      "        If (feature 1 <= -15.311706488093229)\n",
      "         Predict: 8.0\n",
      "        Else (feature 1 > -15.311706488093229)\n",
      "         Predict: 9.0\n",
      "       Else (feature 16 > -5.1714159817445795)\n",
      "        If (feature 2 <= -0.083835926085461)\n",
      "         Predict: 6.0\n",
      "        Else (feature 2 > -0.083835926085461)\n",
      "         Predict: 10.0\n",
      "      Else (feature 15 > -4.654821311596435)\n",
      "       If (feature 10 <= -3.0597465744911396)\n",
      "        If (feature 78 <= -3.5087782534028644)\n",
      "         Predict: 16.0\n",
      "        Else (feature 78 > -3.5087782534028644)\n",
      "         Predict: 0.0\n",
      "       Else (feature 10 > -3.0597465744911396)\n",
      "        If (feature 18 <= 3.42897442241922)\n",
      "         Predict: 10.0\n",
      "        Else (feature 18 > 3.42897442241922)\n",
      "         Predict: 8.0\n",
      "    Else (feature 8 > -3.7398677781660763)\n",
      "     If (feature 31 <= 1.7826368213058186)\n",
      "      If (feature 4 <= -3.8445886904090756)\n",
      "       If (feature 1 <= -10.106259752404016)\n",
      "        If (feature 50 <= -4.23041871565235)\n",
      "         Predict: 17.0\n",
      "        Else (feature 50 > -4.23041871565235)\n",
      "         Predict: 14.0\n",
      "       Else (feature 1 > -10.106259752404016)\n",
      "        If (feature 10 <= 3.7387833611817003)\n",
      "         Predict: 16.0\n",
      "        Else (feature 10 > 3.7387833611817003)\n",
      "         Predict: 10.0\n",
      "      Else (feature 4 > -3.8445886904090756)\n",
      "       If (feature 14 <= 6.459007783684159)\n",
      "        If (feature 36 <= 0.7132026533344669)\n",
      "         Predict: 13.0\n",
      "        Else (feature 36 > 0.7132026533344669)\n",
      "         Predict: 2.0\n",
      "       Else (feature 14 > 6.459007783684159)\n",
      "        If (feature 5 <= -8.434090491073535)\n",
      "         Predict: 17.0\n",
      "        Else (feature 5 > -8.434090491073535)\n",
      "         Predict: 11.0\n",
      "     Else (feature 31 > 1.7826368213058186)\n",
      "      If (feature 32 <= -0.836010172719013)\n",
      "       If (feature 35 <= -0.7058046746122457)\n",
      "        If (feature 161 <= 0.43451950967697084)\n",
      "         Predict: 2.0\n",
      "        Else (feature 161 > 0.43451950967697084)\n",
      "         Predict: 14.0\n",
      "       Else (feature 35 > -0.7058046746122457)\n",
      "        If (feature 57 <= -4.086879957676162)\n",
      "         Predict: 2.0\n",
      "        Else (feature 57 > -4.086879957676162)\n",
      "         Predict: 19.0\n",
      "      Else (feature 32 > -0.836010172719013)\n",
      "       If (feature 40 <= -0.5031221824416843)\n",
      "        If (feature 19 <= 0.0028452746791842107)\n",
      "         Predict: 11.0\n",
      "        Else (feature 19 > 0.0028452746791842107)\n",
      "         Predict: 4.0\n",
      "       Else (feature 40 > -0.5031221824416843)\n",
      "        If (feature 2 <= 5.1751962982746775)\n",
      "         Predict: 15.0\n",
      "        Else (feature 2 > 5.1751962982746775)\n",
      "         Predict: 5.0\n",
      "  Tree 12 (weight 1.0):\n",
      "    If (feature 5 <= -8.434090491073535)\n",
      "     If (feature 1 <= -5.102182695817059)\n",
      "      If (feature 14 <= -6.591991289727208)\n",
      "       If (feature 7 <= -6.015551037788773)\n",
      "        Predict: 14.0\n",
      "       Else (feature 7 > -6.015551037788773)\n",
      "        If (feature 144 <= -1.6200140772184448)\n",
      "         Predict: 15.0\n",
      "        Else (feature 144 > -1.6200140772184448)\n",
      "         Predict: 17.0\n",
      "      Else (feature 14 > -6.591991289727208)\n",
      "       If (feature 4 <= -6.515384172168522)\n",
      "        If (feature 28 <= 0.692002923144731)\n",
      "         Predict: 14.0\n",
      "        Else (feature 28 > 0.692002923144731)\n",
      "         Predict: 9.0\n",
      "       Else (feature 4 > -6.515384172168522)\n",
      "        Predict: 17.0\n",
      "     Else (feature 1 > -5.102182695817059)\n",
      "      If (feature 32 <= -3.2367446724565028)\n",
      "       If (feature 13 <= 4.238281949986146)\n",
      "        If (feature 48 <= -0.18125629613101146)\n",
      "         Predict: 10.0\n",
      "        Else (feature 48 > -0.18125629613101146)\n",
      "         Predict: 2.0\n",
      "       Else (feature 13 > 4.238281949986146)\n",
      "        If (feature 56 <= -3.222933325731851)\n",
      "         Predict: 10.0\n",
      "        Else (feature 56 > -3.222933325731851)\n",
      "         Predict: 11.0\n",
      "      Else (feature 32 > -3.2367446724565028)\n",
      "       If (feature 63 <= -3.01523924494174)\n",
      "        If (feature 41 <= -2.3787024432279456)\n",
      "         Predict: 16.0\n",
      "        Else (feature 41 > -2.3787024432279456)\n",
      "         Predict: 11.0\n",
      "       Else (feature 63 > -3.01523924494174)\n",
      "        If (feature 17 <= -2.9604873917373418)\n",
      "         Predict: 11.0\n",
      "        Else (feature 17 > -2.9604873917373418)\n",
      "         Predict: 0.0\n",
      "    Else (feature 5 > -8.434090491073535)\n",
      "     If (feature 5 <= 9.81462093762508)\n",
      "      If (feature 9 <= 4.543780061669599)\n",
      "       If (feature 0 <= -4.496657330017494)\n",
      "        If (feature 97 <= 1.2930107729495488)\n",
      "         Predict: 20.0\n",
      "        Else (feature 97 > 1.2930107729495488)\n",
      "         Predict: 14.0\n",
      "       Else (feature 0 > -4.496657330017494)\n",
      "        If (feature 85 <= -1.0796946120842215)\n",
      "         Predict: 5.0\n",
      "        Else (feature 85 > -1.0796946120842215)\n",
      "         Predict: 12.0\n",
      "      Else (feature 9 > 4.543780061669599)\n",
      "       If (feature 40 <= -2.1164405810478586)\n",
      "        If (feature 24 <= -3.6975999936294155)\n",
      "         Predict: 11.0\n",
      "        Else (feature 24 > -3.6975999936294155)\n",
      "         Predict: 9.0\n",
      "       Else (feature 40 > -2.1164405810478586)\n",
      "        If (feature 16 <= -3.84257118370638)\n",
      "         Predict: 11.0\n",
      "        Else (feature 16 > -3.84257118370638)\n",
      "         Predict: 6.0\n",
      "     Else (feature 5 > 9.81462093762508)\n",
      "      If (feature 17 <= -1.4824246371366598)\n",
      "       If (feature 37 <= 0.18945247184133385)\n",
      "        If (feature 2 <= -5.522249655463781)\n",
      "         Predict: 20.0\n",
      "        Else (feature 2 > -5.522249655463781)\n",
      "         Predict: 3.0\n",
      "       Else (feature 37 > 0.18945247184133385)\n",
      "        If (feature 32 <= -0.41405877731034746)\n",
      "         Predict: 3.0\n",
      "        Else (feature 32 > -0.41405877731034746)\n",
      "         Predict: 20.0\n",
      "      Else (feature 17 > -1.4824246371366598)\n",
      "       If (feature 1 <= -10.106259752404016)\n",
      "        Predict: 8.0\n",
      "       Else (feature 1 > -10.106259752404016)\n",
      "        If (feature 47 <= -1.2195675721023767)\n",
      "         Predict: 10.0\n",
      "        Else (feature 47 > -1.2195675721023767)\n",
      "         Predict: 15.0\n",
      "  Tree 13 (weight 1.0):\n",
      "    If (feature 28 <= -0.8949487783774048)\n",
      "     If (feature 46 <= -0.18314629563710647)\n",
      "      If (feature 15 <= -9.300887384454668)\n",
      "       If (feature 32 <= 0.6438867213921038)\n",
      "        If (feature 1 <= -7.349477548552759)\n",
      "         Predict: 17.0\n",
      "        Else (feature 1 > -7.349477548552759)\n",
      "         Predict: 6.0\n",
      "       Else (feature 32 > 0.6438867213921038)\n",
      "        If (feature 47 <= 0.3878445435054183)\n",
      "         Predict: 2.0\n",
      "        Else (feature 47 > 0.3878445435054183)\n",
      "         Predict: 3.0\n",
      "      Else (feature 15 > -9.300887384454668)\n",
      "       If (feature 12 <= 5.8267645323664015)\n",
      "        If (feature 37 <= 1.9722401384529442)\n",
      "         Predict: 0.0\n",
      "        Else (feature 37 > 1.9722401384529442)\n",
      "         Predict: 11.0\n",
      "       Else (feature 12 > 5.8267645323664015)\n",
      "        If (feature 3 <= 0.00575393225112537)\n",
      "         Predict: 16.0\n",
      "        Else (feature 3 > 0.00575393225112537)\n",
      "         Predict: 8.0\n",
      "     Else (feature 46 > -0.18314629563710647)\n",
      "      If (feature 20 <= 1.26491391738968)\n",
      "       If (feature 1 <= -15.311706488093229)\n",
      "        If (feature 42 <= -1.6805800685112688)\n",
      "         Predict: 20.0\n",
      "        Else (feature 42 > -1.6805800685112688)\n",
      "         Predict: 8.0\n",
      "       Else (feature 1 > -15.311706488093229)\n",
      "        If (feature 12 <= -11.196407898352906)\n",
      "         Predict: 10.0\n",
      "        Else (feature 12 > -11.196407898352906)\n",
      "         Predict: 7.0\n",
      "      Else (feature 20 > 1.26491391738968)\n",
      "       If (feature 0 <= -9.623898625755324)\n",
      "        If (feature 10 <= 1.3062416873137952)\n",
      "         Predict: 8.0\n",
      "        Else (feature 10 > 1.3062416873137952)\n",
      "         Predict: 10.0\n",
      "       Else (feature 0 > -9.623898625755324)\n",
      "        If (feature 2 <= 7.2059676174161265)\n",
      "         Predict: 13.0\n",
      "        Else (feature 2 > 7.2059676174161265)\n",
      "         Predict: 15.0\n",
      "    Else (feature 28 > -0.8949487783774048)\n",
      "     If (feature 24 <= -1.952211910105102)\n",
      "      If (feature 14 <= 4.828264677090189)\n",
      "       If (feature 6 <= -6.853919280454958)\n",
      "        If (feature 80 <= -2.615581344050748)\n",
      "         Predict: 17.0\n",
      "        Else (feature 80 > -2.615581344050748)\n",
      "         Predict: 20.0\n",
      "       Else (feature 6 > -6.853919280454958)\n",
      "        If (feature 47 <= 3.5518747681056198)\n",
      "         Predict: 13.0\n",
      "        Else (feature 47 > 3.5518747681056198)\n",
      "         Predict: 11.0\n",
      "      Else (feature 14 > 4.828264677090189)\n",
      "       If (feature 31 <= -0.5739664908409701)\n",
      "        If (feature 50 <= -0.9960629871581026)\n",
      "         Predict: 14.0\n",
      "        Else (feature 50 > -0.9960629871581026)\n",
      "         Predict: 11.0\n",
      "       Else (feature 31 > -0.5739664908409701)\n",
      "        If (feature 105 <= -2.2696661415815247)\n",
      "         Predict: 7.0\n",
      "        Else (feature 105 > -2.2696661415815247)\n",
      "         Predict: 14.0\n",
      "     Else (feature 24 > -1.952211910105102)\n",
      "      If (feature 26 <= 0.98684460380502)\n",
      "       If (feature 23 <= -1.6717880221818338)\n",
      "        If (feature 38 <= -0.4766170793806106)\n",
      "         Predict: 5.0\n",
      "        Else (feature 38 > -0.4766170793806106)\n",
      "         Predict: 2.0\n",
      "       Else (feature 23 > -1.6717880221818338)\n",
      "        If (feature 33 <= 0.7021001980788559)\n",
      "         Predict: 1.0\n",
      "        Else (feature 33 > 0.7021001980788559)\n",
      "         Predict: 6.0\n",
      "      Else (feature 26 > 0.98684460380502)\n",
      "       If (feature 62 <= 1.238398161205946)\n",
      "        If (feature 6 <= 3.098020105337433)\n",
      "         Predict: 16.0\n",
      "        Else (feature 6 > 3.098020105337433)\n",
      "         Predict: 9.0\n",
      "       Else (feature 62 > 1.238398161205946)\n",
      "        If (feature 6 <= -9.60512856096356)\n",
      "         Predict: 17.0\n",
      "        Else (feature 6 > -9.60512856096356)\n",
      "         Predict: 2.0\n",
      "  Tree 14 (weight 1.0):\n",
      "    If (feature 32 <= -0.41405877731034746)\n",
      "     If (feature 0 <= -9.623898625755324)\n",
      "      If (feature 8 <= 9.134842177087092)\n",
      "       If (feature 35 <= 2.921734956595775)\n",
      "        If (feature 5 <= 15.785521997344418)\n",
      "         Predict: 10.0\n",
      "        Else (feature 5 > 15.785521997344418)\n",
      "         Predict: 8.0\n",
      "       Else (feature 35 > 2.921734956595775)\n",
      "        If (feature 1 <= 0.32011659147792193)\n",
      "         Predict: 9.0\n",
      "        Else (feature 1 > 0.32011659147792193)\n",
      "         Predict: 11.0\n",
      "      Else (feature 8 > 9.134842177087092)\n",
      "       If (feature 20 <= -4.697165167150212)\n",
      "        If (feature 75 <= -2.816881806967166)\n",
      "         Predict: 20.0\n",
      "        Else (feature 75 > -2.816881806967166)\n",
      "         Predict: 19.0\n",
      "       Else (feature 20 > -4.697165167150212)\n",
      "        If (feature 71 <= -1.6321968886903813)\n",
      "         Predict: 15.0\n",
      "        Else (feature 71 > -1.6321968886903813)\n",
      "         Predict: 14.0\n",
      "     Else (feature 0 > -9.623898625755324)\n",
      "      If (feature 7 <= 2.2396691590433937)\n",
      "       If (feature 12 <= 3.220225087974299)\n",
      "        If (feature 27 <= 2.0866399743331794)\n",
      "         Predict: 18.0\n",
      "        Else (feature 27 > 2.0866399743331794)\n",
      "         Predict: 19.0\n",
      "       Else (feature 12 > 3.220225087974299)\n",
      "        If (feature 3 <= -7.8756653036275)\n",
      "         Predict: 6.0\n",
      "        Else (feature 3 > -7.8756653036275)\n",
      "         Predict: 9.0\n",
      "      Else (feature 7 > 2.2396691590433937)\n",
      "       If (feature 1 <= -2.0388756181359935)\n",
      "        If (feature 67 <= -0.11650299983817142)\n",
      "         Predict: 12.0\n",
      "        Else (feature 67 > -0.11650299983817142)\n",
      "         Predict: 19.0\n",
      "       Else (feature 1 > -2.0388756181359935)\n",
      "        If (feature 48 <= -2.269623885643747)\n",
      "         Predict: 3.0\n",
      "        Else (feature 48 > -2.269623885643747)\n",
      "         Predict: 2.0\n",
      "    Else (feature 32 > -0.41405877731034746)\n",
      "     If (feature 6 <= -15.630408806049719)\n",
      "      If (feature 47 <= 3.5518747681056198)\n",
      "       If (feature 1 <= -3.4490075465257486)\n",
      "        Predict: 17.0\n",
      "       Else (feature 1 > -3.4490075465257486)\n",
      "        If (feature 127 <= 1.3226020262064626)\n",
      "         Predict: 16.0\n",
      "        Else (feature 127 > 1.3226020262064626)\n",
      "         Predict: 1.0\n",
      "      Else (feature 47 > 3.5518747681056198)\n",
      "       If (feature 2 <= 6.277925209478752)\n",
      "        Predict: 17.0\n",
      "       Else (feature 2 > 6.277925209478752)\n",
      "        Predict: 16.0\n",
      "     Else (feature 6 > -15.630408806049719)\n",
      "      If (feature 6 <= 2.1046537932759937)\n",
      "       If (feature 81 <= -0.8113986734214311)\n",
      "        If (feature 83 <= -0.8254402655946615)\n",
      "         Predict: 5.0\n",
      "        Else (feature 83 > -0.8254402655946615)\n",
      "         Predict: 16.0\n",
      "       Else (feature 81 > -0.8113986734214311)\n",
      "        If (feature 42 <= 2.5129641695394715)\n",
      "         Predict: 1.0\n",
      "        Else (feature 42 > 2.5129641695394715)\n",
      "         Predict: 4.0\n",
      "      Else (feature 6 > 2.1046537932759937)\n",
      "       If (feature 46 <= 0.5011709050478295)\n",
      "        If (feature 1 <= 10.361151407770237)\n",
      "         Predict: 0.0\n",
      "        Else (feature 1 > 10.361151407770237)\n",
      "         Predict: 10.0\n",
      "       Else (feature 46 > 0.5011709050478295)\n",
      "        If (feature 110 <= 1.6240070766404107)\n",
      "         Predict: 7.0\n",
      "        Else (feature 110 > 1.6240070766404107)\n",
      "         Predict: 11.0\n",
      "  Tree 15 (weight 1.0):\n",
      "    If (feature 27 <= -2.9168123805685235)\n",
      "     If (feature 7 <= -3.963385536056802)\n",
      "      If (feature 40 <= 0.6410909749438306)\n",
      "       If (feature 1 <= -5.887553271027718)\n",
      "        If (feature 19 <= 3.345147968533226)\n",
      "         Predict: 9.0\n",
      "        Else (feature 19 > 3.345147968533226)\n",
      "         Predict: 17.0\n",
      "       Else (feature 1 > -5.887553271027718)\n",
      "        Predict: 9.0\n",
      "      Else (feature 40 > 0.6410909749438306)\n",
      "       If (feature 153 <= 0.1776021654516015)\n",
      "        If (feature 22 <= -2.478977371945941)\n",
      "         Predict: 15.0\n",
      "        Else (feature 22 > -2.478977371945941)\n",
      "         Predict: 9.0\n",
      "       Else (feature 153 > 0.1776021654516015)\n",
      "        If (feature 70 <= -0.3004974315871246)\n",
      "         Predict: 9.0\n",
      "        Else (feature 70 > -0.3004974315871246)\n",
      "         Predict: 18.0\n",
      "     Else (feature 7 > -3.963385536056802)\n",
      "      If (feature 90 <= 1.3690361167382938)\n",
      "       If (feature 21 <= 0.7186683076475493)\n",
      "        If (feature 42 <= 5.447135434741533)\n",
      "         Predict: 2.0\n",
      "        Else (feature 42 > 5.447135434741533)\n",
      "         Predict: 11.0\n",
      "       Else (feature 21 > 0.7186683076475493)\n",
      "        If (feature 2 <= -0.083835926085461)\n",
      "         Predict: 13.0\n",
      "        Else (feature 2 > -0.083835926085461)\n",
      "         Predict: 2.0\n",
      "      Else (feature 90 > 1.3690361167382938)\n",
      "       If (feature 8 <= 2.180550600155597)\n",
      "        If (feature 0 <= -27.524521231747357)\n",
      "         Predict: 11.0\n",
      "        Else (feature 0 > -27.524521231747357)\n",
      "         Predict: 16.0\n",
      "       Else (feature 8 > 2.180550600155597)\n",
      "        If (feature 222 <= -0.9426662817397415)\n",
      "         Predict: 3.0\n",
      "        Else (feature 222 > -0.9426662817397415)\n",
      "         Predict: 17.0\n",
      "    Else (feature 27 > -2.9168123805685235)\n",
      "     If (feature 12 <= -5.465560422596454)\n",
      "      If (feature 0 <= -21.615848032675657)\n",
      "       If (feature 23 <= 0.1880934584261586)\n",
      "        If (feature 22 <= 3.178045417790763)\n",
      "         Predict: 11.0\n",
      "        Else (feature 22 > 3.178045417790763)\n",
      "         Predict: 10.0\n",
      "       Else (feature 23 > 0.1880934584261586)\n",
      "        If (feature 10 <= -1.8431179710772474)\n",
      "         Predict: 20.0\n",
      "        Else (feature 10 > -1.8431179710772474)\n",
      "         Predict: 10.0\n",
      "      Else (feature 0 > -21.615848032675657)\n",
      "       If (feature 24 <= 1.6473196082320363)\n",
      "        If (feature 10 <= -3.0597465744911396)\n",
      "         Predict: 20.0\n",
      "        Else (feature 10 > -3.0597465744911396)\n",
      "         Predict: 18.0\n",
      "       Else (feature 24 > 1.6473196082320363)\n",
      "        If (feature 87 <= 0.4672008950371086)\n",
      "         Predict: 19.0\n",
      "        Else (feature 87 > 0.4672008950371086)\n",
      "         Predict: 1.0\n",
      "     Else (feature 12 > -5.465560422596454)\n",
      "      If (feature 0 <= -7.027327516535486)\n",
      "       If (feature 3 <= -5.404047396663046)\n",
      "        If (feature 19 <= 6.1106365530095434)\n",
      "         Predict: 16.0\n",
      "        Else (feature 19 > 6.1106365530095434)\n",
      "         Predict: 10.0\n",
      "       Else (feature 3 > -5.404047396663046)\n",
      "        If (feature 36 <= 2.337510776352053)\n",
      "         Predict: 14.0\n",
      "        Else (feature 36 > 2.337510776352053)\n",
      "         Predict: 8.0\n",
      "      Else (feature 0 > -7.027327516535486)\n",
      "       If (feature 7 <= 2.7179399042169217)\n",
      "        If (feature 3 <= -7.8756653036275)\n",
      "         Predict: 7.0\n",
      "        Else (feature 3 > -7.8756653036275)\n",
      "         Predict: 0.0\n",
      "       Else (feature 7 > 2.7179399042169217)\n",
      "        If (feature 4 <= -4.673121225075619)\n",
      "         Predict: 0.0\n",
      "        Else (feature 4 > -4.673121225075619)\n",
      "         Predict: 12.0\n",
      "  Tree 16 (weight 1.0):\n",
      "    If (feature 2 <= 17.56264029947857)\n",
      "     If (feature 17 <= -6.698867614955274)\n",
      "      If (feature 12 <= 3.819346832095658)\n",
      "       If (feature 18 <= -0.014587726923401528)\n",
      "        If (feature 5 <= -9.976203689690031)\n",
      "         Predict: 17.0\n",
      "        Else (feature 5 > -9.976203689690031)\n",
      "         Predict: 9.0\n",
      "       Else (feature 18 > -0.014587726923401528)\n",
      "        If (feature 35 <= 2.5191801823137556)\n",
      "         Predict: 20.0\n",
      "        Else (feature 35 > 2.5191801823137556)\n",
      "         Predict: 11.0\n",
      "      Else (feature 12 > 3.819346832095658)\n",
      "       If (feature 135 <= -2.363624140946354)\n",
      "        If (feature 14 <= 6.459007783684159)\n",
      "         Predict: 16.0\n",
      "        Else (feature 14 > 6.459007783684159)\n",
      "         Predict: 14.0\n",
      "       Else (feature 135 > -2.363624140946354)\n",
      "        If (feature 10 <= -3.0597465744911396)\n",
      "         Predict: 16.0\n",
      "        Else (feature 10 > -3.0597465744911396)\n",
      "         Predict: 14.0\n",
      "     Else (feature 17 > -6.698867614955274)\n",
      "      If (feature 5 <= 7.974506932892629)\n",
      "       If (feature 8 <= -1.1746103566000055)\n",
      "        If (feature 86 <= -0.9444049210480834)\n",
      "         Predict: 18.0\n",
      "        Else (feature 86 > -0.9444049210480834)\n",
      "         Predict: 0.0\n",
      "       Else (feature 8 > -1.1746103566000055)\n",
      "        If (feature 42 <= 3.7535372150916917)\n",
      "         Predict: 13.0\n",
      "        Else (feature 42 > 3.7535372150916917)\n",
      "         Predict: 4.0\n",
      "      Else (feature 5 > 7.974506932892629)\n",
      "       If (feature 11 <= 7.0494636431271545)\n",
      "        If (feature 1 <= -10.106259752404016)\n",
      "         Predict: 8.0\n",
      "        Else (feature 1 > -10.106259752404016)\n",
      "         Predict: 10.0\n",
      "       Else (feature 11 > 7.0494636431271545)\n",
      "        If (feature 193 <= -0.9070210103392695)\n",
      "         Predict: 8.0\n",
      "        Else (feature 193 > -0.9070210103392695)\n",
      "         Predict: 20.0\n",
      "    Else (feature 2 > 17.56264029947857)\n",
      "     If (feature 13 <= -1.578649498499408)\n",
      "      If (feature 101 <= 2.357327943452896)\n",
      "       If (feature 45 <= 3.7068283535202786)\n",
      "        If (feature 10 <= -4.818698854924048)\n",
      "         Predict: 4.0\n",
      "        Else (feature 10 > -4.818698854924048)\n",
      "         Predict: 3.0\n",
      "       Else (feature 45 > 3.7068283535202786)\n",
      "        If (feature 41 <= -4.561922763293843)\n",
      "         Predict: 7.0\n",
      "        Else (feature 41 > -4.561922763293843)\n",
      "         Predict: 3.0\n",
      "      Else (feature 101 > 2.357327943452896)\n",
      "       If (feature 361 <= 0.9144073718896428)\n",
      "        Predict: 4.0\n",
      "       Else (feature 361 > 0.9144073718896428)\n",
      "        Predict: 3.0\n",
      "     Else (feature 13 > -1.578649498499408)\n",
      "      If (feature 63 <= -3.01523924494174)\n",
      "       If (feature 67 <= -1.9758742740976445)\n",
      "        Predict: 5.0\n",
      "       Else (feature 67 > -1.9758742740976445)\n",
      "        Predict: 3.0\n",
      "      Else (feature 63 > -3.01523924494174)\n",
      "       If (feature 14 <= -3.5072157853363546)\n",
      "        If (feature 13 <= 3.5892279350974152)\n",
      "         Predict: 9.0\n",
      "        Else (feature 13 > 3.5892279350974152)\n",
      "         Predict: 3.0\n",
      "       Else (feature 14 > -3.5072157853363546)\n",
      "        If (feature 178 <= -0.7933258021641223)\n",
      "         Predict: 5.0\n",
      "        Else (feature 178 > -0.7933258021641223)\n",
      "         Predict: 15.0\n",
      "  Tree 17 (weight 1.0):\n",
      "    If (feature 1 <= -10.106259752404016)\n",
      "     If (feature 29 <= 3.579264572032531)\n",
      "      If (feature 9 <= -9.70025010356029)\n",
      "       If (feature 34 <= -2.028930327259369)\n",
      "        If (feature 116 <= 0.6149862067388681)\n",
      "         Predict: 8.0\n",
      "        Else (feature 116 > 0.6149862067388681)\n",
      "         Predict: 14.0\n",
      "       Else (feature 34 > -2.028930327259369)\n",
      "        If (feature 256 <= 1.69566805177972)\n",
      "         Predict: 14.0\n",
      "        Else (feature 256 > 1.69566805177972)\n",
      "         Predict: 8.0\n",
      "      Else (feature 9 > -9.70025010356029)\n",
      "       If (feature 31 <= 1.0473562418877402)\n",
      "        If (feature 3 <= 5.35827332197954)\n",
      "         Predict: 20.0\n",
      "        Else (feature 3 > 5.35827332197954)\n",
      "         Predict: 8.0\n",
      "       Else (feature 31 > 1.0473562418877402)\n",
      "        If (feature 1 <= -17.88496871293279)\n",
      "         Predict: 8.0\n",
      "        Else (feature 1 > -17.88496871293279)\n",
      "         Predict: 14.0\n",
      "     Else (feature 29 > 3.579264572032531)\n",
      "      If (feature 55 <= -0.16799644665839308)\n",
      "       If (feature 48 <= 2.329365817685286)\n",
      "        If (feature 0 <= -24.36139665517301)\n",
      "         Predict: 8.0\n",
      "        Else (feature 0 > -24.36139665517301)\n",
      "         Predict: 17.0\n",
      "       Else (feature 48 > 2.329365817685286)\n",
      "        Predict: 14.0\n",
      "      Else (feature 55 > -0.16799644665839308)\n",
      "       If (feature 4 <= 5.071569336175134)\n",
      "        If (feature 21 <= 3.352804201167643)\n",
      "         Predict: 17.0\n",
      "        Else (feature 21 > 3.352804201167643)\n",
      "         Predict: 14.0\n",
      "       Else (feature 4 > 5.071569336175134)\n",
      "        If (feature 9 <= -1.7933220338019873)\n",
      "         Predict: 20.0\n",
      "        Else (feature 9 > -1.7933220338019873)\n",
      "         Predict: 17.0\n",
      "    Else (feature 1 > -10.106259752404016)\n",
      "     If (feature 59 <= -3.0251069316313908)\n",
      "      If (feature 78 <= -0.7117735457020413)\n",
      "       If (feature 10 <= -2.6519260615256552)\n",
      "        If (feature 8 <= 3.5036223500438313)\n",
      "         Predict: 0.0\n",
      "        Else (feature 8 > 3.5036223500438313)\n",
      "         Predict: 20.0\n",
      "       Else (feature 10 > -2.6519260615256552)\n",
      "        If (feature 161 <= -0.537924819431966)\n",
      "         Predict: 3.0\n",
      "        Else (feature 161 > -0.537924819431966)\n",
      "         Predict: 10.0\n",
      "      Else (feature 78 > -0.7117735457020413)\n",
      "       If (feature 77 <= 1.3505470351115179)\n",
      "        If (feature 16 <= -2.352258484441209)\n",
      "         Predict: 11.0\n",
      "        Else (feature 16 > -2.352258484441209)\n",
      "         Predict: 10.0\n",
      "       Else (feature 77 > 1.3505470351115179)\n",
      "        If (feature 15 <= -4.654821311596435)\n",
      "         Predict: 6.0\n",
      "        Else (feature 15 > -4.654821311596435)\n",
      "         Predict: 11.0\n",
      "     Else (feature 59 > -3.0251069316313908)\n",
      "      If (feature 7 <= 2.7179399042169217)\n",
      "       If (feature 4 <= -5.551355508523551)\n",
      "        If (feature 3 <= -5.404047396663046)\n",
      "         Predict: 16.0\n",
      "        Else (feature 3 > -5.404047396663046)\n",
      "         Predict: 9.0\n",
      "       Else (feature 4 > -5.551355508523551)\n",
      "        If (feature 34 <= -0.9964047950441239)\n",
      "         Predict: 15.0\n",
      "        Else (feature 34 > -0.9964047950441239)\n",
      "         Predict: 1.0\n",
      "      Else (feature 7 > 2.7179399042169217)\n",
      "       If (feature 15 <= -4.654821311596435)\n",
      "        Predict: 3.0\n",
      "       Else (feature 15 > -4.654821311596435)\n",
      "        If (feature 10 <= -4.818698854924048)\n",
      "         Predict: 0.0\n",
      "        Else (feature 10 > -4.818698854924048)\n",
      "         Predict: 12.0\n",
      "  Tree 18 (weight 1.0):\n",
      "    If (feature 15 <= -9.300887384454668)\n",
      "     If (feature 93 <= -3.104665448134708)\n",
      "      If (feature 27 <= 2.0866399743331794)\n",
      "       Predict: 3.0\n",
      "      Else (feature 27 > 2.0866399743331794)\n",
      "       Predict: 6.0\n",
      "     Else (feature 93 > -3.104665448134708)\n",
      "      If (feature 74 <= -3.3778829710415144)\n",
      "       If (feature 4 <= -6.515384172168522)\n",
      "        Predict: 3.0\n",
      "       Else (feature 4 > -6.515384172168522)\n",
      "        If (feature 37 <= 0.5509337592354335)\n",
      "         Predict: 2.0\n",
      "        Else (feature 37 > 0.5509337592354335)\n",
      "         Predict: 6.0\n",
      "      Else (feature 74 > -3.3778829710415144)\n",
      "       If (feature 6 <= -9.60512856096356)\n",
      "        Predict: 17.0\n",
      "       Else (feature 6 > -9.60512856096356)\n",
      "        If (feature 123 <= 1.73377320498794)\n",
      "         Predict: 3.0\n",
      "        Else (feature 123 > 1.73377320498794)\n",
      "         Predict: 2.0\n",
      "    Else (feature 15 > -9.300887384454668)\n",
      "     If (feature 0 <= -7.027327516535486)\n",
      "      If (feature 7 <= -4.615417703496593)\n",
      "       If (feature 5 <= -9.976203689690031)\n",
      "        If (feature 154 <= 2.3406724597361315)\n",
      "         Predict: 14.0\n",
      "        Else (feature 154 > 2.3406724597361315)\n",
      "         Predict: 17.0\n",
      "       Else (feature 5 > -9.976203689690031)\n",
      "        If (feature 16 <= -0.5206392117166014)\n",
      "         Predict: 11.0\n",
      "        Else (feature 16 > -0.5206392117166014)\n",
      "         Predict: 14.0\n",
      "      Else (feature 7 > -4.615417703496593)\n",
      "       If (feature 18 <= 1.708799445423295)\n",
      "        If (feature 41 <= -2.6622935177537315)\n",
      "         Predict: 10.0\n",
      "        Else (feature 41 > -2.6622935177537315)\n",
      "         Predict: 20.0\n",
      "       Else (feature 18 > 1.708799445423295)\n",
      "        If (feature 6 <= -6.853919280454958)\n",
      "         Predict: 16.0\n",
      "        Else (feature 6 > -6.853919280454958)\n",
      "         Predict: 8.0\n",
      "     Else (feature 0 > -7.027327516535486)\n",
      "      If (feature 58 <= -1.9641639484225988)\n",
      "       If (feature 46 <= 0.5011709050478295)\n",
      "        If (feature 25 <= -3.4821422262330946)\n",
      "         Predict: 16.0\n",
      "        Else (feature 25 > -3.4821422262330946)\n",
      "         Predict: 12.0\n",
      "       Else (feature 46 > 0.5011709050478295)\n",
      "        If (feature 21 <= -2.6848195261263923)\n",
      "         Predict: 1.0\n",
      "        Else (feature 21 > -2.6848195261263923)\n",
      "         Predict: 5.0\n",
      "      Else (feature 58 > -1.9641639484225988)\n",
      "       If (feature 4 <= -5.551355508523551)\n",
      "        If (feature 12 <= -2.9534680329494885)\n",
      "         Predict: 9.0\n",
      "        Else (feature 12 > -2.9534680329494885)\n",
      "         Predict: 0.0\n",
      "       Else (feature 4 > -5.551355508523551)\n",
      "        If (feature 3 <= -10.907871911738955)\n",
      "         Predict: 13.0\n",
      "        Else (feature 3 > -10.907871911738955)\n",
      "         Predict: 18.0\n",
      "  Tree 19 (weight 1.0):\n",
      "    If (feature 1 <= -10.106259752404016)\n",
      "     If (feature 6 <= -0.4361942680208251)\n",
      "      If (feature 5 <= 15.785521997344418)\n",
      "       If (feature 10 <= -2.2249373172719507)\n",
      "        If (feature 12 <= -1.5891142944323657)\n",
      "         Predict: 20.0\n",
      "        Else (feature 12 > -1.5891142944323657)\n",
      "         Predict: 17.0\n",
      "       Else (feature 10 > -2.2249373172719507)\n",
      "        If (feature 8 <= -1.1746103566000055)\n",
      "         Predict: 8.0\n",
      "        Else (feature 8 > -1.1746103566000055)\n",
      "         Predict: 17.0\n",
      "      Else (feature 5 > 15.785521997344418)\n",
      "       If (feature 28 <= 2.496807229743648)\n",
      "        Predict: 8.0\n",
      "       Else (feature 28 > 2.496807229743648)\n",
      "        If (feature 291 <= 0.45019124953004674)\n",
      "         Predict: 8.0\n",
      "        Else (feature 291 > 0.45019124953004674)\n",
      "         Predict: 20.0\n",
      "     Else (feature 6 > -0.4361942680208251)\n",
      "      If (feature 51 <= -3.347956502995571)\n",
      "       If (feature 48 <= -4.557967836703804)\n",
      "        Predict: 17.0\n",
      "       Else (feature 48 > -4.557967836703804)\n",
      "        Predict: 8.0\n",
      "      Else (feature 51 > -3.347956502995571)\n",
      "       If (feature 68 <= -0.013615410159168128)\n",
      "        If (feature 3 <= 5.35827332197954)\n",
      "         Predict: 14.0\n",
      "        Else (feature 3 > 5.35827332197954)\n",
      "         Predict: 8.0\n",
      "       Else (feature 68 > -0.013615410159168128)\n",
      "        If (feature 43 <= -1.6697236767327772)\n",
      "         Predict: 8.0\n",
      "        Else (feature 43 > -1.6697236767327772)\n",
      "         Predict: 14.0\n",
      "    Else (feature 1 > -10.106259752404016)\n",
      "     If (feature 21 <= -1.5408222928634894)\n",
      "      If (feature 46 <= 3.614833299883548)\n",
      "       If (feature 12 <= 8.6694286052646)\n",
      "        If (feature 15 <= -4.654821311596435)\n",
      "         Predict: 6.0\n",
      "        Else (feature 15 > -4.654821311596435)\n",
      "         Predict: 0.0\n",
      "       Else (feature 12 > 8.6694286052646)\n",
      "        Predict: 16.0\n",
      "      Else (feature 46 > 3.614833299883548)\n",
      "       If (feature 35 <= 2.921734956595775)\n",
      "        If (feature 27 <= 3.8226720375324996)\n",
      "         Predict: 15.0\n",
      "        Else (feature 27 > 3.8226720375324996)\n",
      "         Predict: 7.0\n",
      "       Else (feature 35 > 2.921734956595775)\n",
      "        If (feature 15 <= -5.571284492774813)\n",
      "         Predict: 17.0\n",
      "        Else (feature 15 > -5.571284492774813)\n",
      "         Predict: 11.0\n",
      "     Else (feature 21 > -1.5408222928634894)\n",
      "      If (feature 9 <= 4.543780061669599)\n",
      "       If (feature 35 <= -2.7210180287257364)\n",
      "        If (feature 24 <= -1.5733131177602226)\n",
      "         Predict: 11.0\n",
      "        Else (feature 24 > -1.5733131177602226)\n",
      "         Predict: 4.0\n",
      "       Else (feature 35 > -2.7210180287257364)\n",
      "        If (feature 56 <= 0.44570035065772534)\n",
      "         Predict: 2.0\n",
      "        Else (feature 56 > 0.44570035065772534)\n",
      "         Predict: 3.0\n",
      "      Else (feature 9 > 4.543780061669599)\n",
      "       If (feature 26 <= 0.98684460380502)\n",
      "        If (feature 30 <= -2.264103808229163)\n",
      "         Predict: 6.0\n",
      "        Else (feature 30 > -2.264103808229163)\n",
      "         Predict: 19.0\n",
      "       Else (feature 26 > 0.98684460380502)\n",
      "        If (feature 71 <= 1.6187671308502631)\n",
      "         Predict: 13.0\n",
      "        Else (feature 71 > 1.6187671308502631)\n",
      "         Predict: 11.0\n",
      "\n"
     ]
    }
   ],
   "source": [
    "print(rf_model.toDebugString)"
   ]
  }
 ],
 "metadata": {
  "application/vnd.databricks.v1+notebook": {
   "dashboards": [],
   "language": "python",
   "notebookMetadata": {
    "pythonIndentUnit": 2
   },
   "notebookName": "P8_01_02_notebook_CLOUD_MICROSOFT_AZURE",
   "notebookOrigID": 4315607351357703,
   "widgets": {}
  },
  "kernelspec": {
   "display_name": "Python 3 (ipykernel)",
   "language": "python",
   "name": "python3"
  },
  "language_info": {
   "codemirror_mode": {
    "name": "ipython",
    "version": 3
   },
   "file_extension": ".py",
   "mimetype": "text/x-python",
   "name": "python",
   "nbconvert_exporter": "python",
   "pygments_lexer": "ipython3",
   "version": "3.9.2"
  },
  "toc": {
   "base_numbering": 1,
   "nav_menu": {},
   "number_sections": true,
   "sideBar": true,
   "skip_h1_title": false,
   "title_cell": "Table of Contents",
   "title_sidebar": "Contents",
   "toc_cell": false,
   "toc_position": {},
   "toc_section_display": true,
   "toc_window_display": false
  },
  "vscode": {
   "interpreter": {
    "hash": "c19fa61d258bb2b35aae2ada233c33e2817c1ce895aa48acba720c6bf7cbe3cb"
   }
  }
 },
 "nbformat": 4,
 "nbformat_minor": 1
}
